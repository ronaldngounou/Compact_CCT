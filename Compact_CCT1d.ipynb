{
  "cells": [
    {
      "cell_type": "code",
      "execution_count": 1,
      "metadata": {},
      "outputs": [],
      "source": [
        "import torch\n",
        "import numpy as np\n",
        "import  pandas as pd\n",
        "\n",
        "class DataSet:\n",
        "    \"\"\"\n",
        "    This class is used to create the data to be used in the CCT model\n",
        "    \"\"\"\n",
        "    def __init__(self, fp='C:\\Education\\MSCS UDC\\Research Projects\\CCT Project\\datasets\\Ammonium ACTSOR-AQUA-UDC-1 2017-01-26T01%3A01&to=2017-01-26T12%3A59.json', look_back=5) -> None:\n",
        "        self.fp = fp # file path\n",
        "        self.data = self.load_file() \n",
        "        self.look_back = look_back\n",
        "        self.dataset = self.__data() \n",
        "        self.X, self.y = self.create_dataset()\n",
        "\n",
        "    def load_file(self):\n",
        "        data = pd.read_json(self.fp)\n",
        "        data['readTime'] = pd.to_datetime(data['readTime'])\n",
        "        data.set_index('readTime', inplace=True)\n",
        "        return data\n",
        "\n",
        "\n",
        "    def __data(self):\n",
        "        \"\"\"\n",
        "        Perfom min-max scaling on the data\n",
        "        \"\"\"\n",
        "        dataset = self.data\n",
        "        max_value = np.max(dataset['ammonium']) \n",
        "        min_value = np.min(dataset['ammonium']) \n",
        "        range_val = max_value - min_value\n",
        "        return list(map(lambda x: x/range_val, dataset['ammonium']))\n",
        "\n",
        "    def create_dataset(self):\n",
        "        X, y = [], []\n",
        "        for i in range(len(self.dataset) - self.look_back): # create sequences with labels.\n",
        "            a = self.dataset[i:(i+self.look_back)]\n",
        "            X.append(a)\n",
        "            y.append(self.dataset[i+self.look_back])\n",
        "        return np.array(X), np.array(y)\n",
        "\n",
        "    def perfom_splits(self):\n",
        "        \"\"\"\n",
        "        Create a training and testing split on the data\n",
        "        \"\"\"\n",
        "        train_size = int(len(self.X)*0.9)\n",
        "        test_size = len(self.X) - train_size\n",
        "        x_train, y_train = self.X[:train_size], self.y[:train_size]\n",
        "        x_test, y_test = self.X[train_size:], self.y[train_size:]\n",
        "        x_train,x_test = torch.from_numpy(x_train.reshape(-1, self.look_back, 1)), \\\n",
        "            torch.from_numpy(x_test.reshape(-1, self.look_back, 1)) \n",
        "        y_train, y_test = torch.from_numpy(y_train.reshape(-1, 1, 1)), \\\n",
        "            torch.from_numpy(y_test.reshape(-1, 1, 1))\n",
        "\n",
        "        assert y_train.size()[0] == x_train.size()[0]\n",
        "        assert y_train.size()[1:] == y_test.size()[1:]\n",
        "        assert x_train.size()[1:] == x_test.size()[1:]\n",
        "        assert y_test.size()[0] == x_test.size()[0]\n",
        "        return x_train,x_test, y_train, y_test"
      ]
    },
    {
      "cell_type": "code",
      "execution_count": 23,
      "metadata": {
        "colab": {
          "base_uri": "https://localhost:8080/"
        },
        "id": "WvBNevl0N7DN",
        "outputId": "c2c74ecd-28b4-405e-c4df-59f1fcc444ec"
      },
      "outputs": [
        {
          "name": "stdout",
          "output_type": "stream",
          "text": [
            "Requirement already satisfied: timm in c:\\users\\landry\\anaconda3\\envs\\cct\\lib\\site-packages (0.9.12)\n",
            "Requirement already satisfied: torch>=1.7 in c:\\users\\landry\\anaconda3\\envs\\cct\\lib\\site-packages (from timm) (2.1.2)\n",
            "Requirement already satisfied: torchvision in c:\\users\\landry\\anaconda3\\envs\\cct\\lib\\site-packages (from timm) (0.16.2)\n",
            "Requirement already satisfied: pyyaml in c:\\users\\landry\\anaconda3\\envs\\cct\\lib\\site-packages (from timm) (6.0.1)\n",
            "Requirement already satisfied: huggingface-hub in c:\\users\\landry\\anaconda3\\envs\\cct\\lib\\site-packages (from timm) (0.20.1)\n",
            "Requirement already satisfied: safetensors in c:\\users\\landry\\anaconda3\\envs\\cct\\lib\\site-packages (from timm) (0.4.1)\n",
            "Requirement already satisfied: filelock in c:\\users\\landry\\anaconda3\\envs\\cct\\lib\\site-packages (from torch>=1.7->timm) (3.13.1)\n",
            "Requirement already satisfied: typing-extensions in c:\\users\\landry\\anaconda3\\envs\\cct\\lib\\site-packages (from torch>=1.7->timm) (4.9.0)\n",
            "Requirement already satisfied: sympy in c:\\users\\landry\\anaconda3\\envs\\cct\\lib\\site-packages (from torch>=1.7->timm) (1.12)\n",
            "Requirement already satisfied: networkx in c:\\users\\landry\\anaconda3\\envs\\cct\\lib\\site-packages (from torch>=1.7->timm) (3.1)\n",
            "Requirement already satisfied: jinja2 in c:\\users\\landry\\anaconda3\\envs\\cct\\lib\\site-packages (from torch>=1.7->timm) (3.1.2)\n",
            "Requirement already satisfied: fsspec in c:\\users\\landry\\anaconda3\\envs\\cct\\lib\\site-packages (from torch>=1.7->timm) (2023.12.2)\n",
            "Requirement already satisfied: requests in c:\\users\\landry\\anaconda3\\envs\\cct\\lib\\site-packages (from huggingface-hub->timm) (2.31.0)\n",
            "Requirement already satisfied: tqdm>=4.42.1 in c:\\users\\landry\\anaconda3\\envs\\cct\\lib\\site-packages (from huggingface-hub->timm) (4.66.1)\n",
            "Requirement already satisfied: packaging>=20.9 in c:\\users\\landry\\anaconda3\\envs\\cct\\lib\\site-packages (from huggingface-hub->timm) (23.2)\n",
            "Requirement already satisfied: numpy in c:\\users\\landry\\anaconda3\\envs\\cct\\lib\\site-packages (from torchvision->timm) (1.24.3)\n",
            "Requirement already satisfied: pillow!=8.3.*,>=5.3.0 in c:\\users\\landry\\anaconda3\\envs\\cct\\lib\\site-packages (from torchvision->timm) (10.0.1)\n",
            "Requirement already satisfied: colorama in c:\\users\\landry\\anaconda3\\envs\\cct\\lib\\site-packages (from tqdm>=4.42.1->huggingface-hub->timm) (0.4.6)\n",
            "Requirement already satisfied: MarkupSafe>=2.0 in c:\\users\\landry\\anaconda3\\envs\\cct\\lib\\site-packages (from jinja2->torch>=1.7->timm) (2.1.1)\n",
            "Requirement already satisfied: charset-normalizer<4,>=2 in c:\\users\\landry\\anaconda3\\envs\\cct\\lib\\site-packages (from requests->huggingface-hub->timm) (2.0.4)\n",
            "Requirement already satisfied: idna<4,>=2.5 in c:\\users\\landry\\anaconda3\\envs\\cct\\lib\\site-packages (from requests->huggingface-hub->timm) (3.4)\n",
            "Requirement already satisfied: urllib3<3,>=1.21.1 in c:\\users\\landry\\anaconda3\\envs\\cct\\lib\\site-packages (from requests->huggingface-hub->timm) (1.26.18)\n",
            "Requirement already satisfied: certifi>=2017.4.17 in c:\\users\\landry\\anaconda3\\envs\\cct\\lib\\site-packages (from requests->huggingface-hub->timm) (2023.11.17)\n",
            "Requirement already satisfied: mpmath>=0.19 in c:\\users\\landry\\anaconda3\\envs\\cct\\lib\\site-packages (from sympy->torch>=1.7->timm) (1.3.0)\n"
          ]
        },
        {
          "name": "stderr",
          "output_type": "stream",
          "text": [
            "C:\\Users\\Landry\\AppData\\Local\\Temp\\ipykernel_7440\\1678359253.py:151: UserWarning: Overwriting cct_2_3x2_32 in registry with __main__.cct_2_3x2_32. This is because the name being registered conflicts with an existing name. Please check if this is not expected.\n",
            "  def cct_2_3x2_32(pretrained=False, progress=False,\n",
            "C:\\Users\\Landry\\AppData\\Local\\Temp\\ipykernel_7440\\1678359253.py:161: UserWarning: Overwriting cct_2_3x2_32_sine in registry with __main__.cct_2_3x2_32_sine. This is because the name being registered conflicts with an existing name. Please check if this is not expected.\n",
            "  def cct_2_3x2_32_sine(pretrained=False, progress=False,\n",
            "C:\\Users\\Landry\\AppData\\Local\\Temp\\ipykernel_7440\\1678359253.py:172: UserWarning: Overwriting cct_4_3x2_32 in registry with __main__.cct_4_3x2_32. This is because the name being registered conflicts with an existing name. Please check if this is not expected.\n",
            "  def cct_4_3x2_32(pretrained=False, progress=False,\n",
            "C:\\Users\\Landry\\AppData\\Local\\Temp\\ipykernel_7440\\1678359253.py:183: UserWarning: Overwriting cct_4_3x2_32_sine in registry with __main__.cct_4_3x2_32_sine. This is because the name being registered conflicts with an existing name. Please check if this is not expected.\n",
            "  def cct_4_3x2_32_sine(pretrained=False, progress=False,\n",
            "C:\\Users\\Landry\\AppData\\Local\\Temp\\ipykernel_7440\\1678359253.py:194: UserWarning: Overwriting cct_6_3x1_32 in registry with __main__.cct_6_3x1_32. This is because the name being registered conflicts with an existing name. Please check if this is not expected.\n",
            "  def cct_6_3x1_32(pretrained=False, progress=False,\n",
            "C:\\Users\\Landry\\AppData\\Local\\Temp\\ipykernel_7440\\1678359253.py:205: UserWarning: Overwriting cct_6_3x1_32_sine in registry with __main__.cct_6_3x1_32_sine. This is because the name being registered conflicts with an existing name. Please check if this is not expected.\n",
            "  def cct_6_3x1_32_sine(pretrained=False, progress=False,\n",
            "C:\\Users\\Landry\\AppData\\Local\\Temp\\ipykernel_7440\\1678359253.py:216: UserWarning: Overwriting cct_6_3x2_32 in registry with __main__.cct_6_3x2_32. This is because the name being registered conflicts with an existing name. Please check if this is not expected.\n",
            "  def cct_6_3x2_32(pretrained=False, progress=False,\n",
            "C:\\Users\\Landry\\AppData\\Local\\Temp\\ipykernel_7440\\1678359253.py:227: UserWarning: Overwriting cct_6_3x2_32_sine in registry with __main__.cct_6_3x2_32_sine. This is because the name being registered conflicts with an existing name. Please check if this is not expected.\n",
            "  def cct_6_3x2_32_sine(pretrained=False, progress=False,\n",
            "C:\\Users\\Landry\\AppData\\Local\\Temp\\ipykernel_7440\\1678359253.py:238: UserWarning: Overwriting cct_7_3x1_32 in registry with __main__.cct_7_3x1_32. This is because the name being registered conflicts with an existing name. Please check if this is not expected.\n",
            "  def cct_7_3x1_32(pretrained=False, progress=False,\n",
            "C:\\Users\\Landry\\AppData\\Local\\Temp\\ipykernel_7440\\1678359253.py:249: UserWarning: Overwriting cct_7_3x1_32_sine in registry with __main__.cct_7_3x1_32_sine. This is because the name being registered conflicts with an existing name. Please check if this is not expected.\n",
            "  def cct_7_3x1_32_sine(pretrained=False, progress=False,\n",
            "C:\\Users\\Landry\\AppData\\Local\\Temp\\ipykernel_7440\\1678359253.py:260: UserWarning: Overwriting cct_7_3x1_32_c100 in registry with __main__.cct_7_3x1_32_c100. This is because the name being registered conflicts with an existing name. Please check if this is not expected.\n",
            "  def cct_7_3x1_32_c100(pretrained=False, progress=False,\n",
            "C:\\Users\\Landry\\AppData\\Local\\Temp\\ipykernel_7440\\1678359253.py:271: UserWarning: Overwriting cct_7_3x1_32_sine_c100 in registry with __main__.cct_7_3x1_32_sine_c100. This is because the name being registered conflicts with an existing name. Please check if this is not expected.\n",
            "  def cct_7_3x1_32_sine_c100(pretrained=False, progress=False,\n",
            "C:\\Users\\Landry\\AppData\\Local\\Temp\\ipykernel_7440\\1678359253.py:282: UserWarning: Overwriting cct_7_3x2_32 in registry with __main__.cct_7_3x2_32. This is because the name being registered conflicts with an existing name. Please check if this is not expected.\n",
            "  def cct_7_3x2_32(pretrained=False, progress=False,\n",
            "C:\\Users\\Landry\\AppData\\Local\\Temp\\ipykernel_7440\\1678359253.py:293: UserWarning: Overwriting cct_7_3x2_32_sine in registry with __main__.cct_7_3x2_32_sine. This is because the name being registered conflicts with an existing name. Please check if this is not expected.\n",
            "  def cct_7_3x2_32_sine(pretrained=False, progress=False,\n",
            "C:\\Users\\Landry\\AppData\\Local\\Temp\\ipykernel_7440\\1678359253.py:304: UserWarning: Overwriting cct_7_7x2_224 in registry with __main__.cct_7_7x2_224. This is because the name being registered conflicts with an existing name. Please check if this is not expected.\n",
            "  def cct_7_7x2_224(pretrained=False, progress=False,\n",
            "C:\\Users\\Landry\\AppData\\Local\\Temp\\ipykernel_7440\\1678359253.py:315: UserWarning: Overwriting cct_7_7x2_224_sine in registry with __main__.cct_7_7x2_224_sine. This is because the name being registered conflicts with an existing name. Please check if this is not expected.\n",
            "  def cct_7_7x2_224_sine(pretrained=False, progress=False,\n",
            "C:\\Users\\Landry\\AppData\\Local\\Temp\\ipykernel_7440\\1678359253.py:326: UserWarning: Overwriting cct_14_7x2_224 in registry with __main__.cct_14_7x2_224. This is because the name being registered conflicts with an existing name. Please check if this is not expected.\n",
            "  def cct_14_7x2_224(pretrained=False, progress=False,\n",
            "C:\\Users\\Landry\\AppData\\Local\\Temp\\ipykernel_7440\\1678359253.py:337: UserWarning: Overwriting cct_14_7x2_384 in registry with __main__.cct_14_7x2_384. This is because the name being registered conflicts with an existing name. Please check if this is not expected.\n",
            "  def cct_14_7x2_384(pretrained=False, progress=False,\n",
            "C:\\Users\\Landry\\AppData\\Local\\Temp\\ipykernel_7440\\1678359253.py:348: UserWarning: Overwriting cct_14_7x2_384_fl in registry with __main__.cct_14_7x2_384_fl. This is because the name being registered conflicts with an existing name. Please check if this is not expected.\n",
            "  def cct_14_7x2_384_fl(pretrained=False, progress=False,\n"
          ]
        }
      ],
      "source": [
        "#!unzip utils\n",
        "!pip install timm\n",
        "\n",
        "# Original Code from the SHI-Labs\n",
        "# .utils in the from lines changed to utils\n",
        "# .registry import changed to the function def (copied from the registry.py)\n",
        "\n",
        "from torch.hub import load_state_dict_from_url\n",
        "import torch.nn as nn\n",
        "from utils.transformers import TransformerClassifier\n",
        "from utils.tokenizer import Tokenizer\n",
        "from utils.helpers import pe_check, fc_check\n",
        "\n",
        "try:\n",
        "    from timm.models.registry import register_model\n",
        "except ImportError:\n",
        "    #from .registry import register_model\n",
        "    def register_model(func):\n",
        "      \"\"\"\n",
        "      Fallback wrapper in case timm isn't installed\n",
        "      \"\"\"\n",
        "      return func\n",
        "\n",
        "model_urls = {\n",
        "    'cct_7_3x1_32':\n",
        "        'https://shi-labs.com/projects/cct/checkpoints/pretrained/cct_7_3x1_32_cifar10_300epochs.pth',\n",
        "    'cct_7_3x1_32_sine':\n",
        "        'https://shi-labs.com/projects/cct/checkpoints/pretrained/cct_7_3x1_32_sine_cifar10_5000epochs.pth',\n",
        "    'cct_7_3x1_32_c100':\n",
        "        'https://shi-labs.com/projects/cct/checkpoints/pretrained/cct_7_3x1_32_cifar100_300epochs.pth',\n",
        "    'cct_7_3x1_32_sine_c100':\n",
        "        'https://shi-labs.com/projects/cct/checkpoints/pretrained/cct_7_3x1_32_sine_cifar100_5000epochs.pth',\n",
        "    'cct_7_7x2_224_sine':\n",
        "        'https://shi-labs.com/projects/cct/checkpoints/pretrained/cct_7_7x2_224_flowers102.pth',\n",
        "    'cct_14_7x2_224':\n",
        "        'https://shi-labs.com/projects/cct/checkpoints/pretrained/cct_14_7x2_224_imagenet.pth',\n",
        "    'cct_14_7x2_384':\n",
        "        'https://shi-labs.com/projects/cct/checkpoints/finetuned/cct_14_7x2_384_imagenet.pth',\n",
        "    'cct_14_7x2_384_fl':\n",
        "        'https://shi-labs.com/projects/cct/checkpoints/finetuned/cct_14_7x2_384_flowers102.pth',\n",
        "}\n",
        "\n",
        "\n",
        "class CCT(nn.Module):\n",
        "    def __init__(self,\n",
        "                 sequence_length = 5,\n",
        "                 embedding_dim=128, # change the value\n",
        "                 n_input_channels=1, #Two channels for time and data\n",
        "                 n_conv_layers=1,\n",
        "                 kernel_size=1,\n",
        "                 stride=1, #slide the kernel over 1 position\n",
        "                 padding=0,\n",
        "                 dropout=0.,\n",
        "                 attention_dropout=0.1,\n",
        "                 stochastic_depth=0.1,\n",
        "                 num_layers=14,\n",
        "                 num_heads=4,\n",
        "                 mlp_ratio=4.0,\n",
        "                 num_classes=1,\n",
        "                 positional_embedding='learnable',\n",
        "                 *args, **kwargs):\n",
        "        super(CCT, self).__init__()\n",
        "\n",
        "        self.tokenizer = Tokenizer(n_input_channels=self.look_back,\n",
        "                                   n_output_channels=embedding_dim,\n",
        "                                   kernel_size=kernel_size,\n",
        "                                   stride=stride,\n",
        "                                   padding=padding,\n",
        "                                   activation=nn.ReLU,\n",
        "                                   n_conv_layers=n_conv_layers,\n",
        "                                   conv_bias=False)\n",
        "\n",
        "        self.classifier = TransformerClassifier(\n",
        "            sequence_length=sequence_length,\n",
        "            embedding_dim=embedding_dim,\n",
        "            seq_pool=True,\n",
        "            dropout=dropout,\n",
        "            attention_dropout=attention_dropout,\n",
        "            stochastic_depth=stochastic_depth,\n",
        "            num_layers=num_layers,\n",
        "            num_heads=num_heads,\n",
        "            mlp_ratio=mlp_ratio,\n",
        "            num_classes=num_classes,\n",
        "            positional_embedding=positional_embedding\n",
        "        )\n",
        "\n",
        "    def forward(self, x):\n",
        "        x = self.tokenizer(x)\n",
        "        return self.classifier(x)\n",
        "\n",
        "\n",
        "def _cct(arch, pretrained, progress,\n",
        "         num_layers, num_heads, mlp_ratio, embedding_dim,\n",
        "         kernel_size=3, stride=None, padding=None,\n",
        "         positional_embedding='learnable',\n",
        "         *args, **kwargs):\n",
        "    stride = stride if stride is not None else max(1, (kernel_size // 2) - 1)\n",
        "    padding = padding if padding is not None else max(1, (kernel_size // 2))\n",
        "    model = CCT(num_layers=num_layers,\n",
        "                num_heads=num_heads,\n",
        "                mlp_ratio=mlp_ratio,\n",
        "                embedding_dim=embedding_dim,\n",
        "                kernel_size=kernel_size,\n",
        "                stride=stride,\n",
        "                padding=padding,\n",
        "                *args, **kwargs)\n",
        "\n",
        "    if pretrained:\n",
        "        if arch in model_urls:\n",
        "            state_dict = load_state_dict_from_url(model_urls[arch],\n",
        "                                                  progress=progress)\n",
        "            if positional_embedding == 'learnable':\n",
        "                state_dict = pe_check(model, state_dict)\n",
        "            elif positional_embedding == 'sine':\n",
        "                state_dict['classifier.positional_emb'] = model.state_dict()['classifier.positional_emb']\n",
        "            state_dict = fc_check(model, state_dict)\n",
        "            model.load_state_dict(state_dict)\n",
        "        else:\n",
        "            raise RuntimeError(f'Variant {arch} does not yet have pretrained weights.')\n",
        "    return model\n",
        "\n",
        "# I don't need anything after all this.\n",
        "\n",
        "def cct_2(arch, pretrained, progress, *args, **kwargs):\n",
        "    return _cct(arch, pretrained, progress, num_layers=2, num_heads=2, mlp_ratio=1, embedding_dim=128,\n",
        "                *args, **kwargs)\n",
        "\n",
        "\n",
        "def cct_4(arch, pretrained, progress, *args, **kwargs):\n",
        "    return _cct(arch, pretrained, progress, num_layers=4, num_heads=2, mlp_ratio=1, embedding_dim=128,\n",
        "                *args, **kwargs)\n",
        "\n",
        "\n",
        "def cct_6(arch, pretrained, progress, *args, **kwargs):\n",
        "    return _cct(arch, pretrained, progress, num_layers=6, num_heads=4, mlp_ratio=2, embedding_dim=256,\n",
        "                *args, **kwargs)\n",
        "\n",
        "\n",
        "def cct_7(arch, pretrained, progress, *args, **kwargs):\n",
        "    return _cct(arch, pretrained, progress, num_layers=7, num_heads=4, mlp_ratio=2, embedding_dim=256,\n",
        "                *args, **kwargs)\n",
        "\n",
        "\n",
        "def cct_14(arch, pretrained, progress, *args, **kwargs):\n",
        "    return _cct(arch, pretrained, progress, num_layers=14, num_heads=6, mlp_ratio=3, embedding_dim=384,\n",
        "                *args, **kwargs)\n",
        "\n",
        "\n",
        "\n",
        "@register_model\n",
        "def cct_2_3x2_32(pretrained=False, progress=False,\n",
        "                 img_size=32, positional_embedding='learnable',\n",
        "                 *args, **kwargs):\n",
        "    return cct_2('cct_2_3x2_32', pretrained, progress,\n",
        "                 kernel_size=3, n_conv_layers=2,\n",
        "                 img_size=img_size, positional_embedding=positional_embedding\n",
        "                 *args, **kwargs)\n",
        "\n",
        "\n",
        "@register_model\n",
        "def cct_2_3x2_32_sine(pretrained=False, progress=False,\n",
        "                      img_size=32, positional_embedding='sine', num_classes=10,\n",
        "                      *args, **kwargs):\n",
        "    return cct_2('cct_2_3x2_32_sine', pretrained, progress,\n",
        "                 kernel_size=3, n_conv_layers=2,\n",
        "                 img_size=img_size, positional_embedding=positional_embedding,\n",
        "                 num_classes=num_classes,\n",
        "                 *args, **kwargs)\n",
        "\n",
        "\n",
        "@register_model\n",
        "def cct_4_3x2_32(pretrained=False, progress=False,\n",
        "                 img_size=32, positional_embedding='learnable', num_classes=10,\n",
        "                 *args, **kwargs):\n",
        "    return cct_4('cct_4_3x2_32', pretrained, progress,\n",
        "                 kernel_size=3, n_conv_layers=2,\n",
        "                 img_size=img_size, positional_embedding=positional_embedding,\n",
        "                 num_classes=num_classes,\n",
        "                 *args, **kwargs)\n",
        "\n",
        "\n",
        "@register_model\n",
        "def cct_4_3x2_32_sine(pretrained=False, progress=False,\n",
        "                      img_size=32, positional_embedding='sine', num_classes=10,\n",
        "                      *args, **kwargs):\n",
        "    return cct_4('cct_4_3x2_32_sine', pretrained, progress,\n",
        "                 kernel_size=3, n_conv_layers=2,\n",
        "                 img_size=img_size, positional_embedding=positional_embedding,\n",
        "                 num_classes=num_classes,\n",
        "                 *args, **kwargs)\n",
        "\n",
        "\n",
        "@register_model\n",
        "def cct_6_3x1_32(pretrained=False, progress=False,\n",
        "                 img_size=32, positional_embedding='learnable', num_classes=10,\n",
        "                 *args, **kwargs):\n",
        "    return cct_6('cct_6_3x1_32', pretrained, progress,\n",
        "                 kernel_size=3, n_conv_layers=1,\n",
        "                 img_size=img_size, positional_embedding=positional_embedding,\n",
        "                 num_classes=num_classes,\n",
        "                 *args, **kwargs)\n",
        "\n",
        "\n",
        "@register_model\n",
        "def cct_6_3x1_32_sine(pretrained=False, progress=False,\n",
        "                      img_size=32, positional_embedding='sine', num_classes=10,\n",
        "                      *args, **kwargs):\n",
        "    return cct_6('cct_6_3x1_32_sine', pretrained, progress,\n",
        "                 kernel_size=3, n_conv_layers=1,\n",
        "                 img_size=img_size, positional_embedding=positional_embedding,\n",
        "                 num_classes=num_classes,\n",
        "                 *args, **kwargs)\n",
        "\n",
        "\n",
        "@register_model\n",
        "def cct_6_3x2_32(pretrained=False, progress=False,\n",
        "                 img_size=32, positional_embedding='learnable', num_classes=10,\n",
        "                 *args, **kwargs):\n",
        "    return cct_6('cct_6_3x2_32', pretrained, progress,\n",
        "                 kernel_size=3, n_conv_layers=2,\n",
        "                 img_size=img_size, positional_embedding=positional_embedding,\n",
        "                 num_classes=num_classes,\n",
        "                 *args, **kwargs)\n",
        "\n",
        "\n",
        "@register_model\n",
        "def cct_6_3x2_32_sine(pretrained=False, progress=False,\n",
        "                      img_size=32, positional_embedding='sine', num_classes=10,\n",
        "                      *args, **kwargs):\n",
        "    return cct_6('cct_6_3x2_32_sine', pretrained, progress,\n",
        "                 kernel_size=3, n_conv_layers=2,\n",
        "                 img_size=img_size, positional_embedding=positional_embedding,\n",
        "                 num_classes=num_classes,\n",
        "                 *args, **kwargs)\n",
        "\n",
        "\n",
        "@register_model\n",
        "def cct_7_3x1_32(pretrained=False, progress=False,\n",
        "                 img_size=32, positional_embedding='learnable', num_classes=10,\n",
        "                 *args, **kwargs):\n",
        "    return cct_7('cct_7_3x1_32', pretrained, progress,\n",
        "                 kernel_size=3, n_conv_layers=1,\n",
        "                 img_size=img_size, positional_embedding=positional_embedding,\n",
        "                 num_classes=num_classes,\n",
        "                 *args, **kwargs)\n",
        "\n",
        "\n",
        "@register_model\n",
        "def cct_7_3x1_32_sine(pretrained=False, progress=False,\n",
        "                      img_size=32, positional_embedding='sine', num_classes=10,\n",
        "                      *args, **kwargs):\n",
        "    return cct_7('cct_7_3x1_32_sine', pretrained, progress,\n",
        "                 kernel_size=3, n_conv_layers=1,\n",
        "                 img_size=img_size, positional_embedding=positional_embedding,\n",
        "                 num_classes=num_classes,\n",
        "                 *args, **kwargs)\n",
        "\n",
        "\n",
        "@register_model\n",
        "def cct_7_3x1_32_c100(pretrained=False, progress=False,\n",
        "                      img_size=32, positional_embedding='learnable', num_classes=100,\n",
        "                      *args, **kwargs):\n",
        "    return cct_7('cct_7_3x1_32_c100', pretrained, progress,\n",
        "                 kernel_size=3, n_conv_layers=1,\n",
        "                 img_size=img_size, positional_embedding=positional_embedding,\n",
        "                 num_classes=num_classes,\n",
        "                 *args, **kwargs)\n",
        "\n",
        "\n",
        "@register_model\n",
        "def cct_7_3x1_32_sine_c100(pretrained=False, progress=False,\n",
        "                           img_size=32, positional_embedding='sine', num_classes=100,\n",
        "                           *args, **kwargs):\n",
        "    return cct_7('cct_7_3x1_32_sine_c100', pretrained, progress,\n",
        "                 kernel_size=3, n_conv_layers=1,\n",
        "                 img_size=img_size, positional_embedding=positional_embedding,\n",
        "                 num_classes=num_classes,\n",
        "                 *args, **kwargs)\n",
        "\n",
        "\n",
        "@register_model\n",
        "def cct_7_3x2_32(pretrained=False, progress=False,\n",
        "                 img_size=32, positional_embedding='learnable', num_classes=10,\n",
        "                 *args, **kwargs):\n",
        "    return cct_7('cct_7_3x2_32', pretrained, progress,\n",
        "                 kernel_size=3, n_conv_layers=2,\n",
        "                 img_size=img_size, positional_embedding=positional_embedding,\n",
        "                 num_classes=num_classes,\n",
        "                 *args, **kwargs)\n",
        "\n",
        "\n",
        "@register_model\n",
        "def cct_7_3x2_32_sine(pretrained=False, progress=False,\n",
        "                      img_size=32, positional_embedding='sine', num_classes=10,\n",
        "                      *args, **kwargs):\n",
        "    return cct_7('cct_7_3x2_32_sine', pretrained, progress,\n",
        "                 kernel_size=3, n_conv_layers=2,\n",
        "                 img_size=img_size, positional_embedding=positional_embedding,\n",
        "                 num_classes=num_classes,\n",
        "                 *args, **kwargs)\n",
        "\n",
        "\n",
        "@register_model\n",
        "def cct_7_7x2_224(pretrained=False, progress=False,\n",
        "                  img_size=224, positional_embedding='learnable', num_classes=102,\n",
        "                  *args, **kwargs):\n",
        "    return cct_7('cct_7_7x2_224', pretrained, progress,\n",
        "                 kernel_size=7, n_conv_layers=2,\n",
        "                 img_size=img_size, positional_embedding=positional_embedding,\n",
        "                 num_classes=num_classes,\n",
        "                 *args, **kwargs)\n",
        "\n",
        "\n",
        "@register_model\n",
        "def cct_7_7x2_224_sine(pretrained=False, progress=False,\n",
        "                       img_size=224, positional_embedding='sine', num_classes=102,\n",
        "                       *args, **kwargs):\n",
        "    return cct_7('cct_7_7x2_224_sine', pretrained, progress,\n",
        "                 kernel_size=7, n_conv_layers=2,\n",
        "                 img_size=img_size, positional_embedding=positional_embedding,\n",
        "                 num_classes=num_classes,\n",
        "                 *args, **kwargs)\n",
        "\n",
        "\n",
        "@register_model\n",
        "def cct_14_7x2_224(pretrained=False, progress=False,\n",
        "                   img_size=224, positional_embedding='learnable', num_classes=1000,\n",
        "                   *args, **kwargs):\n",
        "    return cct_14('cct_14_7x2_224', pretrained, progress,\n",
        "                  kernel_size=7, n_conv_layers=2,\n",
        "                  img_size=img_size, positional_embedding=positional_embedding,\n",
        "                  num_classes=num_classes,\n",
        "                  *args, **kwargs)\n",
        "\n",
        "\n",
        "@register_model\n",
        "def cct_14_7x2_384(pretrained=False, progress=False,\n",
        "                   img_size=384, positional_embedding='learnable', num_classes=1000,\n",
        "                   *args, **kwargs):\n",
        "    return cct_14('cct_14_7x2_384', pretrained, progress,\n",
        "                  kernel_size=7, n_conv_layers=2,\n",
        "                  img_size=img_size, positional_embedding=positional_embedding,\n",
        "                  num_classes=num_classes,\n",
        "                  *args, **kwargs)\n",
        "\n",
        "\n",
        "@register_model\n",
        "def cct_14_7x2_384_fl(pretrained=False, progress=False,\n",
        "                      img_size=384, positional_embedding='learnable', num_classes=102,\n",
        "                      *args, **kwargs):\n",
        "    return cct_14('cct_14_7x2_384_fl', pretrained, progress,\n",
        "                  kernel_size=7, n_conv_layers=2,\n",
        "                  img_size=img_size, positional_embedding=positional_embedding,\n",
        "                  num_classes=num_classes,\n",
        "                  *args, **kwargs)"
      ]
    },
    {
      "cell_type": "markdown",
      "metadata": {},
      "source": [
        "# Task 1\n"
      ]
    },
    {
      "cell_type": "code",
      "execution_count": 24,
      "metadata": {},
      "outputs": [],
      "source": [
        "time_steps = 1\n",
        "dataset = DataSet()\n",
        "data_X, data_Y = dataset.X, dataset.y\n",
        "\n",
        "x_train,x_test, y_train, y_test = dataset.perfom_splits()\n",
        "x_train = np.array(x_train)\n",
        "x_test = np.array(x_test)\n",
        "y_train = np.array(y_train)\n",
        "y_test = np.array(y_test)\n",
        "#x_train = np.reshape(x_train, (len(x_train), time_steps, 1))  \n",
        "#x_test = np.reshape(x_test, (len(x_test), time_steps, 1)) #Don't need to have a timesteps because that is where the issue might have come from before.\n",
        "# print(x_train)\n",
        "#print(y_test)"
      ]
    },
    {
      "cell_type": "code",
      "execution_count": 25,
      "metadata": {},
      "outputs": [],
      "source": [
        "from torch.utils.data import DataLoader, TensorDataset\n",
        "\n",
        "x_train_tensor = torch.Tensor(x_train)\n",
        "y_train_tensor = torch.Tensor(y_train)\n",
        "x_test_tensor = torch.Tensor(x_test)\n",
        "y_test_tensor = torch.Tensor(y_test)\n",
        "\n",
        "# Create PyTorch TensorDatasets\n",
        "train_dataset = TensorDataset(x_train_tensor, y_train_tensor)\n",
        "test_dataset = TensorDataset(x_test_tensor, y_test_tensor)\n",
        "\n",
        "# Define batch size\n",
        "batch_size = 64\n",
        "\n",
        "# Create data loaders\n",
        "train_dataloader = DataLoader(train_dataset, batch_size=batch_size, shuffle=True)\n",
        "test_dataloader = DataLoader(test_dataset, batch_size=batch_size, shuffle=False)"
      ]
    },
    {
      "cell_type": "code",
      "execution_count": 26,
      "metadata": {},
      "outputs": [
        {
          "name": "stdout",
          "output_type": "stream",
          "text": [
            "Shape of X [N, C, H, W]: torch.Size([64, 5, 1])\n",
            "Shape of y: torch.Size([64, 1, 1]) torch.float32\n"
          ]
        }
      ],
      "source": [
        "for X, y in train_dataloader:\n",
        "    print(f\"Shape of X [N, C, H, W]: {X.shape}\")\n",
        "    print(f\"Shape of y: {y.shape} {y.dtype}\")\n",
        "    break"
      ]
    },
    {
      "cell_type": "code",
      "execution_count": 27,
      "metadata": {},
      "outputs": [
        {
          "name": "stdout",
          "output_type": "stream",
          "text": [
            "Shape of X [N, C, H, W]: torch.Size([64, 5, 1])\n",
            "Shape of y: torch.Size([64, 1, 1]) torch.float32\n"
          ]
        }
      ],
      "source": [
        "for X, y in test_dataloader:\n",
        "    print(f\"Shape of X [N, C, H, W]: {X.shape}\")\n",
        "    print(f\"Shape of y: {y.shape} {y.dtype}\")\n",
        "    break"
      ]
    },
    {
      "cell_type": "code",
      "execution_count": 28,
      "metadata": {},
      "outputs": [
        {
          "data": {
            "text/plain": [
              "(614, 5, 1)"
            ]
          },
          "execution_count": 28,
          "metadata": {},
          "output_type": "execute_result"
        }
      ],
      "source": [
        "x_test.shape"
      ]
    },
    {
      "cell_type": "code",
      "execution_count": 29,
      "metadata": {},
      "outputs": [],
      "source": [
        "device = \"cuda\" if torch.cuda.is_available() else \"mps\" if torch.backends.mps.is_available() else \"cpu\""
      ]
    },
    {
      "cell_type": "code",
      "execution_count": 30,
      "metadata": {},
      "outputs": [
        {
          "ename": "AttributeError",
          "evalue": "'CCT' object has no attribute 'look_back'",
          "output_type": "error",
          "traceback": [
            "\u001b[1;31m---------------------------------------------------------------------------\u001b[0m",
            "\u001b[1;31mAttributeError\u001b[0m                            Traceback (most recent call last)",
            "Cell \u001b[1;32mIn[30], line 1\u001b[0m\n\u001b[1;32m----> 1\u001b[0m model_cct \u001b[38;5;241m=\u001b[39m \u001b[43mCCT\u001b[49m\u001b[43m(\u001b[49m\u001b[43m)\u001b[49m\n\u001b[0;32m      2\u001b[0m \u001b[38;5;28mprint\u001b[39m(model_cct)\n",
            "Cell \u001b[1;32mIn[23], line 64\u001b[0m, in \u001b[0;36mCCT.__init__\u001b[1;34m(self, sequence_length, embedding_dim, n_input_channels, n_conv_layers, kernel_size, stride, padding, dropout, attention_dropout, stochastic_depth, num_layers, num_heads, mlp_ratio, num_classes, positional_embedding, *args, **kwargs)\u001b[0m\n\u001b[0;32m     45\u001b[0m \u001b[38;5;28;01mdef\u001b[39;00m \u001b[38;5;21m__init__\u001b[39m(\u001b[38;5;28mself\u001b[39m,\n\u001b[0;32m     46\u001b[0m              sequence_length \u001b[38;5;241m=\u001b[39m \u001b[38;5;241m5\u001b[39m,\n\u001b[0;32m     47\u001b[0m              embedding_dim\u001b[38;5;241m=\u001b[39m\u001b[38;5;241m128\u001b[39m, \u001b[38;5;66;03m# change the value\u001b[39;00m\n\u001b[1;32m   (...)\u001b[0m\n\u001b[0;32m     60\u001b[0m              positional_embedding\u001b[38;5;241m=\u001b[39m\u001b[38;5;124m'\u001b[39m\u001b[38;5;124mlearnable\u001b[39m\u001b[38;5;124m'\u001b[39m,\n\u001b[0;32m     61\u001b[0m              \u001b[38;5;241m*\u001b[39margs, \u001b[38;5;241m*\u001b[39m\u001b[38;5;241m*\u001b[39mkwargs):\n\u001b[0;32m     62\u001b[0m     \u001b[38;5;28msuper\u001b[39m(CCT, \u001b[38;5;28mself\u001b[39m)\u001b[38;5;241m.\u001b[39m\u001b[38;5;21m__init__\u001b[39m()\n\u001b[1;32m---> 64\u001b[0m     \u001b[38;5;28mself\u001b[39m\u001b[38;5;241m.\u001b[39mtokenizer \u001b[38;5;241m=\u001b[39m Tokenizer(n_input_channels\u001b[38;5;241m=\u001b[39m\u001b[38;5;28;43mself\u001b[39;49m\u001b[38;5;241;43m.\u001b[39;49m\u001b[43mlook_back\u001b[49m,\n\u001b[0;32m     65\u001b[0m                                n_output_channels\u001b[38;5;241m=\u001b[39membedding_dim,\n\u001b[0;32m     66\u001b[0m                                kernel_size\u001b[38;5;241m=\u001b[39mkernel_size,\n\u001b[0;32m     67\u001b[0m                                stride\u001b[38;5;241m=\u001b[39mstride,\n\u001b[0;32m     68\u001b[0m                                padding\u001b[38;5;241m=\u001b[39mpadding,\n\u001b[0;32m     69\u001b[0m                                activation\u001b[38;5;241m=\u001b[39mnn\u001b[38;5;241m.\u001b[39mReLU,\n\u001b[0;32m     70\u001b[0m                                n_conv_layers\u001b[38;5;241m=\u001b[39mn_conv_layers,\n\u001b[0;32m     71\u001b[0m                                conv_bias\u001b[38;5;241m=\u001b[39m\u001b[38;5;28;01mFalse\u001b[39;00m)\n\u001b[0;32m     73\u001b[0m     \u001b[38;5;28mself\u001b[39m\u001b[38;5;241m.\u001b[39mclassifier \u001b[38;5;241m=\u001b[39m TransformerClassifier(\n\u001b[0;32m     74\u001b[0m         sequence_length\u001b[38;5;241m=\u001b[39msequence_length,\n\u001b[0;32m     75\u001b[0m         embedding_dim\u001b[38;5;241m=\u001b[39membedding_dim,\n\u001b[1;32m   (...)\u001b[0m\n\u001b[0;32m     84\u001b[0m         positional_embedding\u001b[38;5;241m=\u001b[39mpositional_embedding\n\u001b[0;32m     85\u001b[0m     )\n",
            "File \u001b[1;32mc:\\Users\\Landry\\anaconda3\\envs\\CCT\\lib\\site-packages\\torch\\nn\\modules\\module.py:1695\u001b[0m, in \u001b[0;36mModule.__getattr__\u001b[1;34m(self, name)\u001b[0m\n\u001b[0;32m   1693\u001b[0m     \u001b[38;5;28;01mif\u001b[39;00m name \u001b[38;5;129;01min\u001b[39;00m modules:\n\u001b[0;32m   1694\u001b[0m         \u001b[38;5;28;01mreturn\u001b[39;00m modules[name]\n\u001b[1;32m-> 1695\u001b[0m \u001b[38;5;28;01mraise\u001b[39;00m \u001b[38;5;167;01mAttributeError\u001b[39;00m(\u001b[38;5;124mf\u001b[39m\u001b[38;5;124m\"\u001b[39m\u001b[38;5;124m'\u001b[39m\u001b[38;5;132;01m{\u001b[39;00m\u001b[38;5;28mtype\u001b[39m(\u001b[38;5;28mself\u001b[39m)\u001b[38;5;241m.\u001b[39m\u001b[38;5;18m__name__\u001b[39m\u001b[38;5;132;01m}\u001b[39;00m\u001b[38;5;124m'\u001b[39m\u001b[38;5;124m object has no attribute \u001b[39m\u001b[38;5;124m'\u001b[39m\u001b[38;5;132;01m{\u001b[39;00mname\u001b[38;5;132;01m}\u001b[39;00m\u001b[38;5;124m'\u001b[39m\u001b[38;5;124m\"\u001b[39m)\n",
            "\u001b[1;31mAttributeError\u001b[0m: 'CCT' object has no attribute 'look_back'"
          ]
        }
      ],
      "source": [
        "model_cct = CCT()\n",
        "print(model_cct)"
      ]
    },
    {
      "cell_type": "code",
      "execution_count": 21,
      "metadata": {},
      "outputs": [
        {
          "ename": "RuntimeError",
          "evalue": "Given groups=1, weight of size [128, 1, 1], expected input[64, 5, 1] to have 1 channels, but got 5 channels instead",
          "output_type": "error",
          "traceback": [
            "\u001b[1;31m---------------------------------------------------------------------------\u001b[0m",
            "\u001b[1;31mRuntimeError\u001b[0m                              Traceback (most recent call last)",
            "Cell \u001b[1;32mIn[21], line 15\u001b[0m\n\u001b[0;32m     12\u001b[0m optimizer\u001b[38;5;241m.\u001b[39mzero_grad()\n\u001b[0;32m     14\u001b[0m \u001b[38;5;66;03m# Forward pass with input data\u001b[39;00m\n\u001b[1;32m---> 15\u001b[0m output \u001b[38;5;241m=\u001b[39m \u001b[43mmodel_cct\u001b[49m\u001b[43m(\u001b[49m\u001b[43mX\u001b[49m\u001b[43m)\u001b[49m\n\u001b[0;32m     16\u001b[0m \u001b[38;5;28mprint\u001b[39m(output\u001b[38;5;241m.\u001b[39mshape)\n\u001b[0;32m     17\u001b[0m \u001b[38;5;28mprint\u001b[39m(y\u001b[38;5;241m.\u001b[39mshape)\n",
            "File \u001b[1;32mc:\\Users\\Landry\\anaconda3\\envs\\CCT\\lib\\site-packages\\torch\\nn\\modules\\module.py:1518\u001b[0m, in \u001b[0;36mModule._wrapped_call_impl\u001b[1;34m(self, *args, **kwargs)\u001b[0m\n\u001b[0;32m   1516\u001b[0m     \u001b[38;5;28;01mreturn\u001b[39;00m \u001b[38;5;28mself\u001b[39m\u001b[38;5;241m.\u001b[39m_compiled_call_impl(\u001b[38;5;241m*\u001b[39margs, \u001b[38;5;241m*\u001b[39m\u001b[38;5;241m*\u001b[39mkwargs)  \u001b[38;5;66;03m# type: ignore[misc]\u001b[39;00m\n\u001b[0;32m   1517\u001b[0m \u001b[38;5;28;01melse\u001b[39;00m:\n\u001b[1;32m-> 1518\u001b[0m     \u001b[38;5;28;01mreturn\u001b[39;00m \u001b[38;5;28;43mself\u001b[39;49m\u001b[38;5;241;43m.\u001b[39;49m\u001b[43m_call_impl\u001b[49m\u001b[43m(\u001b[49m\u001b[38;5;241;43m*\u001b[39;49m\u001b[43margs\u001b[49m\u001b[43m,\u001b[49m\u001b[43m \u001b[49m\u001b[38;5;241;43m*\u001b[39;49m\u001b[38;5;241;43m*\u001b[39;49m\u001b[43mkwargs\u001b[49m\u001b[43m)\u001b[49m\n",
            "File \u001b[1;32mc:\\Users\\Landry\\anaconda3\\envs\\CCT\\lib\\site-packages\\torch\\nn\\modules\\module.py:1527\u001b[0m, in \u001b[0;36mModule._call_impl\u001b[1;34m(self, *args, **kwargs)\u001b[0m\n\u001b[0;32m   1522\u001b[0m \u001b[38;5;66;03m# If we don't have any hooks, we want to skip the rest of the logic in\u001b[39;00m\n\u001b[0;32m   1523\u001b[0m \u001b[38;5;66;03m# this function, and just call forward.\u001b[39;00m\n\u001b[0;32m   1524\u001b[0m \u001b[38;5;28;01mif\u001b[39;00m \u001b[38;5;129;01mnot\u001b[39;00m (\u001b[38;5;28mself\u001b[39m\u001b[38;5;241m.\u001b[39m_backward_hooks \u001b[38;5;129;01mor\u001b[39;00m \u001b[38;5;28mself\u001b[39m\u001b[38;5;241m.\u001b[39m_backward_pre_hooks \u001b[38;5;129;01mor\u001b[39;00m \u001b[38;5;28mself\u001b[39m\u001b[38;5;241m.\u001b[39m_forward_hooks \u001b[38;5;129;01mor\u001b[39;00m \u001b[38;5;28mself\u001b[39m\u001b[38;5;241m.\u001b[39m_forward_pre_hooks\n\u001b[0;32m   1525\u001b[0m         \u001b[38;5;129;01mor\u001b[39;00m _global_backward_pre_hooks \u001b[38;5;129;01mor\u001b[39;00m _global_backward_hooks\n\u001b[0;32m   1526\u001b[0m         \u001b[38;5;129;01mor\u001b[39;00m _global_forward_hooks \u001b[38;5;129;01mor\u001b[39;00m _global_forward_pre_hooks):\n\u001b[1;32m-> 1527\u001b[0m     \u001b[38;5;28;01mreturn\u001b[39;00m \u001b[43mforward_call\u001b[49m\u001b[43m(\u001b[49m\u001b[38;5;241;43m*\u001b[39;49m\u001b[43margs\u001b[49m\u001b[43m,\u001b[49m\u001b[43m \u001b[49m\u001b[38;5;241;43m*\u001b[39;49m\u001b[38;5;241;43m*\u001b[39;49m\u001b[43mkwargs\u001b[49m\u001b[43m)\u001b[49m\n\u001b[0;32m   1529\u001b[0m \u001b[38;5;28;01mtry\u001b[39;00m:\n\u001b[0;32m   1530\u001b[0m     result \u001b[38;5;241m=\u001b[39m \u001b[38;5;28;01mNone\u001b[39;00m\n",
            "Cell \u001b[1;32mIn[13], line 88\u001b[0m, in \u001b[0;36mCCT.forward\u001b[1;34m(self, x)\u001b[0m\n\u001b[0;32m     87\u001b[0m \u001b[38;5;28;01mdef\u001b[39;00m \u001b[38;5;21mforward\u001b[39m(\u001b[38;5;28mself\u001b[39m, x):\n\u001b[1;32m---> 88\u001b[0m     x \u001b[38;5;241m=\u001b[39m \u001b[38;5;28;43mself\u001b[39;49m\u001b[38;5;241;43m.\u001b[39;49m\u001b[43mtokenizer\u001b[49m\u001b[43m(\u001b[49m\u001b[43mx\u001b[49m\u001b[43m)\u001b[49m\n\u001b[0;32m     89\u001b[0m     \u001b[38;5;28;01mreturn\u001b[39;00m \u001b[38;5;28mself\u001b[39m\u001b[38;5;241m.\u001b[39mclassifier(x)\n",
            "File \u001b[1;32mc:\\Users\\Landry\\anaconda3\\envs\\CCT\\lib\\site-packages\\torch\\nn\\modules\\module.py:1518\u001b[0m, in \u001b[0;36mModule._wrapped_call_impl\u001b[1;34m(self, *args, **kwargs)\u001b[0m\n\u001b[0;32m   1516\u001b[0m     \u001b[38;5;28;01mreturn\u001b[39;00m \u001b[38;5;28mself\u001b[39m\u001b[38;5;241m.\u001b[39m_compiled_call_impl(\u001b[38;5;241m*\u001b[39margs, \u001b[38;5;241m*\u001b[39m\u001b[38;5;241m*\u001b[39mkwargs)  \u001b[38;5;66;03m# type: ignore[misc]\u001b[39;00m\n\u001b[0;32m   1517\u001b[0m \u001b[38;5;28;01melse\u001b[39;00m:\n\u001b[1;32m-> 1518\u001b[0m     \u001b[38;5;28;01mreturn\u001b[39;00m \u001b[38;5;28;43mself\u001b[39;49m\u001b[38;5;241;43m.\u001b[39;49m\u001b[43m_call_impl\u001b[49m\u001b[43m(\u001b[49m\u001b[38;5;241;43m*\u001b[39;49m\u001b[43margs\u001b[49m\u001b[43m,\u001b[49m\u001b[43m \u001b[49m\u001b[38;5;241;43m*\u001b[39;49m\u001b[38;5;241;43m*\u001b[39;49m\u001b[43mkwargs\u001b[49m\u001b[43m)\u001b[49m\n",
            "File \u001b[1;32mc:\\Users\\Landry\\anaconda3\\envs\\CCT\\lib\\site-packages\\torch\\nn\\modules\\module.py:1527\u001b[0m, in \u001b[0;36mModule._call_impl\u001b[1;34m(self, *args, **kwargs)\u001b[0m\n\u001b[0;32m   1522\u001b[0m \u001b[38;5;66;03m# If we don't have any hooks, we want to skip the rest of the logic in\u001b[39;00m\n\u001b[0;32m   1523\u001b[0m \u001b[38;5;66;03m# this function, and just call forward.\u001b[39;00m\n\u001b[0;32m   1524\u001b[0m \u001b[38;5;28;01mif\u001b[39;00m \u001b[38;5;129;01mnot\u001b[39;00m (\u001b[38;5;28mself\u001b[39m\u001b[38;5;241m.\u001b[39m_backward_hooks \u001b[38;5;129;01mor\u001b[39;00m \u001b[38;5;28mself\u001b[39m\u001b[38;5;241m.\u001b[39m_backward_pre_hooks \u001b[38;5;129;01mor\u001b[39;00m \u001b[38;5;28mself\u001b[39m\u001b[38;5;241m.\u001b[39m_forward_hooks \u001b[38;5;129;01mor\u001b[39;00m \u001b[38;5;28mself\u001b[39m\u001b[38;5;241m.\u001b[39m_forward_pre_hooks\n\u001b[0;32m   1525\u001b[0m         \u001b[38;5;129;01mor\u001b[39;00m _global_backward_pre_hooks \u001b[38;5;129;01mor\u001b[39;00m _global_backward_hooks\n\u001b[0;32m   1526\u001b[0m         \u001b[38;5;129;01mor\u001b[39;00m _global_forward_hooks \u001b[38;5;129;01mor\u001b[39;00m _global_forward_pre_hooks):\n\u001b[1;32m-> 1527\u001b[0m     \u001b[38;5;28;01mreturn\u001b[39;00m \u001b[43mforward_call\u001b[49m\u001b[43m(\u001b[49m\u001b[38;5;241;43m*\u001b[39;49m\u001b[43margs\u001b[49m\u001b[43m,\u001b[49m\u001b[43m \u001b[49m\u001b[38;5;241;43m*\u001b[39;49m\u001b[38;5;241;43m*\u001b[39;49m\u001b[43mkwargs\u001b[49m\u001b[43m)\u001b[49m\n\u001b[0;32m   1529\u001b[0m \u001b[38;5;28;01mtry\u001b[39;00m:\n\u001b[0;32m   1530\u001b[0m     result \u001b[38;5;241m=\u001b[39m \u001b[38;5;28;01mNone\u001b[39;00m\n",
            "File \u001b[1;32mc:\\Education\\MSCS UDC\\Research Projects\\CCT Project\\utils\\tokenizer.py:39\u001b[0m, in \u001b[0;36mTokenizer.forward\u001b[1;34m(self, x)\u001b[0m\n\u001b[0;32m     38\u001b[0m \u001b[38;5;28;01mdef\u001b[39;00m \u001b[38;5;21mforward\u001b[39m(\u001b[38;5;28mself\u001b[39m, x):\n\u001b[1;32m---> 39\u001b[0m     x \u001b[38;5;241m=\u001b[39m \u001b[38;5;28;43mself\u001b[39;49m\u001b[38;5;241;43m.\u001b[39;49m\u001b[43mconv_layers\u001b[49m\u001b[43m(\u001b[49m\u001b[43mx\u001b[49m\u001b[43m)\u001b[49m\n\u001b[0;32m     40\u001b[0m     x \u001b[38;5;241m=\u001b[39m \u001b[38;5;28mself\u001b[39m\u001b[38;5;241m.\u001b[39mactivation(x)\n\u001b[0;32m     41\u001b[0m     \u001b[38;5;28;01mreturn\u001b[39;00m x\n",
            "File \u001b[1;32mc:\\Users\\Landry\\anaconda3\\envs\\CCT\\lib\\site-packages\\torch\\nn\\modules\\module.py:1518\u001b[0m, in \u001b[0;36mModule._wrapped_call_impl\u001b[1;34m(self, *args, **kwargs)\u001b[0m\n\u001b[0;32m   1516\u001b[0m     \u001b[38;5;28;01mreturn\u001b[39;00m \u001b[38;5;28mself\u001b[39m\u001b[38;5;241m.\u001b[39m_compiled_call_impl(\u001b[38;5;241m*\u001b[39margs, \u001b[38;5;241m*\u001b[39m\u001b[38;5;241m*\u001b[39mkwargs)  \u001b[38;5;66;03m# type: ignore[misc]\u001b[39;00m\n\u001b[0;32m   1517\u001b[0m \u001b[38;5;28;01melse\u001b[39;00m:\n\u001b[1;32m-> 1518\u001b[0m     \u001b[38;5;28;01mreturn\u001b[39;00m \u001b[38;5;28;43mself\u001b[39;49m\u001b[38;5;241;43m.\u001b[39;49m\u001b[43m_call_impl\u001b[49m\u001b[43m(\u001b[49m\u001b[38;5;241;43m*\u001b[39;49m\u001b[43margs\u001b[49m\u001b[43m,\u001b[49m\u001b[43m \u001b[49m\u001b[38;5;241;43m*\u001b[39;49m\u001b[38;5;241;43m*\u001b[39;49m\u001b[43mkwargs\u001b[49m\u001b[43m)\u001b[49m\n",
            "File \u001b[1;32mc:\\Users\\Landry\\anaconda3\\envs\\CCT\\lib\\site-packages\\torch\\nn\\modules\\module.py:1527\u001b[0m, in \u001b[0;36mModule._call_impl\u001b[1;34m(self, *args, **kwargs)\u001b[0m\n\u001b[0;32m   1522\u001b[0m \u001b[38;5;66;03m# If we don't have any hooks, we want to skip the rest of the logic in\u001b[39;00m\n\u001b[0;32m   1523\u001b[0m \u001b[38;5;66;03m# this function, and just call forward.\u001b[39;00m\n\u001b[0;32m   1524\u001b[0m \u001b[38;5;28;01mif\u001b[39;00m \u001b[38;5;129;01mnot\u001b[39;00m (\u001b[38;5;28mself\u001b[39m\u001b[38;5;241m.\u001b[39m_backward_hooks \u001b[38;5;129;01mor\u001b[39;00m \u001b[38;5;28mself\u001b[39m\u001b[38;5;241m.\u001b[39m_backward_pre_hooks \u001b[38;5;129;01mor\u001b[39;00m \u001b[38;5;28mself\u001b[39m\u001b[38;5;241m.\u001b[39m_forward_hooks \u001b[38;5;129;01mor\u001b[39;00m \u001b[38;5;28mself\u001b[39m\u001b[38;5;241m.\u001b[39m_forward_pre_hooks\n\u001b[0;32m   1525\u001b[0m         \u001b[38;5;129;01mor\u001b[39;00m _global_backward_pre_hooks \u001b[38;5;129;01mor\u001b[39;00m _global_backward_hooks\n\u001b[0;32m   1526\u001b[0m         \u001b[38;5;129;01mor\u001b[39;00m _global_forward_hooks \u001b[38;5;129;01mor\u001b[39;00m _global_forward_pre_hooks):\n\u001b[1;32m-> 1527\u001b[0m     \u001b[38;5;28;01mreturn\u001b[39;00m \u001b[43mforward_call\u001b[49m\u001b[43m(\u001b[49m\u001b[38;5;241;43m*\u001b[39;49m\u001b[43margs\u001b[49m\u001b[43m,\u001b[49m\u001b[43m \u001b[49m\u001b[38;5;241;43m*\u001b[39;49m\u001b[38;5;241;43m*\u001b[39;49m\u001b[43mkwargs\u001b[49m\u001b[43m)\u001b[49m\n\u001b[0;32m   1529\u001b[0m \u001b[38;5;28;01mtry\u001b[39;00m:\n\u001b[0;32m   1530\u001b[0m     result \u001b[38;5;241m=\u001b[39m \u001b[38;5;28;01mNone\u001b[39;00m\n",
            "File \u001b[1;32mc:\\Users\\Landry\\anaconda3\\envs\\CCT\\lib\\site-packages\\torch\\nn\\modules\\container.py:215\u001b[0m, in \u001b[0;36mSequential.forward\u001b[1;34m(self, input)\u001b[0m\n\u001b[0;32m    213\u001b[0m \u001b[38;5;28;01mdef\u001b[39;00m \u001b[38;5;21mforward\u001b[39m(\u001b[38;5;28mself\u001b[39m, \u001b[38;5;28minput\u001b[39m):\n\u001b[0;32m    214\u001b[0m     \u001b[38;5;28;01mfor\u001b[39;00m module \u001b[38;5;129;01min\u001b[39;00m \u001b[38;5;28mself\u001b[39m:\n\u001b[1;32m--> 215\u001b[0m         \u001b[38;5;28minput\u001b[39m \u001b[38;5;241m=\u001b[39m \u001b[43mmodule\u001b[49m\u001b[43m(\u001b[49m\u001b[38;5;28;43minput\u001b[39;49m\u001b[43m)\u001b[49m\n\u001b[0;32m    216\u001b[0m     \u001b[38;5;28;01mreturn\u001b[39;00m \u001b[38;5;28minput\u001b[39m\n",
            "File \u001b[1;32mc:\\Users\\Landry\\anaconda3\\envs\\CCT\\lib\\site-packages\\torch\\nn\\modules\\module.py:1518\u001b[0m, in \u001b[0;36mModule._wrapped_call_impl\u001b[1;34m(self, *args, **kwargs)\u001b[0m\n\u001b[0;32m   1516\u001b[0m     \u001b[38;5;28;01mreturn\u001b[39;00m \u001b[38;5;28mself\u001b[39m\u001b[38;5;241m.\u001b[39m_compiled_call_impl(\u001b[38;5;241m*\u001b[39margs, \u001b[38;5;241m*\u001b[39m\u001b[38;5;241m*\u001b[39mkwargs)  \u001b[38;5;66;03m# type: ignore[misc]\u001b[39;00m\n\u001b[0;32m   1517\u001b[0m \u001b[38;5;28;01melse\u001b[39;00m:\n\u001b[1;32m-> 1518\u001b[0m     \u001b[38;5;28;01mreturn\u001b[39;00m \u001b[38;5;28;43mself\u001b[39;49m\u001b[38;5;241;43m.\u001b[39;49m\u001b[43m_call_impl\u001b[49m\u001b[43m(\u001b[49m\u001b[38;5;241;43m*\u001b[39;49m\u001b[43margs\u001b[49m\u001b[43m,\u001b[49m\u001b[43m \u001b[49m\u001b[38;5;241;43m*\u001b[39;49m\u001b[38;5;241;43m*\u001b[39;49m\u001b[43mkwargs\u001b[49m\u001b[43m)\u001b[49m\n",
            "File \u001b[1;32mc:\\Users\\Landry\\anaconda3\\envs\\CCT\\lib\\site-packages\\torch\\nn\\modules\\module.py:1527\u001b[0m, in \u001b[0;36mModule._call_impl\u001b[1;34m(self, *args, **kwargs)\u001b[0m\n\u001b[0;32m   1522\u001b[0m \u001b[38;5;66;03m# If we don't have any hooks, we want to skip the rest of the logic in\u001b[39;00m\n\u001b[0;32m   1523\u001b[0m \u001b[38;5;66;03m# this function, and just call forward.\u001b[39;00m\n\u001b[0;32m   1524\u001b[0m \u001b[38;5;28;01mif\u001b[39;00m \u001b[38;5;129;01mnot\u001b[39;00m (\u001b[38;5;28mself\u001b[39m\u001b[38;5;241m.\u001b[39m_backward_hooks \u001b[38;5;129;01mor\u001b[39;00m \u001b[38;5;28mself\u001b[39m\u001b[38;5;241m.\u001b[39m_backward_pre_hooks \u001b[38;5;129;01mor\u001b[39;00m \u001b[38;5;28mself\u001b[39m\u001b[38;5;241m.\u001b[39m_forward_hooks \u001b[38;5;129;01mor\u001b[39;00m \u001b[38;5;28mself\u001b[39m\u001b[38;5;241m.\u001b[39m_forward_pre_hooks\n\u001b[0;32m   1525\u001b[0m         \u001b[38;5;129;01mor\u001b[39;00m _global_backward_pre_hooks \u001b[38;5;129;01mor\u001b[39;00m _global_backward_hooks\n\u001b[0;32m   1526\u001b[0m         \u001b[38;5;129;01mor\u001b[39;00m _global_forward_hooks \u001b[38;5;129;01mor\u001b[39;00m _global_forward_pre_hooks):\n\u001b[1;32m-> 1527\u001b[0m     \u001b[38;5;28;01mreturn\u001b[39;00m \u001b[43mforward_call\u001b[49m\u001b[43m(\u001b[49m\u001b[38;5;241;43m*\u001b[39;49m\u001b[43margs\u001b[49m\u001b[43m,\u001b[49m\u001b[43m \u001b[49m\u001b[38;5;241;43m*\u001b[39;49m\u001b[38;5;241;43m*\u001b[39;49m\u001b[43mkwargs\u001b[49m\u001b[43m)\u001b[49m\n\u001b[0;32m   1529\u001b[0m \u001b[38;5;28;01mtry\u001b[39;00m:\n\u001b[0;32m   1530\u001b[0m     result \u001b[38;5;241m=\u001b[39m \u001b[38;5;28;01mNone\u001b[39;00m\n",
            "File \u001b[1;32mc:\\Users\\Landry\\anaconda3\\envs\\CCT\\lib\\site-packages\\torch\\nn\\modules\\container.py:215\u001b[0m, in \u001b[0;36mSequential.forward\u001b[1;34m(self, input)\u001b[0m\n\u001b[0;32m    213\u001b[0m \u001b[38;5;28;01mdef\u001b[39;00m \u001b[38;5;21mforward\u001b[39m(\u001b[38;5;28mself\u001b[39m, \u001b[38;5;28minput\u001b[39m):\n\u001b[0;32m    214\u001b[0m     \u001b[38;5;28;01mfor\u001b[39;00m module \u001b[38;5;129;01min\u001b[39;00m \u001b[38;5;28mself\u001b[39m:\n\u001b[1;32m--> 215\u001b[0m         \u001b[38;5;28minput\u001b[39m \u001b[38;5;241m=\u001b[39m \u001b[43mmodule\u001b[49m\u001b[43m(\u001b[49m\u001b[38;5;28;43minput\u001b[39;49m\u001b[43m)\u001b[49m\n\u001b[0;32m    216\u001b[0m     \u001b[38;5;28;01mreturn\u001b[39;00m \u001b[38;5;28minput\u001b[39m\n",
            "File \u001b[1;32mc:\\Users\\Landry\\anaconda3\\envs\\CCT\\lib\\site-packages\\torch\\nn\\modules\\module.py:1518\u001b[0m, in \u001b[0;36mModule._wrapped_call_impl\u001b[1;34m(self, *args, **kwargs)\u001b[0m\n\u001b[0;32m   1516\u001b[0m     \u001b[38;5;28;01mreturn\u001b[39;00m \u001b[38;5;28mself\u001b[39m\u001b[38;5;241m.\u001b[39m_compiled_call_impl(\u001b[38;5;241m*\u001b[39margs, \u001b[38;5;241m*\u001b[39m\u001b[38;5;241m*\u001b[39mkwargs)  \u001b[38;5;66;03m# type: ignore[misc]\u001b[39;00m\n\u001b[0;32m   1517\u001b[0m \u001b[38;5;28;01melse\u001b[39;00m:\n\u001b[1;32m-> 1518\u001b[0m     \u001b[38;5;28;01mreturn\u001b[39;00m \u001b[38;5;28;43mself\u001b[39;49m\u001b[38;5;241;43m.\u001b[39;49m\u001b[43m_call_impl\u001b[49m\u001b[43m(\u001b[49m\u001b[38;5;241;43m*\u001b[39;49m\u001b[43margs\u001b[49m\u001b[43m,\u001b[49m\u001b[43m \u001b[49m\u001b[38;5;241;43m*\u001b[39;49m\u001b[38;5;241;43m*\u001b[39;49m\u001b[43mkwargs\u001b[49m\u001b[43m)\u001b[49m\n",
            "File \u001b[1;32mc:\\Users\\Landry\\anaconda3\\envs\\CCT\\lib\\site-packages\\torch\\nn\\modules\\module.py:1527\u001b[0m, in \u001b[0;36mModule._call_impl\u001b[1;34m(self, *args, **kwargs)\u001b[0m\n\u001b[0;32m   1522\u001b[0m \u001b[38;5;66;03m# If we don't have any hooks, we want to skip the rest of the logic in\u001b[39;00m\n\u001b[0;32m   1523\u001b[0m \u001b[38;5;66;03m# this function, and just call forward.\u001b[39;00m\n\u001b[0;32m   1524\u001b[0m \u001b[38;5;28;01mif\u001b[39;00m \u001b[38;5;129;01mnot\u001b[39;00m (\u001b[38;5;28mself\u001b[39m\u001b[38;5;241m.\u001b[39m_backward_hooks \u001b[38;5;129;01mor\u001b[39;00m \u001b[38;5;28mself\u001b[39m\u001b[38;5;241m.\u001b[39m_backward_pre_hooks \u001b[38;5;129;01mor\u001b[39;00m \u001b[38;5;28mself\u001b[39m\u001b[38;5;241m.\u001b[39m_forward_hooks \u001b[38;5;129;01mor\u001b[39;00m \u001b[38;5;28mself\u001b[39m\u001b[38;5;241m.\u001b[39m_forward_pre_hooks\n\u001b[0;32m   1525\u001b[0m         \u001b[38;5;129;01mor\u001b[39;00m _global_backward_pre_hooks \u001b[38;5;129;01mor\u001b[39;00m _global_backward_hooks\n\u001b[0;32m   1526\u001b[0m         \u001b[38;5;129;01mor\u001b[39;00m _global_forward_hooks \u001b[38;5;129;01mor\u001b[39;00m _global_forward_pre_hooks):\n\u001b[1;32m-> 1527\u001b[0m     \u001b[38;5;28;01mreturn\u001b[39;00m \u001b[43mforward_call\u001b[49m\u001b[43m(\u001b[49m\u001b[38;5;241;43m*\u001b[39;49m\u001b[43margs\u001b[49m\u001b[43m,\u001b[49m\u001b[43m \u001b[49m\u001b[38;5;241;43m*\u001b[39;49m\u001b[38;5;241;43m*\u001b[39;49m\u001b[43mkwargs\u001b[49m\u001b[43m)\u001b[49m\n\u001b[0;32m   1529\u001b[0m \u001b[38;5;28;01mtry\u001b[39;00m:\n\u001b[0;32m   1530\u001b[0m     result \u001b[38;5;241m=\u001b[39m \u001b[38;5;28;01mNone\u001b[39;00m\n",
            "File \u001b[1;32mc:\\Users\\Landry\\anaconda3\\envs\\CCT\\lib\\site-packages\\torch\\nn\\modules\\conv.py:310\u001b[0m, in \u001b[0;36mConv1d.forward\u001b[1;34m(self, input)\u001b[0m\n\u001b[0;32m    309\u001b[0m \u001b[38;5;28;01mdef\u001b[39;00m \u001b[38;5;21mforward\u001b[39m(\u001b[38;5;28mself\u001b[39m, \u001b[38;5;28minput\u001b[39m: Tensor) \u001b[38;5;241m-\u001b[39m\u001b[38;5;241m>\u001b[39m Tensor:\n\u001b[1;32m--> 310\u001b[0m     \u001b[38;5;28;01mreturn\u001b[39;00m \u001b[38;5;28;43mself\u001b[39;49m\u001b[38;5;241;43m.\u001b[39;49m\u001b[43m_conv_forward\u001b[49m\u001b[43m(\u001b[49m\u001b[38;5;28;43minput\u001b[39;49m\u001b[43m,\u001b[49m\u001b[43m \u001b[49m\u001b[38;5;28;43mself\u001b[39;49m\u001b[38;5;241;43m.\u001b[39;49m\u001b[43mweight\u001b[49m\u001b[43m,\u001b[49m\u001b[43m \u001b[49m\u001b[38;5;28;43mself\u001b[39;49m\u001b[38;5;241;43m.\u001b[39;49m\u001b[43mbias\u001b[49m\u001b[43m)\u001b[49m\n",
            "File \u001b[1;32mc:\\Users\\Landry\\anaconda3\\envs\\CCT\\lib\\site-packages\\torch\\nn\\modules\\conv.py:306\u001b[0m, in \u001b[0;36mConv1d._conv_forward\u001b[1;34m(self, input, weight, bias)\u001b[0m\n\u001b[0;32m    302\u001b[0m \u001b[38;5;28;01mif\u001b[39;00m \u001b[38;5;28mself\u001b[39m\u001b[38;5;241m.\u001b[39mpadding_mode \u001b[38;5;241m!=\u001b[39m \u001b[38;5;124m'\u001b[39m\u001b[38;5;124mzeros\u001b[39m\u001b[38;5;124m'\u001b[39m:\n\u001b[0;32m    303\u001b[0m     \u001b[38;5;28;01mreturn\u001b[39;00m F\u001b[38;5;241m.\u001b[39mconv1d(F\u001b[38;5;241m.\u001b[39mpad(\u001b[38;5;28minput\u001b[39m, \u001b[38;5;28mself\u001b[39m\u001b[38;5;241m.\u001b[39m_reversed_padding_repeated_twice, mode\u001b[38;5;241m=\u001b[39m\u001b[38;5;28mself\u001b[39m\u001b[38;5;241m.\u001b[39mpadding_mode),\n\u001b[0;32m    304\u001b[0m                     weight, bias, \u001b[38;5;28mself\u001b[39m\u001b[38;5;241m.\u001b[39mstride,\n\u001b[0;32m    305\u001b[0m                     _single(\u001b[38;5;241m0\u001b[39m), \u001b[38;5;28mself\u001b[39m\u001b[38;5;241m.\u001b[39mdilation, \u001b[38;5;28mself\u001b[39m\u001b[38;5;241m.\u001b[39mgroups)\n\u001b[1;32m--> 306\u001b[0m \u001b[38;5;28;01mreturn\u001b[39;00m \u001b[43mF\u001b[49m\u001b[38;5;241;43m.\u001b[39;49m\u001b[43mconv1d\u001b[49m\u001b[43m(\u001b[49m\u001b[38;5;28;43minput\u001b[39;49m\u001b[43m,\u001b[49m\u001b[43m \u001b[49m\u001b[43mweight\u001b[49m\u001b[43m,\u001b[49m\u001b[43m \u001b[49m\u001b[43mbias\u001b[49m\u001b[43m,\u001b[49m\u001b[43m \u001b[49m\u001b[38;5;28;43mself\u001b[39;49m\u001b[38;5;241;43m.\u001b[39;49m\u001b[43mstride\u001b[49m\u001b[43m,\u001b[49m\n\u001b[0;32m    307\u001b[0m \u001b[43m                \u001b[49m\u001b[38;5;28;43mself\u001b[39;49m\u001b[38;5;241;43m.\u001b[39;49m\u001b[43mpadding\u001b[49m\u001b[43m,\u001b[49m\u001b[43m \u001b[49m\u001b[38;5;28;43mself\u001b[39;49m\u001b[38;5;241;43m.\u001b[39;49m\u001b[43mdilation\u001b[49m\u001b[43m,\u001b[49m\u001b[43m \u001b[49m\u001b[38;5;28;43mself\u001b[39;49m\u001b[38;5;241;43m.\u001b[39;49m\u001b[43mgroups\u001b[49m\u001b[43m)\u001b[49m\n",
            "\u001b[1;31mRuntimeError\u001b[0m: Given groups=1, weight of size [128, 1, 1], expected input[64, 5, 1] to have 1 channels, but got 5 channels instead"
          ]
        }
      ],
      "source": [
        "import torch.optim as optim \n",
        "criterion = nn.MSELoss()\n",
        "\n",
        "optimizer = optim.Adam(model_cct.parameters(), lr= 0.001)\n",
        "\n",
        "num_epochs = 10\n",
        "for epoch in range(num_epochs):\n",
        "    model_cct.train()\n",
        "    total_loss = 0.0\n",
        "\n",
        "    for X, y in train_dataloader:\n",
        "        optimizer.zero_grad()\n",
        "\n",
        "        # Forward pass with input data\n",
        "        output = model_cct(X)\n",
        "        print(output.shape)\n",
        "        print(y.shape)\n",
        "        # Calculate loss\n",
        "        loss = criterion(output.squeeze(), y)\n",
        "\n",
        "        # Backpropagation\n",
        "        loss.backward()\n",
        "        optimizer.step()\n",
        "\n",
        "        total_loss += loss.item()\n",
        "\n",
        "    # Print or log average training loss for the epoch\n",
        "    average_loss = total_loss / len(train_dataloader)\n",
        "    print(f'Epoch {epoch + 1}/{num_epochs}, Average Loss: {average_loss}')\n",
        "\n",
        "# Optionally, you can evaluate the model on the test set after training\n",
        "model_cct.eval()\n",
        "with torch.no_grad():\n",
        "    for X, y in test_dataloader:\n",
        "        output = model_cct(X)\n",
        "        test_loss = criterion(output.squeeze(), y)\n",
        "\n",
        "    # Print or log test loss\n",
        "    print(f'Test Loss: {test_loss.item()}')\n",
        "\n"
      ]
    },
    {
      "cell_type": "code",
      "execution_count": null,
      "metadata": {},
      "outputs": [
        {
          "ename": "NameError",
          "evalue": "name 'model_cct' is not defined",
          "output_type": "error",
          "traceback": [
            "\u001b[1;31m---------------------------------------------------------------------------\u001b[0m",
            "\u001b[1;31mNameError\u001b[0m                                 Traceback (most recent call last)",
            "Cell \u001b[1;32mIn[31], line 4\u001b[0m\n\u001b[0;32m      1\u001b[0m \u001b[38;5;66;03m#Modified to separate loss function and optimizer for each model\u001b[39;00m\n\u001b[0;32m      3\u001b[0m loss_fn_cct \u001b[38;5;241m=\u001b[39m nn\u001b[38;5;241m.\u001b[39mCrossEntropyLoss()\n\u001b[1;32m----> 4\u001b[0m optimizer_cct \u001b[38;5;241m=\u001b[39m torch\u001b[38;5;241m.\u001b[39moptim\u001b[38;5;241m.\u001b[39mSGD(\u001b[43mmodel_cct\u001b[49m\u001b[38;5;241m.\u001b[39mparameters(), lr\u001b[38;5;241m=\u001b[39m\u001b[38;5;241m1e-3\u001b[39m)\n",
            "\u001b[1;31mNameError\u001b[0m: name 'model_cct' is not defined"
          ]
        }
      ],
      "source": [
        "#Modified to separate loss function and optimizer for each model\n",
        "\n",
        "loss_fn_cct = nn.CrossEntropyLoss()\n",
        "optimizer_cct = torch.optim.SGD(model_cct.parameters(), lr=1e-3)"
      ]
    },
    {
      "cell_type": "code",
      "execution_count": null,
      "metadata": {},
      "outputs": [],
      "source": [
        "def train(dataloader, model, loss_fn, optimizer):\n",
        "    size = len(dataloader.dataset)\n",
        "    model.train()\n",
        "    for batch, (X, y) in enumerate(dataloader):\n",
        "        X, y = X.to(device), y.to(device)\n",
        "\n",
        "        # Compute prediction error\n",
        "        pred = model(X)\n",
        "        loss = loss_fn(pred, y)\n",
        "\n",
        "        # Backpropagation\n",
        "        optimizer.zero_grad()\n",
        "        loss.backward()\n",
        "        optimizer.step()\n",
        "\n",
        "        if batch % 100 == 0:\n",
        "            loss, current = loss.item(), batch * len(X)\n",
        "            print(f\"loss: {loss:>7f}  [{current:>5d}/{size:>5d}]\")"
      ]
    },
    {
      "cell_type": "code",
      "execution_count": null,
      "metadata": {},
      "outputs": [],
      "source": [
        "def test(dataloader, model, loss_fn):\n",
        "    size = len(dataloader.dataset)\n",
        "    num_batches = len(dataloader)\n",
        "    model.eval()\n",
        "    test_loss, correct = 0, 0\n",
        "    with torch.no_grad():\n",
        "        for X, y in dataloader:\n",
        "            X, y = X.to(device), y.to(device)\n",
        "            pred = model(X)\n",
        "            test_loss += loss_fn(pred, y).item()\n",
        "            correct += (pred.argmax(1) == y).type(torch.float).sum().item()\n",
        "    test_loss /= num_batches\n",
        "    correct /= size\n",
        "    print(f\"Test Error: \\n Accuracy: {(100*correct):>0.1f}%, Avg loss: {test_loss:>8f} \\n\")"
      ]
    },
    {
      "cell_type": "code",
      "execution_count": 9,
      "metadata": {},
      "outputs": [
        {
          "name": "stdout",
          "output_type": "stream",
          "text": [
            "CCT Model: Epoch 1\n",
            "-------------------------------\n"
          ]
        },
        {
          "ename": "RuntimeError",
          "evalue": "Given groups=1, weight of size [128, 1, 3], expected input[64, 5, 1] to have 1 channels, but got 5 channels instead",
          "output_type": "error",
          "traceback": [
            "\u001b[1;31m---------------------------------------------------------------------------\u001b[0m",
            "\u001b[1;31mRuntimeError\u001b[0m                              Traceback (most recent call last)",
            "Cell \u001b[1;32mIn[9], line 9\u001b[0m\n\u001b[0;32m      7\u001b[0m \u001b[38;5;28;01mfor\u001b[39;00m t \u001b[38;5;129;01min\u001b[39;00m \u001b[38;5;28mrange\u001b[39m(epochs):\n\u001b[0;32m      8\u001b[0m     \u001b[38;5;28mprint\u001b[39m(\u001b[38;5;124mf\u001b[39m\u001b[38;5;124m\"\u001b[39m\u001b[38;5;124mCCT Model: Epoch \u001b[39m\u001b[38;5;132;01m{\u001b[39;00mt\u001b[38;5;241m+\u001b[39m\u001b[38;5;241m1\u001b[39m\u001b[38;5;132;01m}\u001b[39;00m\u001b[38;5;130;01m\\n\u001b[39;00m\u001b[38;5;124m-------------------------------\u001b[39m\u001b[38;5;124m\"\u001b[39m)\n\u001b[1;32m----> 9\u001b[0m     \u001b[43mtrain\u001b[49m\u001b[43m(\u001b[49m\u001b[43mtrain_dataloader\u001b[49m\u001b[43m,\u001b[49m\u001b[43m \u001b[49m\u001b[43mmodel\u001b[49m\u001b[43m,\u001b[49m\u001b[43m \u001b[49m\u001b[43mloss_fn\u001b[49m\u001b[43m,\u001b[49m\u001b[43m \u001b[49m\u001b[43moptimizer\u001b[49m\u001b[43m)\u001b[49m\n\u001b[0;32m     10\u001b[0m     test(test_dataloader, model, loss_fn)\n\u001b[0;32m     11\u001b[0m \u001b[38;5;28mprint\u001b[39m(\u001b[38;5;124m\"\u001b[39m\u001b[38;5;124mCCT Done!\u001b[39m\u001b[38;5;124m\"\u001b[39m)\n",
            "Cell \u001b[1;32mIn[7], line 8\u001b[0m, in \u001b[0;36mtrain\u001b[1;34m(dataloader, model, loss_fn, optimizer)\u001b[0m\n\u001b[0;32m      5\u001b[0m X, y \u001b[38;5;241m=\u001b[39m X\u001b[38;5;241m.\u001b[39mto(device), y\u001b[38;5;241m.\u001b[39mto(device)\n\u001b[0;32m      7\u001b[0m \u001b[38;5;66;03m# Compute prediction error\u001b[39;00m\n\u001b[1;32m----> 8\u001b[0m pred \u001b[38;5;241m=\u001b[39m \u001b[43mmodel\u001b[49m\u001b[43m(\u001b[49m\u001b[43mX\u001b[49m\u001b[43m)\u001b[49m\n\u001b[0;32m      9\u001b[0m loss \u001b[38;5;241m=\u001b[39m loss_fn(pred, y)\n\u001b[0;32m     11\u001b[0m \u001b[38;5;66;03m# Backpropagation\u001b[39;00m\n",
            "File \u001b[1;32mc:\\Users\\Landry\\anaconda3\\envs\\CCT\\lib\\site-packages\\torch\\nn\\modules\\module.py:1518\u001b[0m, in \u001b[0;36mModule._wrapped_call_impl\u001b[1;34m(self, *args, **kwargs)\u001b[0m\n\u001b[0;32m   1516\u001b[0m     \u001b[38;5;28;01mreturn\u001b[39;00m \u001b[38;5;28mself\u001b[39m\u001b[38;5;241m.\u001b[39m_compiled_call_impl(\u001b[38;5;241m*\u001b[39margs, \u001b[38;5;241m*\u001b[39m\u001b[38;5;241m*\u001b[39mkwargs)  \u001b[38;5;66;03m# type: ignore[misc]\u001b[39;00m\n\u001b[0;32m   1517\u001b[0m \u001b[38;5;28;01melse\u001b[39;00m:\n\u001b[1;32m-> 1518\u001b[0m     \u001b[38;5;28;01mreturn\u001b[39;00m \u001b[38;5;28;43mself\u001b[39;49m\u001b[38;5;241;43m.\u001b[39;49m\u001b[43m_call_impl\u001b[49m\u001b[43m(\u001b[49m\u001b[38;5;241;43m*\u001b[39;49m\u001b[43margs\u001b[49m\u001b[43m,\u001b[49m\u001b[43m \u001b[49m\u001b[38;5;241;43m*\u001b[39;49m\u001b[38;5;241;43m*\u001b[39;49m\u001b[43mkwargs\u001b[49m\u001b[43m)\u001b[49m\n",
            "File \u001b[1;32mc:\\Users\\Landry\\anaconda3\\envs\\CCT\\lib\\site-packages\\torch\\nn\\modules\\module.py:1527\u001b[0m, in \u001b[0;36mModule._call_impl\u001b[1;34m(self, *args, **kwargs)\u001b[0m\n\u001b[0;32m   1522\u001b[0m \u001b[38;5;66;03m# If we don't have any hooks, we want to skip the rest of the logic in\u001b[39;00m\n\u001b[0;32m   1523\u001b[0m \u001b[38;5;66;03m# this function, and just call forward.\u001b[39;00m\n\u001b[0;32m   1524\u001b[0m \u001b[38;5;28;01mif\u001b[39;00m \u001b[38;5;129;01mnot\u001b[39;00m (\u001b[38;5;28mself\u001b[39m\u001b[38;5;241m.\u001b[39m_backward_hooks \u001b[38;5;129;01mor\u001b[39;00m \u001b[38;5;28mself\u001b[39m\u001b[38;5;241m.\u001b[39m_backward_pre_hooks \u001b[38;5;129;01mor\u001b[39;00m \u001b[38;5;28mself\u001b[39m\u001b[38;5;241m.\u001b[39m_forward_hooks \u001b[38;5;129;01mor\u001b[39;00m \u001b[38;5;28mself\u001b[39m\u001b[38;5;241m.\u001b[39m_forward_pre_hooks\n\u001b[0;32m   1525\u001b[0m         \u001b[38;5;129;01mor\u001b[39;00m _global_backward_pre_hooks \u001b[38;5;129;01mor\u001b[39;00m _global_backward_hooks\n\u001b[0;32m   1526\u001b[0m         \u001b[38;5;129;01mor\u001b[39;00m _global_forward_hooks \u001b[38;5;129;01mor\u001b[39;00m _global_forward_pre_hooks):\n\u001b[1;32m-> 1527\u001b[0m     \u001b[38;5;28;01mreturn\u001b[39;00m \u001b[43mforward_call\u001b[49m\u001b[43m(\u001b[49m\u001b[38;5;241;43m*\u001b[39;49m\u001b[43margs\u001b[49m\u001b[43m,\u001b[49m\u001b[43m \u001b[49m\u001b[38;5;241;43m*\u001b[39;49m\u001b[38;5;241;43m*\u001b[39;49m\u001b[43mkwargs\u001b[49m\u001b[43m)\u001b[49m\n\u001b[0;32m   1529\u001b[0m \u001b[38;5;28;01mtry\u001b[39;00m:\n\u001b[0;32m   1530\u001b[0m     result \u001b[38;5;241m=\u001b[39m \u001b[38;5;28;01mNone\u001b[39;00m\n",
            "Cell \u001b[1;32mIn[2], line 88\u001b[0m, in \u001b[0;36mCCT.forward\u001b[1;34m(self, x)\u001b[0m\n\u001b[0;32m     87\u001b[0m \u001b[38;5;28;01mdef\u001b[39;00m \u001b[38;5;21mforward\u001b[39m(\u001b[38;5;28mself\u001b[39m, x):\n\u001b[1;32m---> 88\u001b[0m     x \u001b[38;5;241m=\u001b[39m \u001b[38;5;28;43mself\u001b[39;49m\u001b[38;5;241;43m.\u001b[39;49m\u001b[43mtokenizer\u001b[49m\u001b[43m(\u001b[49m\u001b[43mx\u001b[49m\u001b[43m)\u001b[49m\n\u001b[0;32m     89\u001b[0m     \u001b[38;5;28;01mreturn\u001b[39;00m \u001b[38;5;28mself\u001b[39m\u001b[38;5;241m.\u001b[39mclassifier(x)\n",
            "File \u001b[1;32mc:\\Users\\Landry\\anaconda3\\envs\\CCT\\lib\\site-packages\\torch\\nn\\modules\\module.py:1518\u001b[0m, in \u001b[0;36mModule._wrapped_call_impl\u001b[1;34m(self, *args, **kwargs)\u001b[0m\n\u001b[0;32m   1516\u001b[0m     \u001b[38;5;28;01mreturn\u001b[39;00m \u001b[38;5;28mself\u001b[39m\u001b[38;5;241m.\u001b[39m_compiled_call_impl(\u001b[38;5;241m*\u001b[39margs, \u001b[38;5;241m*\u001b[39m\u001b[38;5;241m*\u001b[39mkwargs)  \u001b[38;5;66;03m# type: ignore[misc]\u001b[39;00m\n\u001b[0;32m   1517\u001b[0m \u001b[38;5;28;01melse\u001b[39;00m:\n\u001b[1;32m-> 1518\u001b[0m     \u001b[38;5;28;01mreturn\u001b[39;00m \u001b[38;5;28;43mself\u001b[39;49m\u001b[38;5;241;43m.\u001b[39;49m\u001b[43m_call_impl\u001b[49m\u001b[43m(\u001b[49m\u001b[38;5;241;43m*\u001b[39;49m\u001b[43margs\u001b[49m\u001b[43m,\u001b[49m\u001b[43m \u001b[49m\u001b[38;5;241;43m*\u001b[39;49m\u001b[38;5;241;43m*\u001b[39;49m\u001b[43mkwargs\u001b[49m\u001b[43m)\u001b[49m\n",
            "File \u001b[1;32mc:\\Users\\Landry\\anaconda3\\envs\\CCT\\lib\\site-packages\\torch\\nn\\modules\\module.py:1527\u001b[0m, in \u001b[0;36mModule._call_impl\u001b[1;34m(self, *args, **kwargs)\u001b[0m\n\u001b[0;32m   1522\u001b[0m \u001b[38;5;66;03m# If we don't have any hooks, we want to skip the rest of the logic in\u001b[39;00m\n\u001b[0;32m   1523\u001b[0m \u001b[38;5;66;03m# this function, and just call forward.\u001b[39;00m\n\u001b[0;32m   1524\u001b[0m \u001b[38;5;28;01mif\u001b[39;00m \u001b[38;5;129;01mnot\u001b[39;00m (\u001b[38;5;28mself\u001b[39m\u001b[38;5;241m.\u001b[39m_backward_hooks \u001b[38;5;129;01mor\u001b[39;00m \u001b[38;5;28mself\u001b[39m\u001b[38;5;241m.\u001b[39m_backward_pre_hooks \u001b[38;5;129;01mor\u001b[39;00m \u001b[38;5;28mself\u001b[39m\u001b[38;5;241m.\u001b[39m_forward_hooks \u001b[38;5;129;01mor\u001b[39;00m \u001b[38;5;28mself\u001b[39m\u001b[38;5;241m.\u001b[39m_forward_pre_hooks\n\u001b[0;32m   1525\u001b[0m         \u001b[38;5;129;01mor\u001b[39;00m _global_backward_pre_hooks \u001b[38;5;129;01mor\u001b[39;00m _global_backward_hooks\n\u001b[0;32m   1526\u001b[0m         \u001b[38;5;129;01mor\u001b[39;00m _global_forward_hooks \u001b[38;5;129;01mor\u001b[39;00m _global_forward_pre_hooks):\n\u001b[1;32m-> 1527\u001b[0m     \u001b[38;5;28;01mreturn\u001b[39;00m \u001b[43mforward_call\u001b[49m\u001b[43m(\u001b[49m\u001b[38;5;241;43m*\u001b[39;49m\u001b[43margs\u001b[49m\u001b[43m,\u001b[49m\u001b[43m \u001b[49m\u001b[38;5;241;43m*\u001b[39;49m\u001b[38;5;241;43m*\u001b[39;49m\u001b[43mkwargs\u001b[49m\u001b[43m)\u001b[49m\n\u001b[0;32m   1529\u001b[0m \u001b[38;5;28;01mtry\u001b[39;00m:\n\u001b[0;32m   1530\u001b[0m     result \u001b[38;5;241m=\u001b[39m \u001b[38;5;28;01mNone\u001b[39;00m\n",
            "File \u001b[1;32mc:\\Education\\MSCS UDC\\Research Projects\\CCT Project\\utils\\tokenizer.py:39\u001b[0m, in \u001b[0;36mTokenizer.forward\u001b[1;34m(self, x)\u001b[0m\n\u001b[0;32m     38\u001b[0m \u001b[38;5;28;01mdef\u001b[39;00m \u001b[38;5;21mforward\u001b[39m(\u001b[38;5;28mself\u001b[39m, x):\n\u001b[1;32m---> 39\u001b[0m     x \u001b[38;5;241m=\u001b[39m \u001b[38;5;28;43mself\u001b[39;49m\u001b[38;5;241;43m.\u001b[39;49m\u001b[43mconv_layers\u001b[49m\u001b[43m(\u001b[49m\u001b[43mx\u001b[49m\u001b[43m)\u001b[49m\n\u001b[0;32m     40\u001b[0m     x \u001b[38;5;241m=\u001b[39m \u001b[38;5;28mself\u001b[39m\u001b[38;5;241m.\u001b[39mactivation(x)\n\u001b[0;32m     41\u001b[0m     \u001b[38;5;28;01mreturn\u001b[39;00m x\n",
            "File \u001b[1;32mc:\\Users\\Landry\\anaconda3\\envs\\CCT\\lib\\site-packages\\torch\\nn\\modules\\module.py:1518\u001b[0m, in \u001b[0;36mModule._wrapped_call_impl\u001b[1;34m(self, *args, **kwargs)\u001b[0m\n\u001b[0;32m   1516\u001b[0m     \u001b[38;5;28;01mreturn\u001b[39;00m \u001b[38;5;28mself\u001b[39m\u001b[38;5;241m.\u001b[39m_compiled_call_impl(\u001b[38;5;241m*\u001b[39margs, \u001b[38;5;241m*\u001b[39m\u001b[38;5;241m*\u001b[39mkwargs)  \u001b[38;5;66;03m# type: ignore[misc]\u001b[39;00m\n\u001b[0;32m   1517\u001b[0m \u001b[38;5;28;01melse\u001b[39;00m:\n\u001b[1;32m-> 1518\u001b[0m     \u001b[38;5;28;01mreturn\u001b[39;00m \u001b[38;5;28;43mself\u001b[39;49m\u001b[38;5;241;43m.\u001b[39;49m\u001b[43m_call_impl\u001b[49m\u001b[43m(\u001b[49m\u001b[38;5;241;43m*\u001b[39;49m\u001b[43margs\u001b[49m\u001b[43m,\u001b[49m\u001b[43m \u001b[49m\u001b[38;5;241;43m*\u001b[39;49m\u001b[38;5;241;43m*\u001b[39;49m\u001b[43mkwargs\u001b[49m\u001b[43m)\u001b[49m\n",
            "File \u001b[1;32mc:\\Users\\Landry\\anaconda3\\envs\\CCT\\lib\\site-packages\\torch\\nn\\modules\\module.py:1527\u001b[0m, in \u001b[0;36mModule._call_impl\u001b[1;34m(self, *args, **kwargs)\u001b[0m\n\u001b[0;32m   1522\u001b[0m \u001b[38;5;66;03m# If we don't have any hooks, we want to skip the rest of the logic in\u001b[39;00m\n\u001b[0;32m   1523\u001b[0m \u001b[38;5;66;03m# this function, and just call forward.\u001b[39;00m\n\u001b[0;32m   1524\u001b[0m \u001b[38;5;28;01mif\u001b[39;00m \u001b[38;5;129;01mnot\u001b[39;00m (\u001b[38;5;28mself\u001b[39m\u001b[38;5;241m.\u001b[39m_backward_hooks \u001b[38;5;129;01mor\u001b[39;00m \u001b[38;5;28mself\u001b[39m\u001b[38;5;241m.\u001b[39m_backward_pre_hooks \u001b[38;5;129;01mor\u001b[39;00m \u001b[38;5;28mself\u001b[39m\u001b[38;5;241m.\u001b[39m_forward_hooks \u001b[38;5;129;01mor\u001b[39;00m \u001b[38;5;28mself\u001b[39m\u001b[38;5;241m.\u001b[39m_forward_pre_hooks\n\u001b[0;32m   1525\u001b[0m         \u001b[38;5;129;01mor\u001b[39;00m _global_backward_pre_hooks \u001b[38;5;129;01mor\u001b[39;00m _global_backward_hooks\n\u001b[0;32m   1526\u001b[0m         \u001b[38;5;129;01mor\u001b[39;00m _global_forward_hooks \u001b[38;5;129;01mor\u001b[39;00m _global_forward_pre_hooks):\n\u001b[1;32m-> 1527\u001b[0m     \u001b[38;5;28;01mreturn\u001b[39;00m \u001b[43mforward_call\u001b[49m\u001b[43m(\u001b[49m\u001b[38;5;241;43m*\u001b[39;49m\u001b[43margs\u001b[49m\u001b[43m,\u001b[49m\u001b[43m \u001b[49m\u001b[38;5;241;43m*\u001b[39;49m\u001b[38;5;241;43m*\u001b[39;49m\u001b[43mkwargs\u001b[49m\u001b[43m)\u001b[49m\n\u001b[0;32m   1529\u001b[0m \u001b[38;5;28;01mtry\u001b[39;00m:\n\u001b[0;32m   1530\u001b[0m     result \u001b[38;5;241m=\u001b[39m \u001b[38;5;28;01mNone\u001b[39;00m\n",
            "File \u001b[1;32mc:\\Users\\Landry\\anaconda3\\envs\\CCT\\lib\\site-packages\\torch\\nn\\modules\\container.py:215\u001b[0m, in \u001b[0;36mSequential.forward\u001b[1;34m(self, input)\u001b[0m\n\u001b[0;32m    213\u001b[0m \u001b[38;5;28;01mdef\u001b[39;00m \u001b[38;5;21mforward\u001b[39m(\u001b[38;5;28mself\u001b[39m, \u001b[38;5;28minput\u001b[39m):\n\u001b[0;32m    214\u001b[0m     \u001b[38;5;28;01mfor\u001b[39;00m module \u001b[38;5;129;01min\u001b[39;00m \u001b[38;5;28mself\u001b[39m:\n\u001b[1;32m--> 215\u001b[0m         \u001b[38;5;28minput\u001b[39m \u001b[38;5;241m=\u001b[39m \u001b[43mmodule\u001b[49m\u001b[43m(\u001b[49m\u001b[38;5;28;43minput\u001b[39;49m\u001b[43m)\u001b[49m\n\u001b[0;32m    216\u001b[0m     \u001b[38;5;28;01mreturn\u001b[39;00m \u001b[38;5;28minput\u001b[39m\n",
            "File \u001b[1;32mc:\\Users\\Landry\\anaconda3\\envs\\CCT\\lib\\site-packages\\torch\\nn\\modules\\module.py:1518\u001b[0m, in \u001b[0;36mModule._wrapped_call_impl\u001b[1;34m(self, *args, **kwargs)\u001b[0m\n\u001b[0;32m   1516\u001b[0m     \u001b[38;5;28;01mreturn\u001b[39;00m \u001b[38;5;28mself\u001b[39m\u001b[38;5;241m.\u001b[39m_compiled_call_impl(\u001b[38;5;241m*\u001b[39margs, \u001b[38;5;241m*\u001b[39m\u001b[38;5;241m*\u001b[39mkwargs)  \u001b[38;5;66;03m# type: ignore[misc]\u001b[39;00m\n\u001b[0;32m   1517\u001b[0m \u001b[38;5;28;01melse\u001b[39;00m:\n\u001b[1;32m-> 1518\u001b[0m     \u001b[38;5;28;01mreturn\u001b[39;00m \u001b[38;5;28;43mself\u001b[39;49m\u001b[38;5;241;43m.\u001b[39;49m\u001b[43m_call_impl\u001b[49m\u001b[43m(\u001b[49m\u001b[38;5;241;43m*\u001b[39;49m\u001b[43margs\u001b[49m\u001b[43m,\u001b[49m\u001b[43m \u001b[49m\u001b[38;5;241;43m*\u001b[39;49m\u001b[38;5;241;43m*\u001b[39;49m\u001b[43mkwargs\u001b[49m\u001b[43m)\u001b[49m\n",
            "File \u001b[1;32mc:\\Users\\Landry\\anaconda3\\envs\\CCT\\lib\\site-packages\\torch\\nn\\modules\\module.py:1527\u001b[0m, in \u001b[0;36mModule._call_impl\u001b[1;34m(self, *args, **kwargs)\u001b[0m\n\u001b[0;32m   1522\u001b[0m \u001b[38;5;66;03m# If we don't have any hooks, we want to skip the rest of the logic in\u001b[39;00m\n\u001b[0;32m   1523\u001b[0m \u001b[38;5;66;03m# this function, and just call forward.\u001b[39;00m\n\u001b[0;32m   1524\u001b[0m \u001b[38;5;28;01mif\u001b[39;00m \u001b[38;5;129;01mnot\u001b[39;00m (\u001b[38;5;28mself\u001b[39m\u001b[38;5;241m.\u001b[39m_backward_hooks \u001b[38;5;129;01mor\u001b[39;00m \u001b[38;5;28mself\u001b[39m\u001b[38;5;241m.\u001b[39m_backward_pre_hooks \u001b[38;5;129;01mor\u001b[39;00m \u001b[38;5;28mself\u001b[39m\u001b[38;5;241m.\u001b[39m_forward_hooks \u001b[38;5;129;01mor\u001b[39;00m \u001b[38;5;28mself\u001b[39m\u001b[38;5;241m.\u001b[39m_forward_pre_hooks\n\u001b[0;32m   1525\u001b[0m         \u001b[38;5;129;01mor\u001b[39;00m _global_backward_pre_hooks \u001b[38;5;129;01mor\u001b[39;00m _global_backward_hooks\n\u001b[0;32m   1526\u001b[0m         \u001b[38;5;129;01mor\u001b[39;00m _global_forward_hooks \u001b[38;5;129;01mor\u001b[39;00m _global_forward_pre_hooks):\n\u001b[1;32m-> 1527\u001b[0m     \u001b[38;5;28;01mreturn\u001b[39;00m \u001b[43mforward_call\u001b[49m\u001b[43m(\u001b[49m\u001b[38;5;241;43m*\u001b[39;49m\u001b[43margs\u001b[49m\u001b[43m,\u001b[49m\u001b[43m \u001b[49m\u001b[38;5;241;43m*\u001b[39;49m\u001b[38;5;241;43m*\u001b[39;49m\u001b[43mkwargs\u001b[49m\u001b[43m)\u001b[49m\n\u001b[0;32m   1529\u001b[0m \u001b[38;5;28;01mtry\u001b[39;00m:\n\u001b[0;32m   1530\u001b[0m     result \u001b[38;5;241m=\u001b[39m \u001b[38;5;28;01mNone\u001b[39;00m\n",
            "File \u001b[1;32mc:\\Users\\Landry\\anaconda3\\envs\\CCT\\lib\\site-packages\\torch\\nn\\modules\\container.py:215\u001b[0m, in \u001b[0;36mSequential.forward\u001b[1;34m(self, input)\u001b[0m\n\u001b[0;32m    213\u001b[0m \u001b[38;5;28;01mdef\u001b[39;00m \u001b[38;5;21mforward\u001b[39m(\u001b[38;5;28mself\u001b[39m, \u001b[38;5;28minput\u001b[39m):\n\u001b[0;32m    214\u001b[0m     \u001b[38;5;28;01mfor\u001b[39;00m module \u001b[38;5;129;01min\u001b[39;00m \u001b[38;5;28mself\u001b[39m:\n\u001b[1;32m--> 215\u001b[0m         \u001b[38;5;28minput\u001b[39m \u001b[38;5;241m=\u001b[39m \u001b[43mmodule\u001b[49m\u001b[43m(\u001b[49m\u001b[38;5;28;43minput\u001b[39;49m\u001b[43m)\u001b[49m\n\u001b[0;32m    216\u001b[0m     \u001b[38;5;28;01mreturn\u001b[39;00m \u001b[38;5;28minput\u001b[39m\n",
            "File \u001b[1;32mc:\\Users\\Landry\\anaconda3\\envs\\CCT\\lib\\site-packages\\torch\\nn\\modules\\module.py:1518\u001b[0m, in \u001b[0;36mModule._wrapped_call_impl\u001b[1;34m(self, *args, **kwargs)\u001b[0m\n\u001b[0;32m   1516\u001b[0m     \u001b[38;5;28;01mreturn\u001b[39;00m \u001b[38;5;28mself\u001b[39m\u001b[38;5;241m.\u001b[39m_compiled_call_impl(\u001b[38;5;241m*\u001b[39margs, \u001b[38;5;241m*\u001b[39m\u001b[38;5;241m*\u001b[39mkwargs)  \u001b[38;5;66;03m# type: ignore[misc]\u001b[39;00m\n\u001b[0;32m   1517\u001b[0m \u001b[38;5;28;01melse\u001b[39;00m:\n\u001b[1;32m-> 1518\u001b[0m     \u001b[38;5;28;01mreturn\u001b[39;00m \u001b[38;5;28;43mself\u001b[39;49m\u001b[38;5;241;43m.\u001b[39;49m\u001b[43m_call_impl\u001b[49m\u001b[43m(\u001b[49m\u001b[38;5;241;43m*\u001b[39;49m\u001b[43margs\u001b[49m\u001b[43m,\u001b[49m\u001b[43m \u001b[49m\u001b[38;5;241;43m*\u001b[39;49m\u001b[38;5;241;43m*\u001b[39;49m\u001b[43mkwargs\u001b[49m\u001b[43m)\u001b[49m\n",
            "File \u001b[1;32mc:\\Users\\Landry\\anaconda3\\envs\\CCT\\lib\\site-packages\\torch\\nn\\modules\\module.py:1527\u001b[0m, in \u001b[0;36mModule._call_impl\u001b[1;34m(self, *args, **kwargs)\u001b[0m\n\u001b[0;32m   1522\u001b[0m \u001b[38;5;66;03m# If we don't have any hooks, we want to skip the rest of the logic in\u001b[39;00m\n\u001b[0;32m   1523\u001b[0m \u001b[38;5;66;03m# this function, and just call forward.\u001b[39;00m\n\u001b[0;32m   1524\u001b[0m \u001b[38;5;28;01mif\u001b[39;00m \u001b[38;5;129;01mnot\u001b[39;00m (\u001b[38;5;28mself\u001b[39m\u001b[38;5;241m.\u001b[39m_backward_hooks \u001b[38;5;129;01mor\u001b[39;00m \u001b[38;5;28mself\u001b[39m\u001b[38;5;241m.\u001b[39m_backward_pre_hooks \u001b[38;5;129;01mor\u001b[39;00m \u001b[38;5;28mself\u001b[39m\u001b[38;5;241m.\u001b[39m_forward_hooks \u001b[38;5;129;01mor\u001b[39;00m \u001b[38;5;28mself\u001b[39m\u001b[38;5;241m.\u001b[39m_forward_pre_hooks\n\u001b[0;32m   1525\u001b[0m         \u001b[38;5;129;01mor\u001b[39;00m _global_backward_pre_hooks \u001b[38;5;129;01mor\u001b[39;00m _global_backward_hooks\n\u001b[0;32m   1526\u001b[0m         \u001b[38;5;129;01mor\u001b[39;00m _global_forward_hooks \u001b[38;5;129;01mor\u001b[39;00m _global_forward_pre_hooks):\n\u001b[1;32m-> 1527\u001b[0m     \u001b[38;5;28;01mreturn\u001b[39;00m \u001b[43mforward_call\u001b[49m\u001b[43m(\u001b[49m\u001b[38;5;241;43m*\u001b[39;49m\u001b[43margs\u001b[49m\u001b[43m,\u001b[49m\u001b[43m \u001b[49m\u001b[38;5;241;43m*\u001b[39;49m\u001b[38;5;241;43m*\u001b[39;49m\u001b[43mkwargs\u001b[49m\u001b[43m)\u001b[49m\n\u001b[0;32m   1529\u001b[0m \u001b[38;5;28;01mtry\u001b[39;00m:\n\u001b[0;32m   1530\u001b[0m     result \u001b[38;5;241m=\u001b[39m \u001b[38;5;28;01mNone\u001b[39;00m\n",
            "File \u001b[1;32mc:\\Users\\Landry\\anaconda3\\envs\\CCT\\lib\\site-packages\\torch\\nn\\modules\\conv.py:310\u001b[0m, in \u001b[0;36mConv1d.forward\u001b[1;34m(self, input)\u001b[0m\n\u001b[0;32m    309\u001b[0m \u001b[38;5;28;01mdef\u001b[39;00m \u001b[38;5;21mforward\u001b[39m(\u001b[38;5;28mself\u001b[39m, \u001b[38;5;28minput\u001b[39m: Tensor) \u001b[38;5;241m-\u001b[39m\u001b[38;5;241m>\u001b[39m Tensor:\n\u001b[1;32m--> 310\u001b[0m     \u001b[38;5;28;01mreturn\u001b[39;00m \u001b[38;5;28;43mself\u001b[39;49m\u001b[38;5;241;43m.\u001b[39;49m\u001b[43m_conv_forward\u001b[49m\u001b[43m(\u001b[49m\u001b[38;5;28;43minput\u001b[39;49m\u001b[43m,\u001b[49m\u001b[43m \u001b[49m\u001b[38;5;28;43mself\u001b[39;49m\u001b[38;5;241;43m.\u001b[39;49m\u001b[43mweight\u001b[49m\u001b[43m,\u001b[49m\u001b[43m \u001b[49m\u001b[38;5;28;43mself\u001b[39;49m\u001b[38;5;241;43m.\u001b[39;49m\u001b[43mbias\u001b[49m\u001b[43m)\u001b[49m\n",
            "File \u001b[1;32mc:\\Users\\Landry\\anaconda3\\envs\\CCT\\lib\\site-packages\\torch\\nn\\modules\\conv.py:306\u001b[0m, in \u001b[0;36mConv1d._conv_forward\u001b[1;34m(self, input, weight, bias)\u001b[0m\n\u001b[0;32m    302\u001b[0m \u001b[38;5;28;01mif\u001b[39;00m \u001b[38;5;28mself\u001b[39m\u001b[38;5;241m.\u001b[39mpadding_mode \u001b[38;5;241m!=\u001b[39m \u001b[38;5;124m'\u001b[39m\u001b[38;5;124mzeros\u001b[39m\u001b[38;5;124m'\u001b[39m:\n\u001b[0;32m    303\u001b[0m     \u001b[38;5;28;01mreturn\u001b[39;00m F\u001b[38;5;241m.\u001b[39mconv1d(F\u001b[38;5;241m.\u001b[39mpad(\u001b[38;5;28minput\u001b[39m, \u001b[38;5;28mself\u001b[39m\u001b[38;5;241m.\u001b[39m_reversed_padding_repeated_twice, mode\u001b[38;5;241m=\u001b[39m\u001b[38;5;28mself\u001b[39m\u001b[38;5;241m.\u001b[39mpadding_mode),\n\u001b[0;32m    304\u001b[0m                     weight, bias, \u001b[38;5;28mself\u001b[39m\u001b[38;5;241m.\u001b[39mstride,\n\u001b[0;32m    305\u001b[0m                     _single(\u001b[38;5;241m0\u001b[39m), \u001b[38;5;28mself\u001b[39m\u001b[38;5;241m.\u001b[39mdilation, \u001b[38;5;28mself\u001b[39m\u001b[38;5;241m.\u001b[39mgroups)\n\u001b[1;32m--> 306\u001b[0m \u001b[38;5;28;01mreturn\u001b[39;00m \u001b[43mF\u001b[49m\u001b[38;5;241;43m.\u001b[39;49m\u001b[43mconv1d\u001b[49m\u001b[43m(\u001b[49m\u001b[38;5;28;43minput\u001b[39;49m\u001b[43m,\u001b[49m\u001b[43m \u001b[49m\u001b[43mweight\u001b[49m\u001b[43m,\u001b[49m\u001b[43m \u001b[49m\u001b[43mbias\u001b[49m\u001b[43m,\u001b[49m\u001b[43m \u001b[49m\u001b[38;5;28;43mself\u001b[39;49m\u001b[38;5;241;43m.\u001b[39;49m\u001b[43mstride\u001b[49m\u001b[43m,\u001b[49m\n\u001b[0;32m    307\u001b[0m \u001b[43m                \u001b[49m\u001b[38;5;28;43mself\u001b[39;49m\u001b[38;5;241;43m.\u001b[39;49m\u001b[43mpadding\u001b[49m\u001b[43m,\u001b[49m\u001b[43m \u001b[49m\u001b[38;5;28;43mself\u001b[39;49m\u001b[38;5;241;43m.\u001b[39;49m\u001b[43mdilation\u001b[49m\u001b[43m,\u001b[49m\u001b[43m \u001b[49m\u001b[38;5;28;43mself\u001b[39;49m\u001b[38;5;241;43m.\u001b[39;49m\u001b[43mgroups\u001b[49m\u001b[43m)\u001b[49m\n",
            "\u001b[1;31mRuntimeError\u001b[0m: Given groups=1, weight of size [128, 1, 3], expected input[64, 5, 1] to have 1 channels, but got 5 channels instead"
          ]
        }
      ],
      "source": [
        "#Modified: train&test the CCT model\n",
        "epochs = 5\n",
        "model = model_cct\n",
        "loss_fn = loss_fn_cct\n",
        "optimizer = optimizer_cct\n",
        "\n",
        "for t in range(epochs):\n",
        "    print(f\"CCT Model: Epoch {t+1}\\n-------------------------------\")\n",
        "    train(train_dataloader, model, loss_fn, optimizer)\n",
        "    test(test_dataloader, model, loss_fn)\n",
        "print(\"CCT Done!\")"
      ]
    },
    {
      "cell_type": "markdown",
      "metadata": {
        "id": "SsSNrc2NL9JN"
      },
      "source": [
        "\n",
        "[Learn the Basics](intro.html) ||\n",
        "**Quickstart** ||\n",
        "[Tensors](tensorqs_tutorial.html) ||\n",
        "[Datasets & DataLoaders](data_tutorial.html) ||\n",
        "[Transforms](transforms_tutorial.html) ||\n",
        "[Build Model](buildmodel_tutorial.html) ||\n",
        "[Autograd](autogradqs_tutorial.html) ||\n",
        "[Optimization](optimization_tutorial.html) ||\n",
        "[Save & Load Model](saveloadrun_tutorial.html)\n",
        "\n",
        "# Quickstart\n",
        "This section runs through the API for common tasks in machine learning. Refer to the links in each section to dive deeper.\n",
        "\n",
        "## Working with data\n",
        "PyTorch has two [primitives to work with data](https://pytorch.org/docs/stable/data.html):\n",
        "``torch.utils.data.DataLoader`` and ``torch.utils.data.Dataset``.\n",
        "``Dataset`` stores the samples and their corresponding labels, and ``DataLoader`` wraps an iterable around\n",
        "the ``Dataset``.\n"
      ]
    },
    {
      "cell_type": "code",
      "execution_count": null,
      "metadata": {
        "id": "zr3jvetOL9JP"
      },
      "outputs": [
        {
          "ename": "ImportError",
          "evalue": "cannot import name 'ToTensor' from 'torchvision.transforms' (unknown location)",
          "output_type": "error",
          "traceback": [
            "\u001b[1;31m---------------------------------------------------------------------------\u001b[0m",
            "\u001b[1;31mImportError\u001b[0m                               Traceback (most recent call last)",
            "Cell \u001b[1;32mIn[6], line 5\u001b[0m\n\u001b[0;32m      3\u001b[0m \u001b[38;5;28;01mfrom\u001b[39;00m \u001b[38;5;21;01mtorch\u001b[39;00m\u001b[38;5;21;01m.\u001b[39;00m\u001b[38;5;21;01mutils\u001b[39;00m\u001b[38;5;21;01m.\u001b[39;00m\u001b[38;5;21;01mdata\u001b[39;00m \u001b[38;5;28;01mimport\u001b[39;00m DataLoader\n\u001b[0;32m      4\u001b[0m \u001b[38;5;28;01mfrom\u001b[39;00m \u001b[38;5;21;01mtorchvision\u001b[39;00m \u001b[38;5;28;01mimport\u001b[39;00m datasets\n\u001b[1;32m----> 5\u001b[0m \u001b[38;5;28;01mfrom\u001b[39;00m \u001b[38;5;21;01mtorchvision\u001b[39;00m\u001b[38;5;21;01m.\u001b[39;00m\u001b[38;5;21;01mtransforms\u001b[39;00m \u001b[38;5;28;01mimport\u001b[39;00m ToTensor\n",
            "\u001b[1;31mImportError\u001b[0m: cannot import name 'ToTensor' from 'torchvision.transforms' (unknown location)"
          ]
        }
      ],
      "source": [
        "import torch\n",
        "from torch import nn\n",
        "from torch.utils.data import DataLoader\n",
        "from torchvision import datasets\n",
        "from torchvision.transforms import ToTensor"
      ]
    },
    {
      "cell_type": "markdown",
      "metadata": {
        "id": "BjJdFuOnL9JP"
      },
      "source": [
        "PyTorch offers domain-specific libraries such as [TorchText](https://pytorch.org/text/stable/index.html),\n",
        "[TorchVision](https://pytorch.org/vision/stable/index.html), and [TorchAudio](https://pytorch.org/audio/stable/index.html),\n",
        "all of which include datasets. For this tutorial, we  will be using a TorchVision dataset.\n",
        "\n",
        "The ``torchvision.datasets`` module contains ``Dataset`` objects for many real-world vision data like\n",
        "CIFAR, COCO ([full list here](https://pytorch.org/vision/stable/datasets.html)). In this tutorial, we\n",
        "use the FashionMNIST dataset. Every TorchVision ``Dataset`` includes two arguments: ``transform`` and\n",
        "``target_transform`` to modify the samples and labels respectively.\n",
        "\n"
      ]
    },
    {
      "cell_type": "code",
      "execution_count": null,
      "metadata": {
        "colab": {
          "base_uri": "https://localhost:8080/",
          "height": 101,
          "referenced_widgets": [
            "221bfcc5d988451e87219c9a125fbaa0",
            "40dcb1822bde4c9dacd8a1479dec0865",
            "25982799fca743fdb9f284fd2cd0cc27",
            "5e302101670049008e1e8cd199218102",
            "a27be89e2b874bb3a5ddad4e8d8254b1",
            "f06f0d24b79d41d6bb3f990aefffc2ca",
            "98136b2293ee45e785dfa3635ae98f3e",
            "61839386cdce4c008e6d81021212eb90",
            "903816d0f940404d9bfaeca1febc2b16",
            "0e19ecce4c4e49df8772eea8c8091caf",
            "24fd6bba765b4440941eb3835e455bc8"
          ]
        },
        "id": "HCd_6kgeL9JP",
        "outputId": "7b29be75-41e6-42b1-9d24-b4fb1c3eefee"
      },
      "outputs": [
        {
          "name": "stdout",
          "output_type": "stream",
          "text": [
            "Downloading https://www.cs.toronto.edu/~kriz/cifar-10-python.tar.gz to data\\cifar-10-python.tar.gz\n"
          ]
        },
        {
          "name": "stderr",
          "output_type": "stream",
          "text": [
            "100%|██████████| 170498071/170498071 [00:30<00:00, 5594503.52it/s]\n"
          ]
        },
        {
          "name": "stdout",
          "output_type": "stream",
          "text": [
            "Extracting data\\cifar-10-python.tar.gz to data\n",
            "Files already downloaded and verified\n"
          ]
        }
      ],
      "source": [
        "# This cell code changed from FashionMNIST to CIFAR10\n",
        "\n",
        "# Download training data from open datasets.\n",
        "training_data = datasets.CIFAR10(\n",
        "    root=\"data\",\n",
        "    train=True,\n",
        "    download=True,\n",
        "    transform=ToTensor(),\n",
        ")\n",
        "\n",
        "# Download test data from open datasets.\n",
        "test_data = datasets.CIFAR10(\n",
        "    root=\"data\",\n",
        "    train=False,\n",
        "    download=True,\n",
        "    transform=ToTensor(),\n",
        ")"
      ]
    },
    {
      "cell_type": "markdown",
      "metadata": {
        "id": "mLzUOXQeL9JQ"
      },
      "source": [
        "We pass the ``Dataset`` as an argument to ``DataLoader``. This wraps an iterable over our dataset, and supports\n",
        "automatic batching, sampling, shuffling and multiprocess data loading. Here we define a batch size of 64, i.e. each element\n",
        "in the dataloader iterable will return a batch of 64 features and labels.\n",
        "\n"
      ]
    },
    {
      "cell_type": "code",
      "execution_count": null,
      "metadata": {
        "colab": {
          "base_uri": "https://localhost:8080/"
        },
        "id": "8LQGMsSAL9JQ",
        "outputId": "ff1a4230-a213-4a5b-8bd2-d24c9cff0ba2"
      },
      "outputs": [
        {
          "name": "stdout",
          "output_type": "stream",
          "text": [
            "Shape of X [N, C, H, W]: torch.Size([64, 3, 32, 32])\n",
            "Shape of y: torch.Size([64]) torch.int64\n"
          ]
        }
      ],
      "source": [
        "batch_size = 64\n",
        "\n",
        "# Create data loaders.\n",
        "train_dataloader = DataLoader(training_data, batch_size=batch_size)\n",
        "test_dataloader = DataLoader(test_data, batch_size=batch_size)\n",
        "\n",
        "for X, y in test_dataloader:\n",
        "    print(f\"Shape of X [N, C, H, W]: {X.shape}\")\n",
        "    print(f\"Shape of y: {y.shape} {y.dtype}\")\n",
        "    break"
      ]
    },
    {
      "cell_type": "markdown",
      "metadata": {
        "id": "jPe7i8KdL9JQ"
      },
      "source": [
        "Read more about [loading data in PyTorch](data_tutorial.html).\n",
        "\n",
        "\n"
      ]
    },
    {
      "cell_type": "markdown",
      "metadata": {
        "id": "t_57OX3vL9JR"
      },
      "source": [
        "--------------\n",
        "\n",
        "\n"
      ]
    },
    {
      "cell_type": "markdown",
      "metadata": {
        "id": "ObUBi80yL9JR"
      },
      "source": [
        "## Creating Models\n",
        "To define a neural network in PyTorch, we create a class that inherits\n",
        "from [nn.Module](https://pytorch.org/docs/stable/generated/torch.nn.Module.html). We define the layers of the network\n",
        "in the ``__init__`` function and specify how data will pass through the network in the ``forward`` function. To accelerate\n",
        "operations in the neural network, we move it to the GPU if available.\n",
        "\n"
      ]
    },
    {
      "cell_type": "code",
      "execution_count": null,
      "metadata": {
        "colab": {
          "base_uri": "https://localhost:8080/"
        },
        "id": "x9abAhmhL9JR",
        "outputId": "a47c3558-e598-4e1f-bd49-b848b964053e"
      },
      "outputs": [
        {
          "name": "stdout",
          "output_type": "stream",
          "text": [
            "Using cpu device\n",
            "NeuralNetwork(\n",
            "  (flatten): Flatten(start_dim=1, end_dim=-1)\n",
            "  (linear_relu_stack): Sequential(\n",
            "    (0): Linear(in_features=3072, out_features=512, bias=True)\n",
            "    (1): ReLU()\n",
            "    (2): Linear(in_features=512, out_features=512, bias=True)\n",
            "    (3): ReLU()\n",
            "    (4): Linear(in_features=512, out_features=10, bias=True)\n",
            "  )\n",
            ")\n"
          ]
        }
      ],
      "source": [
        "# The first linear layer input changed from 28*28 to 32*32*3 (due to FashionNNIST to CIFAR10)\n",
        "# Get cpu or gpu device for training.\n",
        "device = \"cuda\" if torch.cuda.is_available() else \"mps\" if torch.backends.mps.is_available() else \"cpu\"\n",
        "print(f\"Using {device} device\")\n",
        "\n",
        "# Define model\n",
        "class NeuralNetwork(nn.Module):\n",
        "    def __init__(self):\n",
        "        super().__init__()\n",
        "        self.flatten = nn.Flatten()\n",
        "        self.linear_relu_stack = nn.Sequential(\n",
        "            nn.Linear(32*32*3, 512),\n",
        "            nn.ReLU(),\n",
        "            nn.Linear(512, 512),\n",
        "            nn.ReLU(),\n",
        "            nn.Linear(512, 10)\n",
        "        )\n",
        "\n",
        "    def forward(self, x):\n",
        "        x = self.flatten(x)\n",
        "        logits = self.linear_relu_stack(x)\n",
        "        return logits\n",
        "\n",
        "model_linear = NeuralNetwork().to(device)\n",
        "print(model_linear)"
      ]
    },
    {
      "cell_type": "markdown",
      "metadata": {
        "id": "CzlKqSynwvTS"
      },
      "source": [
        "## CCT Model\n"
      ]
    },
    {
      "cell_type": "code",
      "execution_count": null,
      "metadata": {
        "colab": {
          "base_uri": "https://localhost:8080/"
        },
        "id": "XD1KOvJFwyXQ",
        "outputId": "ba2642f6-9d67-4cea-b181-9b834d101188"
      },
      "outputs": [
        {
          "ename": "NameError",
          "evalue": "name 'torch' is not defined",
          "output_type": "error",
          "traceback": [
            "\u001b[1;31m---------------------------------------------------------------------------\u001b[0m",
            "\u001b[1;31mNameError\u001b[0m                                 Traceback (most recent call last)",
            "Cell \u001b[1;32mIn[2], line 3\u001b[0m\n\u001b[0;32m      1\u001b[0m \u001b[38;5;66;03m# The first linear layer input changed from 28*28 to 32*32*3 (due to FashionNNIST to CIFAR10)\u001b[39;00m\n\u001b[0;32m      2\u001b[0m \u001b[38;5;66;03m# Get cpu or gpu device for training.\u001b[39;00m\n\u001b[1;32m----> 3\u001b[0m device \u001b[38;5;241m=\u001b[39m \u001b[38;5;124m\"\u001b[39m\u001b[38;5;124mcuda\u001b[39m\u001b[38;5;124m\"\u001b[39m \u001b[38;5;28;01mif\u001b[39;00m \u001b[43mtorch\u001b[49m\u001b[38;5;241m.\u001b[39mcuda\u001b[38;5;241m.\u001b[39mis_available() \u001b[38;5;28;01melse\u001b[39;00m \u001b[38;5;124m\"\u001b[39m\u001b[38;5;124mmps\u001b[39m\u001b[38;5;124m\"\u001b[39m \u001b[38;5;28;01mif\u001b[39;00m torch\u001b[38;5;241m.\u001b[39mbackends\u001b[38;5;241m.\u001b[39mmps\u001b[38;5;241m.\u001b[39mis_available() \u001b[38;5;28;01melse\u001b[39;00m \u001b[38;5;124m\"\u001b[39m\u001b[38;5;124mcpu\u001b[39m\u001b[38;5;124m\"\u001b[39m\n\u001b[0;32m      4\u001b[0m \u001b[38;5;28mprint\u001b[39m(\u001b[38;5;124mf\u001b[39m\u001b[38;5;124m\"\u001b[39m\u001b[38;5;124mUsing \u001b[39m\u001b[38;5;132;01m{\u001b[39;00mdevice\u001b[38;5;132;01m}\u001b[39;00m\u001b[38;5;124m device\u001b[39m\u001b[38;5;124m\"\u001b[39m)\n\u001b[0;32m      6\u001b[0m model_cct \u001b[38;5;241m=\u001b[39m cct_2_3x2_32()\u001b[38;5;241m.\u001b[39mto(device)\n",
            "\u001b[1;31mNameError\u001b[0m: name 'torch' is not defined"
          ]
        }
      ],
      "source": [
        "import torch\n",
        "# The first linear layer input changed from 28*28 to 32*32*3 (due to FashionNNIST to CIFAR10)\n",
        "# Get cpu or gpu device for training.\n",
        "device = \"cuda\" if torch.cuda.is_available() else \"mps\" if torch.backends.mps.is_available() else \"cpu\"\n",
        "print(f\"Using {device} device\")\n",
        "\n",
        "model_cct = cct_2_3x2_32().to(device)\n",
        "print(model_cct)"
      ]
    },
    {
      "cell_type": "markdown",
      "metadata": {
        "id": "4aR_QVG3L9JS"
      },
      "source": [
        "Read more about [building neural networks in PyTorch](buildmodel_tutorial.html).\n",
        "\n",
        "\n"
      ]
    },
    {
      "cell_type": "markdown",
      "metadata": {
        "id": "Un70wrwjL9JS"
      },
      "source": [
        "--------------\n",
        "\n",
        "\n"
      ]
    },
    {
      "cell_type": "markdown",
      "metadata": {
        "id": "Ibq_YVHkL9JS"
      },
      "source": [
        "## Optimizing the Model Parameters\n",
        "To train a model, we need a [loss function](https://pytorch.org/docs/stable/nn.html#loss-functions)\n",
        "and an [optimizer](https://pytorch.org/docs/stable/optim.html).\n",
        "\n"
      ]
    },
    {
      "cell_type": "code",
      "execution_count": null,
      "metadata": {
        "id": "-hXeWCVFL9JS"
      },
      "outputs": [],
      "source": [
        "#Modified to separate loss function and optimizer for each model\n",
        "\n",
        "loss_fn_linear = nn.CrossEntropyLoss()\n",
        "optimizer_linear = torch.optim.SGD(model_linear.parameters(), lr=1e-3)\n",
        "\n",
        "loss_fn_cct = nn.CrossEntropyLoss()\n",
        "optimizer_cct = torch.optim.SGD(model_cct.parameters(), lr=1e-3)"
      ]
    },
    {
      "cell_type": "markdown",
      "metadata": {
        "id": "XsSH1wpnL9JS"
      },
      "source": [
        "In a single training loop, the model makes predictions on the training dataset (fed to it in batches), and\n",
        "backpropagates the prediction error to adjust the model's parameters.\n",
        "\n"
      ]
    },
    {
      "cell_type": "code",
      "execution_count": null,
      "metadata": {
        "id": "pzNIXSrIL9JS"
      },
      "outputs": [],
      "source": [
        "def train(dataloader, model, loss_fn, optimizer):\n",
        "    size = len(dataloader.dataset)\n",
        "    model.train()\n",
        "    for batch, (X, y) in enumerate(dataloader):\n",
        "        X, y = X.to(device), y.to(device)\n",
        "\n",
        "        # Compute prediction error\n",
        "        pred = model(X)\n",
        "        loss = loss_fn(pred, y)\n",
        "\n",
        "        # Backpropagation\n",
        "        optimizer.zero_grad()\n",
        "        loss.backward()\n",
        "        optimizer.step()\n",
        "\n",
        "        if batch % 100 == 0:\n",
        "            loss, current = loss.item(), batch * len(X)\n",
        "            print(f\"loss: {loss:>7f}  [{current:>5d}/{size:>5d}]\")"
      ]
    },
    {
      "cell_type": "markdown",
      "metadata": {
        "id": "eBwBmxbvL9JT"
      },
      "source": [
        "We also check the model's performance against the test dataset to ensure it is learning.\n",
        "\n"
      ]
    },
    {
      "cell_type": "code",
      "execution_count": null,
      "metadata": {
        "id": "I5SdXu7YL9JT"
      },
      "outputs": [],
      "source": [
        "def test(dataloader, model, loss_fn):\n",
        "    size = len(dataloader.dataset)\n",
        "    num_batches = len(dataloader)\n",
        "    model.eval()\n",
        "    test_loss, correct = 0, 0\n",
        "    with torch.no_grad():\n",
        "        for X, y in dataloader:\n",
        "            X, y = X.to(device), y.to(device)\n",
        "            pred = model(X)\n",
        "            test_loss += loss_fn(pred, y).item()\n",
        "            correct += (pred.argmax(1) == y).type(torch.float).sum().item()\n",
        "    test_loss /= num_batches\n",
        "    correct /= size\n",
        "    print(f\"Test Error: \\n Accuracy: {(100*correct):>0.1f}%, Avg loss: {test_loss:>8f} \\n\")"
      ]
    },
    {
      "cell_type": "markdown",
      "metadata": {
        "id": "_7TmZIlHL9JT"
      },
      "source": [
        "The training process is conducted over several iterations (*epochs*). During each epoch, the model learns\n",
        "parameters to make better predictions. We print the model's accuracy and loss at each epoch; we'd like to see the\n",
        "accuracy increase and the loss decrease with every epoch.\n",
        "\n"
      ]
    },
    {
      "cell_type": "code",
      "execution_count": null,
      "metadata": {
        "colab": {
          "base_uri": "https://localhost:8080/"
        },
        "id": "1oRZ9ieaL9JT",
        "outputId": "c85fad9c-4d52-4630-dedd-933d1747f924"
      },
      "outputs": [
        {
          "name": "stdout",
          "output_type": "stream",
          "text": [
            "Linear Model: Epoch 1\n",
            "-------------------------------\n",
            "loss: 2.300155  [    0/50000]\n",
            "loss: 2.301221  [ 6400/50000]\n",
            "loss: 2.292411  [12800/50000]\n",
            "loss: 2.283465  [19200/50000]\n",
            "loss: 2.281371  [25600/50000]\n",
            "loss: 2.273720  [32000/50000]\n",
            "loss: 2.275151  [38400/50000]\n",
            "loss: 2.280617  [44800/50000]\n",
            "Test Error: \n",
            " Accuracy: 16.7%, Avg loss: 2.265975 \n",
            "\n",
            "Linear Model: Epoch 2\n",
            "-------------------------------\n",
            "loss: 2.279969  [    0/50000]\n",
            "loss: 2.278288  [ 6400/50000]\n",
            "loss: 2.239245  [12800/50000]\n",
            "loss: 2.263614  [19200/50000]\n",
            "loss: 2.238737  [25600/50000]\n",
            "loss: 2.233803  [32000/50000]\n",
            "loss: 2.248610  [38400/50000]\n",
            "loss: 2.239021  [44800/50000]\n",
            "Test Error: \n",
            " Accuracy: 20.9%, Avg loss: 2.225428 \n",
            "\n",
            "Linear Model: Epoch 3\n",
            "-------------------------------\n",
            "loss: 2.247787  [    0/50000]\n",
            "loss: 2.241838  [ 6400/50000]\n",
            "loss: 2.177146  [12800/50000]\n",
            "loss: 2.233646  [19200/50000]\n",
            "loss: 2.185372  [25600/50000]\n",
            "loss: 2.183100  [32000/50000]\n",
            "loss: 2.220221  [38400/50000]\n",
            "loss: 2.182153  [44800/50000]\n",
            "Test Error: \n",
            " Accuracy: 23.2%, Avg loss: 2.172330 \n",
            "\n",
            "Linear Model: Epoch 4\n",
            "-------------------------------\n",
            "loss: 2.206738  [    0/50000]\n",
            "loss: 2.194497  [ 6400/50000]\n",
            "loss: 2.099627  [12800/50000]\n",
            "loss: 2.193623  [19200/50000]\n",
            "loss: 2.125990  [25600/50000]\n",
            "loss: 2.124031  [32000/50000]\n",
            "loss: 2.196407  [38400/50000]\n",
            "loss: 2.118811  [44800/50000]\n",
            "Test Error: \n",
            " Accuracy: 24.9%, Avg loss: 2.116741 \n",
            "\n",
            "Linear Model: Epoch 5\n",
            "-------------------------------\n",
            "loss: 2.164539  [    0/50000]\n",
            "loss: 2.146683  [ 6400/50000]\n",
            "loss: 2.022498  [12800/50000]\n",
            "loss: 2.152546  [19200/50000]\n",
            "loss: 2.076212  [25600/50000]\n",
            "loss: 2.073316  [32000/50000]\n",
            "loss: 2.180588  [38400/50000]\n",
            "loss: 2.065917  [44800/50000]\n",
            "Test Error: \n",
            " Accuracy: 26.7%, Avg loss: 2.070174 \n",
            "\n",
            "Linear Done!\n",
            "CPU times: user 1min 42s, sys: 239 ms, total: 1min 42s\n",
            "Wall time: 1min 42s\n"
          ]
        }
      ],
      "source": [
        "#Modified: train&test the linear model\n",
        "%%time\n",
        "epochs = 5\n",
        "model = model_linear\n",
        "loss_fn = loss_fn_linear\n",
        "optimizer = optimizer_linear\n",
        "\n",
        "for t in range(epochs):\n",
        "    print(f\"Linear Model: Epoch {t+1}\\n-------------------------------\")\n",
        "    train(train_dataloader, model, loss_fn, optimizer)\n",
        "    test(test_dataloader, model, loss_fn)\n",
        "print(\"Linear Done!\")"
      ]
    },
    {
      "cell_type": "code",
      "execution_count": null,
      "metadata": {
        "colab": {
          "base_uri": "https://localhost:8080/"
        },
        "id": "S8uVvujbkR__",
        "outputId": "3d759b31-1442-410b-e148-901957677538"
      },
      "outputs": [
        {
          "name": "stdout",
          "output_type": "stream",
          "text": [
            "Saved the linear model state to model_linear.pth\n",
            "Saved CCT model state to model_cct.pth\n"
          ]
        }
      ],
      "source": [
        "#Saving the linear model\n",
        "\n",
        "torch.save(model_linear.state_dict(), \"model_linear.pth\")\n",
        "print(\"Saved the linear model state to model_linear.pth\")\n",
        "\n",
        "torch.save(model_cct.state_dict(), \"model_cct.pth\")\n",
        "print(\"Saved CCT model state to model_cct.pth\")"
      ]
    },
    {
      "cell_type": "code",
      "execution_count": null,
      "metadata": {
        "colab": {
          "base_uri": "https://localhost:8080/"
        },
        "id": "_yC9DAXcdj6y",
        "outputId": "1ce91919-c54b-481d-fb71-0cbdf584525a"
      },
      "outputs": [
        {
          "name": "stdout",
          "output_type": "stream",
          "text": [
            "CCT Model: Epoch 1\n",
            "-------------------------------\n",
            "loss: 2.294594  [    0/50000]\n",
            "loss: 2.299885  [ 6400/50000]\n",
            "loss: 2.291082  [12800/50000]\n",
            "loss: 2.301929  [19200/50000]\n",
            "loss: 2.289249  [25600/50000]\n",
            "loss: 2.271498  [32000/50000]\n",
            "loss: 2.271566  [38400/50000]\n",
            "loss: 2.268686  [44800/50000]\n",
            "Test Error: \n",
            " Accuracy: 19.6%, Avg loss: 2.258488 \n",
            "\n",
            "CCT Model: Epoch 2\n",
            "-------------------------------\n",
            "loss: 2.274891  [    0/50000]\n",
            "loss: 2.256397  [ 6400/50000]\n",
            "loss: 2.221311  [12800/50000]\n",
            "loss: 2.254772  [19200/50000]\n",
            "loss: 2.250368  [25600/50000]\n",
            "loss: 2.204877  [32000/50000]\n",
            "loss: 2.201191  [38400/50000]\n",
            "loss: 2.206580  [44800/50000]\n",
            "Test Error: \n",
            " Accuracy: 22.1%, Avg loss: 2.184597 \n",
            "\n",
            "CCT Model: Epoch 3\n",
            "-------------------------------\n",
            "loss: 2.218835  [    0/50000]\n",
            "loss: 2.187050  [ 6400/50000]\n",
            "loss: 2.113835  [12800/50000]\n",
            "loss: 2.181562  [19200/50000]\n",
            "loss: 2.195395  [25600/50000]\n",
            "loss: 2.106834  [32000/50000]\n",
            "loss: 2.098742  [38400/50000]\n",
            "loss: 2.109198  [44800/50000]\n",
            "Test Error: \n",
            " Accuracy: 24.4%, Avg loss: 2.084748 \n",
            "\n",
            "CCT Model: Epoch 4\n",
            "-------------------------------\n",
            "loss: 2.142495  [    0/50000]\n",
            "loss: 2.107205  [ 6400/50000]\n",
            "loss: 2.000244  [12800/50000]\n",
            "loss: 2.104309  [19200/50000]\n",
            "loss: 2.161287  [25600/50000]\n",
            "loss: 2.027866  [32000/50000]\n",
            "loss: 2.031875  [38400/50000]\n",
            "loss: 2.031961  [44800/50000]\n",
            "Test Error: \n",
            " Accuracy: 26.1%, Avg loss: 2.020806 \n",
            "\n",
            "CCT Model: Epoch 5\n",
            "-------------------------------\n",
            "loss: 2.086511  [    0/50000]\n",
            "loss: 2.057445  [ 6400/50000]\n",
            "loss: 1.938670  [12800/50000]\n",
            "loss: 2.050220  [19200/50000]\n",
            "loss: 2.143164  [25600/50000]\n",
            "loss: 1.980496  [32000/50000]\n",
            "loss: 1.998909  [38400/50000]\n",
            "loss: 1.982376  [44800/50000]\n",
            "Test Error: \n",
            " Accuracy: 27.6%, Avg loss: 1.980738 \n",
            "\n",
            "CCT Done!\n",
            "CPU times: user 26min 48s, sys: 5.2 s, total: 26min 53s\n",
            "Wall time: 27min 1s\n"
          ]
        }
      ],
      "source": [
        "#Modified: train&test the CCT model\n",
        "%%time\n",
        "epochs = 5\n",
        "model = model_cct\n",
        "loss_fn = loss_fn_cct\n",
        "optimizer = optimizer_cct\n",
        "\n",
        "for t in range(epochs):\n",
        "    print(f\"CCT Model: Epoch {t+1}\\n-------------------------------\")\n",
        "    train(train_dataloader, model, loss_fn, optimizer)\n",
        "    test(test_dataloader, model, loss_fn)\n",
        "print(\"CCT Done!\")"
      ]
    },
    {
      "cell_type": "markdown",
      "metadata": {
        "id": "v57-e0MYL9JT"
      },
      "source": [
        "Read more about [Training your model](optimization_tutorial.html).\n",
        "\n",
        "\n"
      ]
    },
    {
      "cell_type": "code",
      "execution_count": null,
      "metadata": {
        "colab": {
          "base_uri": "https://localhost:8080/"
        },
        "id": "y7pKGeA6kU0e",
        "outputId": "f9abaaf9-1f8b-4862-a3ed-64396e03b8e5"
      },
      "outputs": [
        {
          "name": "stdout",
          "output_type": "stream",
          "text": [
            "Saved CCT model state to model_cct.pth\n"
          ]
        }
      ],
      "source": [
        "#Saving the CCT model\n",
        "\n",
        "torch.save(model_cct.state_dict(), \"model_cct.pth\")\n",
        "print(\"Saved CCT model state to model_cct.pth\")"
      ]
    },
    {
      "cell_type": "markdown",
      "metadata": {
        "id": "oxvhF3T-L9JT"
      },
      "source": [
        "--------------\n",
        "\n",
        "\n"
      ]
    },
    {
      "cell_type": "markdown",
      "metadata": {
        "id": "Ip3CHEp3L9JU"
      },
      "source": [
        "## Loading and Using the Models\n",
        "\n",
        "The process for loading a model includes re-creating the model structure and loading\n",
        "the state dictionary into it.\n",
        "\n",
        "\n"
      ]
    },
    {
      "cell_type": "code",
      "execution_count": null,
      "metadata": {
        "id": "DwxOaFDeZ0u8"
      },
      "outputs": [],
      "source": [
        "from matplotlib import pyplot as plt\n",
        "\n",
        "def plot_images(x, y, class_names, x_adv=None, y_adv=None):\n",
        "    if x_adv is not None:\n",
        "        fig, ax = plt.subplots(3, 10, figsize=(20, 5))\n",
        "    else:\n",
        "        fig, ax = plt.subplots(1, 10, figsize=(20, 5))\n",
        "\n",
        "    for i in range(len(y)):\n",
        "        print(\"i=\",i, \"y[i]=\",y[i])\n",
        "        if x_adv is not None:\n",
        "            ax[0, i].imshow(x[i].permute(1, 2, 0))\n",
        "            ax[0, i].set_title(class_names[y[i]])\n",
        "            ax[0, i].axis(\"off\")\n",
        "            ax[1, i].imshow(x_adv[i].detach().cpu().permute(1, 2, 0))\n",
        "            if y_adv[i].item() != y[i].item():\n",
        "                ax[1, i].set_title(class_names[y_adv[i]], color=\"r\")\n",
        "            else:\n",
        "                ax[1, i].set_title(class_names[y_adv[i]], color=\"k\")\n",
        "            ax[1, i].axis(\"off\")\n",
        "            ax[2, i].imshow(\n",
        "                (torch.abs(x[i] - x_adv[i].detach().cpu()) * 25)\n",
        "                .clamp_(0, 1)\n",
        "                .permute(1, 2, 0)\n",
        "            )\n",
        "            ax[2, i].axis(\"off\")\n",
        "        else:\n",
        "            ax[i].imshow(x[i].permute(1, 2, 0))\n",
        "            ax[i].set_title(class_names[y[i]])\n",
        "            ax[i].axis(\"off\")"
      ]
    },
    {
      "cell_type": "code",
      "execution_count": null,
      "metadata": {
        "id": "ziGqNKrgL9JU"
      },
      "outputs": [],
      "source": [
        "#Classes (Lables) changed due to FashionMNIST to CIFAR10\n",
        "'''\n",
        "classes = [\n",
        "    \"T-shirt/top\",\n",
        "    \"Trouser\",\n",
        "    \"Pullover\",\n",
        "    \"Dress\",\n",
        "    \"Coat\",\n",
        "    \"Sandal\",\n",
        "    \"Shirt\",\n",
        "    \"Sneaker\",\n",
        "    \"Bag\",\n",
        "    \"Ankle boot\",\n",
        "]\n",
        "'''\n",
        "classes = [\n",
        "    \"airplane\",\n",
        "    \"automobile\",\n",
        "    \"bird\",\n",
        "    \"cat\",\n",
        "    \"deer\",\n",
        "    \"dog\",\n",
        "    \"frog\",\n",
        "    \"horse\",\n",
        "    \"ship\",\n",
        "    \"truck\",\n",
        "]\n"
      ]
    },
    {
      "cell_type": "markdown",
      "metadata": {
        "id": "MwHtz8yKrqCg"
      },
      "source": [
        "## Load a model and Predict on a single input"
      ]
    },
    {
      "cell_type": "code",
      "execution_count": null,
      "metadata": {
        "colab": {
          "base_uri": "https://localhost:8080/",
          "height": 393
        },
        "id": "Hp6SMuJ2rnrY",
        "outputId": "96151abd-da49-459e-8704-6ae4f54eb262"
      },
      "outputs": [
        {
          "name": "stdout",
          "output_type": "stream",
          "text": [
            "tensor([3])\n",
            "i= 0 y[i]= tensor(3)\n",
            "torch.Size([1, 3072])\n",
            "Predicted: \"dog\", Actual: \"cat\"\n"
          ]
        },
        {
          "data": {
            "image/png": "[encoded data removed]",
            "text/plain": [
              "<Figure size 1440x360 with 10 Axes>"
            ]
          },
          "metadata": {
            "needs_background": "light"
          },
          "output_type": "display_data"
        }
      ],
      "source": [
        "# This Cell is for the Linear Model\n",
        "\n",
        "#--- Loading the Model\n",
        "model = NeuralNetwork()\n",
        "model.load_state_dict(torch.load(\"model_linear.pth\"))\n",
        "\n",
        "#--- Prediction using the loaded model\n",
        "model.eval()\n",
        "#x, y = test_data[0][0], test_data[0][1]\n",
        "x, y = test_data[0][0], test_data[0][1]\n",
        "print(torch.tensor(y)[None])\n",
        "plot_images(x[None, :], list(torch.tensor(y)[None]), classes)\n",
        "x = x.view(1, -1) # Use this for the Linear Model to convert [3x32x32] to [1 x (3x32x32)] for the batch dimension\n",
        "#x=x[None, :] # Use this for the CCT Model to convert [3x32x32] to [1x3x32x32]\n",
        "print(x.shape)\n",
        "\n",
        "\n",
        "with torch.no_grad():\n",
        "    pred = model(x)\n",
        "    predicted, actual = classes[pred[0].argmax(0)], classes[y]\n",
        "    print(f'Predicted: \"{predicted}\", Actual: \"{actual}\"')"
      ]
    },
    {
      "cell_type": "code",
      "execution_count": null,
      "metadata": {
        "colab": {
          "base_uri": "https://localhost:8080/",
          "height": 393
        },
        "id": "GDwKyXZlr0-J",
        "outputId": "5253addd-27ab-4b29-cea9-cfdb539daf21"
      },
      "outputs": [
        {
          "name": "stdout",
          "output_type": "stream",
          "text": [
            "tensor([3])\n",
            "i= 0 y[i]= tensor(3)\n",
            "torch.Size([1, 3, 32, 32])\n",
            "Predicted: \"automobile\", Actual: \"cat\"\n"
          ]
        },
        {
          "data": {
            "image/png": "[encoded data removed]",
            "text/plain": [
              "<Figure size 1440x360 with 10 Axes>"
            ]
          },
          "metadata": {
            "needs_background": "light"
          },
          "output_type": "display_data"
        }
      ],
      "source": [
        "# This Cell is for the CCT Model\n",
        "\n",
        "#--- Loading the Model\n",
        "model = cct_2_3x2_32()\n",
        "model.load_state_dict(torch.load(\"model_cct.pth\"))\n",
        "\n",
        "#--- Prediction using the loaded model\n",
        "model.eval()\n",
        "#x, y = test_data[0][0], test_data[0][1]\n",
        "x, y = test_data[0][0], test_data[0][1]\n",
        "print(torch.tensor(y)[None])\n",
        "plot_images(x[None, :], list(torch.tensor(y)[None]), classes)\n",
        "#x = x.view(1, -1) # Use this for the Linear Model to convert [3x32x32] to [1 x (3x32x32)] for the batch dimension\n",
        "x=x[None, :] # Use this for the CCT Model to convert [3x32x32] to [1x3x32x32]\n",
        "print(x.shape)\n",
        "\n",
        "\n",
        "with torch.no_grad():\n",
        "    pred = model(x)\n",
        "    predicted, actual = classes[pred[0].argmax(0)], classes[y]\n",
        "    print(f'Predicted: \"{predicted}\", Actual: \"{actual}\"')"
      ]
    },
    {
      "cell_type": "markdown",
      "metadata": {
        "id": "ccElUqtvL9JU"
      },
      "source": [
        "Read more about [Saving & Loading your model](saveloadrun_tutorial.html).\n",
        "\n",
        "\n"
      ]
    }
  ],
  "metadata": {
    "colab": {
      "provenance": []
    },
    "kernelspec": {
      "display_name": "Python 3",
      "name": "python3"
    },
    "language_info": {
      "codemirror_mode": {
        "name": "ipython",
        "version": 3
      },
      "file_extension": ".py",
      "mimetype": "text/x-python",
      "name": "python",
      "nbconvert_exporter": "python",
      "pygments_lexer": "ipython3",
      "version": "3.8.18"
    },
    "widgets": {
      "application/vnd.jupyter.widget-state+json": {
        "0e19ecce4c4e49df8772eea8c8091caf": {
          "model_module": "@jupyter-widgets/base",
          "model_module_version": "1.2.0",
          "model_name": "LayoutModel",
          "state": {
            "_model_module": "@jupyter-widgets/base",
            "_model_module_version": "1.2.0",
            "_model_name": "LayoutModel",
            "_view_count": null,
            "_view_module": "@jupyter-widgets/base",
            "_view_module_version": "1.2.0",
            "_view_name": "LayoutView",
            "align_content": null,
            "align_items": null,
            "align_self": null,
            "border": null,
            "bottom": null,
            "display": null,
            "flex": null,
            "flex_flow": null,
            "grid_area": null,
            "grid_auto_columns": null,
            "grid_auto_flow": null,
            "grid_auto_rows": null,
            "grid_column": null,
            "grid_gap": null,
            "grid_row": null,
            "grid_template_areas": null,
            "grid_template_columns": null,
            "grid_template_rows": null,
            "height": null,
            "justify_content": null,
            "justify_items": null,
            "left": null,
            "margin": null,
            "max_height": null,
            "max_width": null,
            "min_height": null,
            "min_width": null,
            "object_fit": null,
            "object_position": null,
            "order": null,
            "overflow": null,
            "overflow_x": null,
            "overflow_y": null,
            "padding": null,
            "right": null,
            "top": null,
            "visibility": null,
            "width": null
          }
        },
        "221bfcc5d988451e87219c9a125fbaa0": {
          "model_module": "@jupyter-widgets/controls",
          "model_module_version": "1.5.0",
          "model_name": "HBoxModel",
          "state": {
            "_dom_classes": [],
            "_model_module": "@jupyter-widgets/controls",
            "_model_module_version": "1.5.0",
            "_model_name": "HBoxModel",
            "_view_count": null,
            "_view_module": "@jupyter-widgets/controls",
            "_view_module_version": "1.5.0",
            "_view_name": "HBoxView",
            "box_style": "",
            "children": [
              "IPY_MODEL_40dcb1822bde4c9dacd8a1479dec0865",
              "IPY_MODEL_25982799fca743fdb9f284fd2cd0cc27",
              "IPY_MODEL_5e302101670049008e1e8cd199218102"
            ],
            "layout": "IPY_MODEL_a27be89e2b874bb3a5ddad4e8d8254b1"
          }
        },
        "24fd6bba765b4440941eb3835e455bc8": {
          "model_module": "@jupyter-widgets/controls",
          "model_module_version": "1.5.0",
          "model_name": "DescriptionStyleModel",
          "state": {
            "_model_module": "@jupyter-widgets/controls",
            "_model_module_version": "1.5.0",
            "_model_name": "DescriptionStyleModel",
            "_view_count": null,
            "_view_module": "@jupyter-widgets/base",
            "_view_module_version": "1.2.0",
            "_view_name": "StyleView",
            "description_width": ""
          }
        },
        "25982799fca743fdb9f284fd2cd0cc27": {
          "model_module": "@jupyter-widgets/controls",
          "model_module_version": "1.5.0",
          "model_name": "FloatProgressModel",
          "state": {
            "_dom_classes": [],
            "_model_module": "@jupyter-widgets/controls",
            "_model_module_version": "1.5.0",
            "_model_name": "FloatProgressModel",
            "_view_count": null,
            "_view_module": "@jupyter-widgets/controls",
            "_view_module_version": "1.5.0",
            "_view_name": "ProgressView",
            "bar_style": "success",
            "description": "",
            "description_tooltip": null,
            "layout": "IPY_MODEL_61839386cdce4c008e6d81021212eb90",
            "max": 170498071,
            "min": 0,
            "orientation": "horizontal",
            "style": "IPY_MODEL_903816d0f940404d9bfaeca1febc2b16",
            "value": 170498071
          }
        },
        "40dcb1822bde4c9dacd8a1479dec0865": {
          "model_module": "@jupyter-widgets/controls",
          "model_module_version": "1.5.0",
          "model_name": "HTMLModel",
          "state": {
            "_dom_classes": [],
            "_model_module": "@jupyter-widgets/controls",
            "_model_module_version": "1.5.0",
            "_model_name": "HTMLModel",
            "_view_count": null,
            "_view_module": "@jupyter-widgets/controls",
            "_view_module_version": "1.5.0",
            "_view_name": "HTMLView",
            "description": "",
            "description_tooltip": null,
            "layout": "IPY_MODEL_f06f0d24b79d41d6bb3f990aefffc2ca",
            "placeholder": "​",
            "style": "IPY_MODEL_98136b2293ee45e785dfa3635ae98f3e",
            "value": "100%"
          }
        },
        "5e302101670049008e1e8cd199218102": {
          "model_module": "@jupyter-widgets/controls",
          "model_module_version": "1.5.0",
          "model_name": "HTMLModel",
          "state": {
            "_dom_classes": [],
            "_model_module": "@jupyter-widgets/controls",
            "_model_module_version": "1.5.0",
            "_model_name": "HTMLModel",
            "_view_count": null,
            "_view_module": "@jupyter-widgets/controls",
            "_view_module_version": "1.5.0",
            "_view_name": "HTMLView",
            "description": "",
            "description_tooltip": null,
            "layout": "IPY_MODEL_0e19ecce4c4e49df8772eea8c8091caf",
            "placeholder": "​",
            "style": "IPY_MODEL_24fd6bba765b4440941eb3835e455bc8",
            "value": " 170498071/170498071 [00:03&lt;00:00, 54062214.16it/s]"
          }
        },
        "61839386cdce4c008e6d81021212eb90": {
          "model_module": "@jupyter-widgets/base",
          "model_module_version": "1.2.0",
          "model_name": "LayoutModel",
          "state": {
            "_model_module": "@jupyter-widgets/base",
            "_model_module_version": "1.2.0",
            "_model_name": "LayoutModel",
            "_view_count": null,
            "_view_module": "@jupyter-widgets/base",
            "_view_module_version": "1.2.0",
            "_view_name": "LayoutView",
            "align_content": null,
            "align_items": null,
            "align_self": null,
            "border": null,
            "bottom": null,
            "display": null,
            "flex": null,
            "flex_flow": null,
            "grid_area": null,
            "grid_auto_columns": null,
            "grid_auto_flow": null,
            "grid_auto_rows": null,
            "grid_column": null,
            "grid_gap": null,
            "grid_row": null,
            "grid_template_areas": null,
            "grid_template_columns": null,
            "grid_template_rows": null,
            "height": null,
            "justify_content": null,
            "justify_items": null,
            "left": null,
            "margin": null,
            "max_height": null,
            "max_width": null,
            "min_height": null,
            "min_width": null,
            "object_fit": null,
            "object_position": null,
            "order": null,
            "overflow": null,
            "overflow_x": null,
            "overflow_y": null,
            "padding": null,
            "right": null,
            "top": null,
            "visibility": null,
            "width": null
          }
        },
        "903816d0f940404d9bfaeca1febc2b16": {
          "model_module": "@jupyter-widgets/controls",
          "model_module_version": "1.5.0",
          "model_name": "ProgressStyleModel",
          "state": {
            "_model_module": "@jupyter-widgets/controls",
            "_model_module_version": "1.5.0",
            "_model_name": "ProgressStyleModel",
            "_view_count": null,
            "_view_module": "@jupyter-widgets/base",
            "_view_module_version": "1.2.0",
            "_view_name": "StyleView",
            "bar_color": null,
            "description_width": ""
          }
        },
        "98136b2293ee45e785dfa3635ae98f3e": {
          "model_module": "@jupyter-widgets/controls",
          "model_module_version": "1.5.0",
          "model_name": "DescriptionStyleModel",
          "state": {
            "_model_module": "@jupyter-widgets/controls",
            "_model_module_version": "1.5.0",
            "_model_name": "DescriptionStyleModel",
            "_view_count": null,
            "_view_module": "@jupyter-widgets/base",
            "_view_module_version": "1.2.0",
            "_view_name": "StyleView",
            "description_width": ""
          }
        },
        "a27be89e2b874bb3a5ddad4e8d8254b1": {
          "model_module": "@jupyter-widgets/base",
          "model_module_version": "1.2.0",
          "model_name": "LayoutModel",
          "state": {
            "_model_module": "@jupyter-widgets/base",
            "_model_module_version": "1.2.0",
            "_model_name": "LayoutModel",
            "_view_count": null,
            "_view_module": "@jupyter-widgets/base",
            "_view_module_version": "1.2.0",
            "_view_name": "LayoutView",
            "align_content": null,
            "align_items": null,
            "align_self": null,
            "border": null,
            "bottom": null,
            "display": null,
            "flex": null,
            "flex_flow": null,
            "grid_area": null,
            "grid_auto_columns": null,
            "grid_auto_flow": null,
            "grid_auto_rows": null,
            "grid_column": null,
            "grid_gap": null,
            "grid_row": null,
            "grid_template_areas": null,
            "grid_template_columns": null,
            "grid_template_rows": null,
            "height": null,
            "justify_content": null,
            "justify_items": null,
            "left": null,
            "margin": null,
            "max_height": null,
            "max_width": null,
            "min_height": null,
            "min_width": null,
            "object_fit": null,
            "object_position": null,
            "order": null,
            "overflow": null,
            "overflow_x": null,
            "overflow_y": null,
            "padding": null,
            "right": null,
            "top": null,
            "visibility": null,
            "width": null
          }
        },
        "f06f0d24b79d41d6bb3f990aefffc2ca": {
          "model_module": "@jupyter-widgets/base",
          "model_module_version": "1.2.0",
          "model_name": "LayoutModel",
          "state": {
            "_model_module": "@jupyter-widgets/base",
            "_model_module_version": "1.2.0",
            "_model_name": "LayoutModel",
            "_view_count": null,
            "_view_module": "@jupyter-widgets/base",
            "_view_module_version": "1.2.0",
            "_view_name": "LayoutView",
            "align_content": null,
            "align_items": null,
            "align_self": null,
            "border": null,
            "bottom": null,
            "display": null,
            "flex": null,
            "flex_flow": null,
            "grid_area": null,
            "grid_auto_columns": null,
            "grid_auto_flow": null,
            "grid_auto_rows": null,
            "grid_column": null,
            "grid_gap": null,
            "grid_row": null,
            "grid_template_areas": null,
            "grid_template_columns": null,
            "grid_template_rows": null,
            "height": null,
            "justify_content": null,
            "justify_items": null,
            "left": null,
            "margin": null,
            "max_height": null,
            "max_width": null,
            "min_height": null,
            "min_width": null,
            "object_fit": null,
            "object_position": null,
            "order": null,
            "overflow": null,
            "overflow_x": null,
            "overflow_y": null,
            "padding": null,
            "right": null,
            "top": null,
            "visibility": null,
            "width": null
          }
        }
      }
    }
  },
  "nbformat": 4,
  "nbformat_minor": 0
}
