{
  "cells": [
    {
      "cell_type": "markdown",
      "metadata": {
        "id": "JiazQw1EP22l"
      },
      "source": [
        "# Creating the Dataset"
      ]
    },
    {
      "cell_type": "code",
      "execution_count": 15,
      "metadata": {
        "id": "dFnmLijj0WHP"
      },
      "outputs": [],
      "source": [
        "import torch\n",
        "import numpy as np\n",
        "import  pandas as pd\n",
        "\n",
        "class DataSet:\n",
        "    \"\"\"\n",
        "    This class is used to create the data to be used in the LSTM model\n",
        "    \"\"\"\n",
        "    def __init__(self, fp='C:\\Education\\MSCS UDC\\Research Projects\\CCT Project\\datasets\\Ammonium ACTSOR-AQUA-UDC-1 2017-01-26T01%3A01&to=2017-01-26T12%3A59.json', look_back=5) -> None:\n",
        "        self.fp = fp # file path\n",
        "        self.data = self.load_file() \n",
        "        self.look_back = look_back\n",
        "        self.dataset = self.__data() \n",
        "        self.X, self.y = self.create_dataset()\n",
        "\n",
        "    def load_file(self):\n",
        "        data = pd.read_json(self.fp)\n",
        "        data['readTime'] = pd.to_datetime(data['readTime'])\n",
        "        data.set_index('readTime', inplace=True)\n",
        "        return data\n",
        "\n",
        "\n",
        "    def __data(self):\n",
        "        \"\"\"\n",
        "        Perfom min-max scaling on the data\n",
        "        \"\"\"\n",
        "        dataset = self.data\n",
        "        max_value = np.max(dataset['ammonium']) \n",
        "        min_value = np.min(dataset['ammonium']) \n",
        "        range_val = max_value - min_value\n",
        "        return list(map(lambda x: x/range_val, dataset['ammonium']))\n",
        "\n",
        "    def create_dataset(self):\n",
        "        X, y = [], []\n",
        "        for i in range(len(self.dataset) - self.look_back): # create sequences with labels.\n",
        "            a = self.dataset[i:(i+self.look_back)]\n",
        "            X.append(a)\n",
        "            y.append(self.dataset[i+self.look_back])\n",
        "        return np.array(X), np.array(y)\n",
        "\n",
        "    def perfom_splits(self):\n",
        "        \"\"\"\n",
        "        Create a training and testing split on the data\n",
        "        \"\"\"\n",
        "        train_size = int(len(self.X)*0.9)\n",
        "        test_size = len(self.X) - train_size\n",
        "        x_train, y_train = self.X[:train_size], self.y[:train_size]\n",
        "        x_test, y_test = self.X[train_size:], self.y[train_size:]\n",
        "        x_train,x_test = torch.from_numpy(x_train.reshape(-1, 1, self.look_back)), \\\n",
        "            torch.from_numpy(x_test.reshape(-1, 1, self.look_back))\n",
        "        y_train, y_test = torch.from_numpy(y_train.reshape(-1, 1, 1)), \\\n",
        "            torch.from_numpy(y_test.reshape(-1, 1, 1))\n",
        "\n",
        "        assert y_train.size()[0] == x_train.size()[0]\n",
        "        assert y_train.size()[1:] == y_test.size()[1:]\n",
        "        assert x_train.size()[1:] == x_test.size()[1:]\n",
        "        assert y_test.size()[0] == x_test.size()[0]\n",
        "        return x_train,x_test, y_train, y_test"
      ]
    },
    {
      "cell_type": "markdown",
      "metadata": {
        "id": "rFYOsbE5DGx-"
      },
      "source": [
        "# Kalman Filter Implementation"
      ]
    },
    {
      "cell_type": "code",
      "execution_count": 21,
      "metadata": {
        "id": "0xjM8CMq0g7r"
      },
      "outputs": [],
      "source": [
        "\n",
        "import math\n",
        "\n",
        "class KalmanFilter:\n",
        "\n",
        "    cov = float('nan')\n",
        "    x = float('nan')\n",
        "\n",
        "    def __init__(self, R, Q):\n",
        "        \"\"\"\n",
        "        Constructor\n",
        "        :param R: Process Noise\n",
        "        :param Q: Measurement Noise\n",
        "        \"\"\"\n",
        "        self.A = 1\n",
        "        self.B = 0\n",
        "        self.C = 1\n",
        "\n",
        "        self.R = R\n",
        "        self.Q = Q\n",
        "\n",
        "    def filter(self, measurement):\n",
        "        \"\"\"\n",
        "        Filters a measurement\n",
        "        :param measurement: The measurement value to be filtered\n",
        "        :return: The filtered value\n",
        "        \"\"\"\n",
        "        u = 0\n",
        "        if math.isnan(self.x):\n",
        "            self.x = (1 / self.C) * measurement\n",
        "            self.cov = (1 / self.C) * self.Q * (1 / self.C)\n",
        "        else:\n",
        "            predX = (self.A * self.x) + (self.B * u)\n",
        "            predCov = ((self.A * self.cov) * self.A) + self.R\n",
        "\n",
        "            # Kalman Gain\n",
        "            K = predCov * self.C * (1 / ((self.C * predCov * self.C) + self.Q));\n",
        "\n",
        "            # Correction\n",
        "            self.x = predX + K * (measurement - (self.C * predX));\n",
        "            self.cov = predCov - (K * self.C * predCov);\n",
        "\n",
        "        return self.x\n",
        "\n",
        "    def last_measurement(self):\n",
        "        \"\"\"\n",
        "        Returns the last measurement fed into the filter\n",
        "        :return: The last measurement fed into the filter\n",
        "        \"\"\"\n",
        "        return self.x\n",
        "\n",
        "    def set_measurement_noise(self, noise):\n",
        "        \"\"\"\n",
        "        Sets measurement noise\n",
        "        :param noise: The new measurement noise\n",
        "        \"\"\"\n",
        "        self.Q = noise\n",
        "\n",
        "    def set_process_noise(self, noise):\n",
        "        \"\"\"\n",
        "        Sets process noise\n",
        "        :param noise: The new process noise\n",
        "        \"\"\"\n",
        "        self.R = noise"
      ]
    },
    {
      "cell_type": "markdown",
      "metadata": {
        "id": "OKO-WdcjDSWA"
      },
      "source": [
        "# LSTM Filter Implementation"
      ]
    },
    {
      "cell_type": "code",
      "execution_count": 22,
      "metadata": {
        "id": "cFOcGiRkDQUt"
      },
      "outputs": [],
      "source": [
        "# Packages\n",
        "from pickletools import optimize\n",
        "import torch\n",
        "import numpy as np\n",
        "from torch import nn\n",
        "#from torch.autograd import  Variable\n",
        "from numpy.linalg import norm\n",
        "\n",
        "# run models on GPU if available\n",
        "device = torch.device('cuda' if torch.cuda.is_available() else 'cpu')\n",
        "\n",
        "\n",
        "class LstmModel(nn.Module):\n",
        "\n",
        "    # initialize the class\n",
        "    def __init__(self, input_size, hidden_size, output = 1, num_layers=4) -> None:\n",
        "        super(LstmModel, self).__init__()\n",
        "\n",
        "        self.rnn = nn.LSTM(input_size, hidden_size, num_layers) # RNN\n",
        "        self.linear = nn.Linear(hidden_size, output) # regression model\n",
        "\n",
        "    def forward(self, x):\n",
        "        x, _ = self.rnn(x) # seq, batch, hidden\n",
        "        s, b, h = x.shape\n",
        "        # flatten the layes\n",
        "        x = x.view(s*b, h)\n",
        "        # calculate weights\n",
        "        x = self.linear(x)\n",
        "        # flatten the layers\n",
        "        x = x.view(s, b, -1)\n",
        "        return x\n",
        "\n",
        "\n",
        "def train(dataset, epochs = 150):\n",
        "    # create the dataset and important attributes for working with lstm\n",
        "    x_train,x_test, y_train, y_test  = dataset.perfom_splits()\n",
        "    look_back = dataset.look_back\n",
        "    data_X, data_Y = dataset.X, dataset.y\n",
        "\n",
        "\n",
        "\n",
        "    net = LstmModel(look_back, 2*look_back).to(device)\n",
        "    criterion = nn.MSELoss()\n",
        "    optimizer = torch.optim.Adam(net.parameters(), lr=0.01)\n",
        "    losses = []\n",
        "\n",
        "    for epoch in range(epochs):\n",
        "        #x = Variable(x_train).float().to(device)\n",
        "        #y = Variable(y_train).float().to(device)\n",
        "        x = torch.tensor(x_train, dtype=torch.float32).to(device)\n",
        "        y = torch.tensor(y_train, dtype=torch.float32).to(device)\n",
        "        \n",
        "        out = net(x)\n",
        "        loss = criterion(out, y)\n",
        "        optimizer.zero_grad()\n",
        "        loss.backward()\n",
        "        optimizer.step()\n",
        "        losses.append(loss.item())\n",
        "        if (epoch + 1) % 10 ==0:\n",
        "            print(f'Epoch: {epoch+1}, Loss: {loss.item():.5f}')\n",
        "\n",
        "    # perform evaluation\n",
        "    net = net.eval()\n",
        "    data_X = data_X.reshape(-1, 1, look_back)\n",
        "    data_X = torch.from_numpy(data_X)\n",
        "    var_data = torch.tensor(data_X, dtype=torch.float32).to(device)\n",
        "    pred_test = net(var_data)\n",
        "    pred_test = pred_test.view(-1).data.detach().cpu().numpy()\n",
        "    pred_test = np.concatenate((np.array(dataset.dataset)[:look_back],pred_test))\n",
        "    \n",
        "    return pred_test,losses\n"
      ]
    },
    {
      "cell_type": "markdown",
      "metadata": {
        "id": "9QY13fhVC7Nl"
      },
      "source": [
        "# Attention Mechanism"
      ]
    },
    {
      "cell_type": "code",
      "execution_count": 8,
      "metadata": {
        "colab": {
          "base_uri": "https://localhost:8080/"
        },
        "id": "YP-w_soyC5Jd",
        "outputId": "0b99e9dc-aed8-44f2-89f6-e0b87a9bd31a"
      },
      "outputs": [
        {
          "ename": "ImportError",
          "evalue": "Traceback (most recent call last):\n  File \"c:\\Users\\Landry\\anaconda3\\envs\\cct\\Lib\\site-packages\\tensorflow\\python\\pywrap_tensorflow.py\", line 62, in <module>\n    from tensorflow.python._pywrap_tensorflow_internal import *\nImportError: Module use of python310.dll conflicts with this version of Python.\n\n\nFailed to load the native TensorFlow runtime.\nSee https://www.tensorflow.org/install/errors for some common causes and solutions.\nIf you need help, create an issue at https://github.com/tensorflow/tensorflow/issues and include the entire stack trace above this error message.",
          "output_type": "error",
          "traceback": [
            "\u001b[1;31m---------------------------------------------------------------------------\u001b[0m",
            "\u001b[1;31mImportError\u001b[0m                               Traceback (most recent call last)",
            "File \u001b[1;32mc:\\Users\\Landry\\anaconda3\\envs\\cct\\Lib\\site-packages\\tensorflow\\python\\pywrap_tensorflow.py:62\u001b[0m\n\u001b[0;32m     61\u001b[0m \u001b[38;5;28;01mtry\u001b[39;00m:\n\u001b[1;32m---> 62\u001b[0m   \u001b[38;5;28;01mfrom\u001b[39;00m \u001b[38;5;21;01mtensorflow\u001b[39;00m\u001b[38;5;21;01m.\u001b[39;00m\u001b[38;5;21;01mpython\u001b[39;00m\u001b[38;5;21;01m.\u001b[39;00m\u001b[38;5;21;01m_pywrap_tensorflow_internal\u001b[39;00m \u001b[38;5;28;01mimport\u001b[39;00m \u001b[38;5;241m*\u001b[39m\n\u001b[0;32m     63\u001b[0m \u001b[38;5;66;03m# This try catch logic is because there is no bazel equivalent for py_extension.\u001b[39;00m\n\u001b[0;32m     64\u001b[0m \u001b[38;5;66;03m# Externally in opensource we must enable exceptions to load the shared object\u001b[39;00m\n\u001b[0;32m     65\u001b[0m \u001b[38;5;66;03m# by exposing the PyInit symbols with pybind. This error will only be\u001b[39;00m\n\u001b[0;32m     66\u001b[0m \u001b[38;5;66;03m# caught internally or if someone changes the name of the target _pywrap_tensorflow_internal.\u001b[39;00m\n\u001b[0;32m     67\u001b[0m \n\u001b[0;32m     68\u001b[0m \u001b[38;5;66;03m# This logic is used in other internal projects using py_extension.\u001b[39;00m\n",
            "\u001b[1;31mImportError\u001b[0m: Module use of python310.dll conflicts with this version of Python.",
            "\nDuring handling of the above exception, another exception occurred:\n",
            "\u001b[1;31mImportError\u001b[0m                               Traceback (most recent call last)",
            "Cell \u001b[1;32mIn[8], line 1\u001b[0m\n\u001b[1;32m----> 1\u001b[0m \u001b[38;5;28;01mfrom\u001b[39;00m \u001b[38;5;21;01mkeras\u001b[39;00m \u001b[38;5;28;01mimport\u001b[39;00m Model\n\u001b[0;32m      2\u001b[0m \u001b[38;5;28;01mfrom\u001b[39;00m \u001b[38;5;21;01mkeras\u001b[39;00m\u001b[38;5;21;01m.\u001b[39;00m\u001b[38;5;21;01mlayers\u001b[39;00m \u001b[38;5;28;01mimport\u001b[39;00m Layer\n\u001b[0;32m      3\u001b[0m \u001b[38;5;28;01mimport\u001b[39;00m \u001b[38;5;21;01mkeras\u001b[39;00m\u001b[38;5;21;01m.\u001b[39;00m\u001b[38;5;21;01mbackend\u001b[39;00m \u001b[38;5;28;01mas\u001b[39;00m \u001b[38;5;21;01mK\u001b[39;00m\n",
            "File \u001b[1;32mc:\\Users\\Landry\\anaconda3\\envs\\cct\\Lib\\site-packages\\keras\\__init__.py:20\u001b[0m\n\u001b[0;32m      1\u001b[0m \u001b[38;5;66;03m# Copyright 2015 The TensorFlow Authors. All Rights Reserved.\u001b[39;00m\n\u001b[0;32m      2\u001b[0m \u001b[38;5;66;03m#\u001b[39;00m\n\u001b[0;32m      3\u001b[0m \u001b[38;5;66;03m# Licensed under the Apache License, Version 2.0 (the \"License\");\u001b[39;00m\n\u001b[1;32m   (...)\u001b[0m\n\u001b[0;32m     13\u001b[0m \u001b[38;5;66;03m# limitations under the License.\u001b[39;00m\n\u001b[0;32m     14\u001b[0m \u001b[38;5;66;03m# ==============================================================================\u001b[39;00m\n\u001b[0;32m     15\u001b[0m \u001b[38;5;124;03m\"\"\"Implementation of the Keras API, the high-level API of TensorFlow.\u001b[39;00m\n\u001b[0;32m     16\u001b[0m \n\u001b[0;32m     17\u001b[0m \u001b[38;5;124;03mDetailed documentation and user guides are available at\u001b[39;00m\n\u001b[0;32m     18\u001b[0m \u001b[38;5;124;03m[keras.io](https://keras.io).\u001b[39;00m\n\u001b[0;32m     19\u001b[0m \u001b[38;5;124;03m\"\"\"\u001b[39;00m\n\u001b[1;32m---> 20\u001b[0m \u001b[38;5;28;01mfrom\u001b[39;00m \u001b[38;5;21;01mkeras\u001b[39;00m \u001b[38;5;28;01mimport\u001b[39;00m distribute\n\u001b[0;32m     21\u001b[0m \u001b[38;5;28;01mfrom\u001b[39;00m \u001b[38;5;21;01mkeras\u001b[39;00m \u001b[38;5;28;01mimport\u001b[39;00m models\n\u001b[0;32m     22\u001b[0m \u001b[38;5;28;01mfrom\u001b[39;00m \u001b[38;5;21;01mkeras\u001b[39;00m\u001b[38;5;21;01m.\u001b[39;00m\u001b[38;5;21;01mengine\u001b[39;00m\u001b[38;5;21;01m.\u001b[39;00m\u001b[38;5;21;01minput_layer\u001b[39;00m \u001b[38;5;28;01mimport\u001b[39;00m Input\n",
            "File \u001b[1;32mc:\\Users\\Landry\\anaconda3\\envs\\cct\\Lib\\site-packages\\keras\\distribute\\__init__.py:18\u001b[0m\n\u001b[0;32m      1\u001b[0m \u001b[38;5;66;03m# Copyright 2019 The TensorFlow Authors. All Rights Reserved.\u001b[39;00m\n\u001b[0;32m      2\u001b[0m \u001b[38;5;66;03m#\u001b[39;00m\n\u001b[0;32m      3\u001b[0m \u001b[38;5;66;03m# Licensed under the Apache License, Version 2.0 (the \"License\");\u001b[39;00m\n\u001b[1;32m   (...)\u001b[0m\n\u001b[0;32m     13\u001b[0m \u001b[38;5;66;03m# limitations under the License.\u001b[39;00m\n\u001b[0;32m     14\u001b[0m \u001b[38;5;66;03m# ==============================================================================\u001b[39;00m\n\u001b[0;32m     15\u001b[0m \u001b[38;5;124;03m\"\"\"Keras' Distribution Strategy library.\"\"\"\u001b[39;00m\n\u001b[1;32m---> 18\u001b[0m \u001b[38;5;28;01mfrom\u001b[39;00m \u001b[38;5;21;01mkeras\u001b[39;00m\u001b[38;5;21;01m.\u001b[39;00m\u001b[38;5;21;01mdistribute\u001b[39;00m \u001b[38;5;28;01mimport\u001b[39;00m sidecar_evaluator\n",
            "File \u001b[1;32mc:\\Users\\Landry\\anaconda3\\envs\\cct\\Lib\\site-packages\\keras\\distribute\\sidecar_evaluator.py:17\u001b[0m\n\u001b[0;32m      1\u001b[0m \u001b[38;5;66;03m# Copyright 2020 The TensorFlow Authors. All Rights Reserved.\u001b[39;00m\n\u001b[0;32m      2\u001b[0m \u001b[38;5;66;03m#\u001b[39;00m\n\u001b[0;32m      3\u001b[0m \u001b[38;5;66;03m# Licensed under the Apache License, Version 2.0 (the \"License\");\u001b[39;00m\n\u001b[1;32m   (...)\u001b[0m\n\u001b[0;32m     13\u001b[0m \u001b[38;5;66;03m# limitations under the License.\u001b[39;00m\n\u001b[0;32m     14\u001b[0m \u001b[38;5;66;03m# ==============================================================================\u001b[39;00m\n\u001b[0;32m     15\u001b[0m \u001b[38;5;124;03m\"\"\"Python module for evaluation loop.\"\"\"\u001b[39;00m\n\u001b[1;32m---> 17\u001b[0m \u001b[38;5;28;01mimport\u001b[39;00m \u001b[38;5;21;01mtensorflow\u001b[39;00m\u001b[38;5;21;01m.\u001b[39;00m\u001b[38;5;21;01mcompat\u001b[39;00m\u001b[38;5;21;01m.\u001b[39;00m\u001b[38;5;21;01mv2\u001b[39;00m \u001b[38;5;28;01mas\u001b[39;00m \u001b[38;5;21;01mtf\u001b[39;00m\n\u001b[0;32m     19\u001b[0m \u001b[38;5;66;03m# isort: off\u001b[39;00m\n\u001b[0;32m     20\u001b[0m \u001b[38;5;28;01mfrom\u001b[39;00m \u001b[38;5;21;01mtensorflow\u001b[39;00m\u001b[38;5;21;01m.\u001b[39;00m\u001b[38;5;21;01mpython\u001b[39;00m\u001b[38;5;21;01m.\u001b[39;00m\u001b[38;5;21;01mplatform\u001b[39;00m \u001b[38;5;28;01mimport\u001b[39;00m tf_logging \u001b[38;5;28;01mas\u001b[39;00m logging\n",
            "File \u001b[1;32mc:\\Users\\Landry\\anaconda3\\envs\\cct\\Lib\\site-packages\\tensorflow\\__init__.py:37\u001b[0m\n\u001b[0;32m     34\u001b[0m \u001b[38;5;28;01mimport\u001b[39;00m \u001b[38;5;21;01msys\u001b[39;00m \u001b[38;5;28;01mas\u001b[39;00m \u001b[38;5;21;01m_sys\u001b[39;00m\n\u001b[0;32m     35\u001b[0m \u001b[38;5;28;01mimport\u001b[39;00m \u001b[38;5;21;01mtyping\u001b[39;00m \u001b[38;5;28;01mas\u001b[39;00m \u001b[38;5;21;01m_typing\u001b[39;00m\n\u001b[1;32m---> 37\u001b[0m \u001b[38;5;28;01mfrom\u001b[39;00m \u001b[38;5;21;01mtensorflow\u001b[39;00m\u001b[38;5;21;01m.\u001b[39;00m\u001b[38;5;21;01mpython\u001b[39;00m\u001b[38;5;21;01m.\u001b[39;00m\u001b[38;5;21;01mtools\u001b[39;00m \u001b[38;5;28;01mimport\u001b[39;00m module_util \u001b[38;5;28;01mas\u001b[39;00m _module_util\n\u001b[0;32m     38\u001b[0m \u001b[38;5;28;01mfrom\u001b[39;00m \u001b[38;5;21;01mtensorflow\u001b[39;00m\u001b[38;5;21;01m.\u001b[39;00m\u001b[38;5;21;01mpython\u001b[39;00m\u001b[38;5;21;01m.\u001b[39;00m\u001b[38;5;21;01mutil\u001b[39;00m\u001b[38;5;21;01m.\u001b[39;00m\u001b[38;5;21;01mlazy_loader\u001b[39;00m \u001b[38;5;28;01mimport\u001b[39;00m LazyLoader \u001b[38;5;28;01mas\u001b[39;00m _LazyLoader\n\u001b[0;32m     40\u001b[0m \u001b[38;5;66;03m# Make sure code inside the TensorFlow codebase can use tf2.enabled() at import.\u001b[39;00m\n",
            "File \u001b[1;32mc:\\Users\\Landry\\anaconda3\\envs\\cct\\Lib\\site-packages\\tensorflow\\python\\__init__.py:36\u001b[0m\n\u001b[0;32m     27\u001b[0m \u001b[38;5;28;01mimport\u001b[39;00m \u001b[38;5;21;01mtraceback\u001b[39;00m\n\u001b[0;32m     29\u001b[0m \u001b[38;5;66;03m# We aim to keep this file minimal and ideally remove completely.\u001b[39;00m\n\u001b[0;32m     30\u001b[0m \u001b[38;5;66;03m# If you are adding a new file with @tf_export decorators,\u001b[39;00m\n\u001b[0;32m     31\u001b[0m \u001b[38;5;66;03m# import it in modules_with_exports.py instead.\u001b[39;00m\n\u001b[0;32m     32\u001b[0m \n\u001b[0;32m     33\u001b[0m \u001b[38;5;66;03m# go/tf-wildcard-import\u001b[39;00m\n\u001b[0;32m     34\u001b[0m \u001b[38;5;66;03m# pylint: disable=wildcard-import,g-bad-import-order,g-import-not-at-top\u001b[39;00m\n\u001b[1;32m---> 36\u001b[0m \u001b[38;5;28;01mfrom\u001b[39;00m \u001b[38;5;21;01mtensorflow\u001b[39;00m\u001b[38;5;21;01m.\u001b[39;00m\u001b[38;5;21;01mpython\u001b[39;00m \u001b[38;5;28;01mimport\u001b[39;00m pywrap_tensorflow \u001b[38;5;28;01mas\u001b[39;00m _pywrap_tensorflow\n\u001b[0;32m     37\u001b[0m \u001b[38;5;28;01mfrom\u001b[39;00m \u001b[38;5;21;01mtensorflow\u001b[39;00m\u001b[38;5;21;01m.\u001b[39;00m\u001b[38;5;21;01mpython\u001b[39;00m\u001b[38;5;21;01m.\u001b[39;00m\u001b[38;5;21;01meager\u001b[39;00m \u001b[38;5;28;01mimport\u001b[39;00m context\n\u001b[0;32m     39\u001b[0m \u001b[38;5;66;03m# pylint: enable=wildcard-import\u001b[39;00m\n\u001b[0;32m     40\u001b[0m \n\u001b[0;32m     41\u001b[0m \u001b[38;5;66;03m# Bring in subpackages.\u001b[39;00m\n",
            "File \u001b[1;32mc:\\Users\\Landry\\anaconda3\\envs\\cct\\Lib\\site-packages\\tensorflow\\python\\pywrap_tensorflow.py:77\u001b[0m\n\u001b[0;32m     75\u001b[0m     sys\u001b[38;5;241m.\u001b[39msetdlopenflags(_default_dlopen_flags)\n\u001b[0;32m     76\u001b[0m \u001b[38;5;28;01mexcept\u001b[39;00m \u001b[38;5;167;01mImportError\u001b[39;00m:\n\u001b[1;32m---> 77\u001b[0m   \u001b[38;5;28;01mraise\u001b[39;00m \u001b[38;5;167;01mImportError\u001b[39;00m(\n\u001b[0;32m     78\u001b[0m       \u001b[38;5;124mf\u001b[39m\u001b[38;5;124m'\u001b[39m\u001b[38;5;132;01m{\u001b[39;00mtraceback\u001b[38;5;241m.\u001b[39mformat_exc()\u001b[38;5;132;01m}\u001b[39;00m\u001b[38;5;124m'\u001b[39m\n\u001b[0;32m     79\u001b[0m       \u001b[38;5;124mf\u001b[39m\u001b[38;5;124m'\u001b[39m\u001b[38;5;130;01m\\n\u001b[39;00m\u001b[38;5;130;01m\\n\u001b[39;00m\u001b[38;5;124mFailed to load the native TensorFlow runtime.\u001b[39m\u001b[38;5;130;01m\\n\u001b[39;00m\u001b[38;5;124m'\u001b[39m\n\u001b[0;32m     80\u001b[0m       \u001b[38;5;124mf\u001b[39m\u001b[38;5;124m'\u001b[39m\u001b[38;5;124mSee https://www.tensorflow.org/install/errors \u001b[39m\u001b[38;5;124m'\u001b[39m\n\u001b[0;32m     81\u001b[0m       \u001b[38;5;124mf\u001b[39m\u001b[38;5;124m'\u001b[39m\u001b[38;5;124mfor some common causes and solutions.\u001b[39m\u001b[38;5;130;01m\\n\u001b[39;00m\u001b[38;5;124m'\u001b[39m\n\u001b[0;32m     82\u001b[0m       \u001b[38;5;124mf\u001b[39m\u001b[38;5;124m'\u001b[39m\u001b[38;5;124mIf you need help, create an issue \u001b[39m\u001b[38;5;124m'\u001b[39m\n\u001b[0;32m     83\u001b[0m       \u001b[38;5;124mf\u001b[39m\u001b[38;5;124m'\u001b[39m\u001b[38;5;124mat https://github.com/tensorflow/tensorflow/issues \u001b[39m\u001b[38;5;124m'\u001b[39m\n\u001b[0;32m     84\u001b[0m       \u001b[38;5;124mf\u001b[39m\u001b[38;5;124m'\u001b[39m\u001b[38;5;124mand include the entire stack trace above this error message.\u001b[39m\u001b[38;5;124m'\u001b[39m)\n\u001b[0;32m     86\u001b[0m \u001b[38;5;66;03m# pylint: enable=wildcard-import,g-import-not-at-top,unused-import,line-too-long\u001b[39;00m\n",
            "\u001b[1;31mImportError\u001b[0m: Traceback (most recent call last):\n  File \"c:\\Users\\Landry\\anaconda3\\envs\\cct\\Lib\\site-packages\\tensorflow\\python\\pywrap_tensorflow.py\", line 62, in <module>\n    from tensorflow.python._pywrap_tensorflow_internal import *\nImportError: Module use of python310.dll conflicts with this version of Python.\n\n\nFailed to load the native TensorFlow runtime.\nSee https://www.tensorflow.org/install/errors for some common causes and solutions.\nIf you need help, create an issue at https://github.com/tensorflow/tensorflow/issues and include the entire stack trace above this error message."
          ]
        }
      ],
      "source": [
        "from keras import Model\n",
        "from keras.layers import Layer\n",
        "import keras.backend as K\n",
        "from keras.layers import Input, Dense, LSTM\n",
        "from sklearn.preprocessing import MinMaxScaler\n",
        "from keras.models import Sequential\n",
        "from keras.metrics import mean_squared_error\n",
        "\n",
        "import tensorflow as tf\n",
        "print(\"Num GPUs Available: \", len(tf.config.list_physical_devices('GPU')))\n",
        "\n",
        "\n",
        "time_steps = 5\n",
        "hidden_units = 2\n",
        "epochs = 10\n",
        " \n",
        "\n",
        "# Add attention layer to the deep learning network\n",
        "class attention(Layer):\n",
        "    def __init__(self,**kwargs):\n",
        "        super(attention,self).__init__(**kwargs)\n",
        " \n",
        "    def build(self,input_shape):\n",
        "        self.W=self.add_weight(name='attention_weight', shape=(input_shape[-1],1), \n",
        "                               initializer='random_normal', trainable=True)\n",
        "        self.b=self.add_weight(name='attention_bias', shape=(input_shape[1],1), \n",
        "                               initializer='zeros', trainable=True)        \n",
        "        super(attention, self).build(input_shape)\n",
        " \n",
        "    def call(self,x):\n",
        "        # Alignment scores. Pass them through tanh function\n",
        "        e = K.tanh(K.dot(x,self.W)+self.b)\n",
        "        # Remove dimension of size 1\n",
        "        e = K.squeeze(e, axis=-1)   \n",
        "        # Compute the weights\n",
        "        alpha = K.softmax(e)\n",
        "        # Reshape to tensorFlow format\n",
        "        alpha = K.expand_dims(alpha, axis=-1)\n",
        "        # Compute the context vector\n",
        "        context = x * alpha\n",
        "        context = K.sum(context, axis=1)\n",
        "        return context\n",
        "\n",
        "\n",
        "def create_LSTM_with_attention(hidden_units, dense_units, input_shape, activation):\n",
        "    x=Input(shape=input_shape)\n",
        "    LSTM_layer = LSTM(hidden_units, return_sequences=True, activation=activation)(x)\n",
        "    attention_layer = attention()(LSTM_layer)\n",
        "    outputs=Dense(dense_units, trainable=True, activation=activation)(attention_layer)\n",
        "    model=Model(x,outputs)\n",
        "    model.compile(loss='mse', optimizer='adam')    \n",
        "    return model  \n",
        " \n",
        "# model_attention.summary()  "
      ]
    },
    {
      "cell_type": "code",
      "execution_count": null,
      "metadata": {
        "id": "ktn4-KhtcVjF"
      },
      "outputs": [],
      "source": [
        "import time\n",
        "import torch\n",
        "import numpy as np\n",
        "import matplotlib.pyplot as plt\n",
        "\n",
        "\n",
        "# Define the Mean Squared Error\n",
        "def mse(actual, pred):\n",
        "    return np.square(np.subtract(actual, pred)).mean()\n",
        "\n",
        "\n",
        "def save_list(lst, name='pred'):\n",
        "    import pandas as pd\n",
        "    df = pd.DataFrame({'readTime': range(len(lst)), 'ammonium': lst})\n",
        "    return df.to_csv(f'{name}.csv')\n",
        "\n",
        "# def plot_loss(model1_loss, model2_loss, data=data, time = range(len(data))):\n",
        "#     plt.figure()\n",
        "#     plt.scatter(time, data, color = 'c', label = 'Actual')\n",
        "#     # plt.plot(time, model1_loss, color = 'cr', label = 'KF')\n",
        "#     plt.plot(time, model2_loss, color = 'b--', label = 'LSTM')\n",
        "#     plt.title(\"Comparing the Mean Squared Error of the Models\")\n",
        "#     plt.xlim(0, len(data))\n",
        "#     plt.xlabel(\"Time/ns\")\n",
        "#     plt.ylabel(\"Amonium\")\n",
        "#     plt.legend()\n",
        "#     plt.grid()\n",
        "#     return plt.show();\n",
        "\n",
        "\n",
        "def plot_predictions(preds1, preds2, preds3, preds4, preds5,  data):\n",
        "    time = range(len(data))\n",
        "    plt.figure()\n",
        "    plt.plot(time, data, color='c', label='Actual')\n",
        "    plt.plot(time, preds1, color='r', label='KF')\n",
        "    plt.plot(time, preds2, color='b', label='LSTM')\n",
        "    plt.plot(time, preds3, color='g', label='LSTM+KF')\n",
        "    plt.plot(range(len(preds4)), preds4, color='yellow', label='Attention+LSTM')\n",
        "    plt.plot(range(len(preds5)), preds5, color='black', label='Attnetion+LSTM+KF')\n",
        "    plt.title(\"Comparing the Predictions from the models and the Actual Data\")\n",
        "    plt.xlim(0, len(data))\n",
        "    plt.xlabel(\"Time/ns\")\n",
        "    plt.ylabel(\"Amonium\")\n",
        "    plt.legend()\n",
        "    plt.grid()\n",
        "    return plt.show()\n",
        "\n",
        "\n",
        "# if __name__ == '__main__':\n",
        "\n",
        "data = DataSet().dataset"
      ]
    },
    {
      "cell_type": "markdown",
      "metadata": {
        "id": "cgaTtcNokCuz"
      },
      "source": [
        "# Kalman Filter"
      ]
    },
    {
      "cell_type": "code",
      "execution_count": null,
      "metadata": {
        "colab": {
          "base_uri": "https://localhost:8080/"
        },
        "id": "AX_sm7qukCUU",
        "outputId": "cb4e836c-4901-40dc-a50a-d4c264f046ca"
      },
      "outputs": [
        {
          "name": "stdout",
          "output_type": "stream",
          "text": [
            "Performing Kalman Filtering ...\n",
            "0.0005972132905287384\n",
            "End of KF\n"
          ]
        }
      ],
      "source": [
        "############################\n",
        "#       Kalman Filter      #\n",
        "############################\n",
        "print(\"Performing Kalman Filtering ...\")\n",
        "kf = KalmanFilter(0.008, 0.1)\n",
        "# Predictions\n",
        "kf_preds = [kf.filter(x) for x in data]\n",
        "# save predictions\n",
        "save_list(kf_preds)\n",
        "# MSE Error from Kalman\n",
        "mse_kf = mse(data, kf_preds)\n",
        "print(mse_kf)\n",
        "print(\"End of KF\")"
      ]
    },
    {
      "cell_type": "markdown",
      "metadata": {
        "id": "lKjqBnw6koTe"
      },
      "source": [
        "# LSTM Filtering"
      ]
    },
    {
      "cell_type": "code",
      "execution_count": null,
      "metadata": {
        "colab": {
          "base_uri": "https://localhost:8080/"
        },
        "id": "YfL53BzzkqS4",
        "outputId": "92a3bcc3-9f14-4f02-95de-7240acbc5502"
      },
      "outputs": [
        {
          "name": "stdout",
          "output_type": "stream",
          "text": [
            "Performing LSTM Filtering ....\n",
            "Epoch: 10, Loss: 0.13368\n",
            "Epoch: 20, Loss: 0.10379\n",
            "Epoch: 30, Loss: 0.03254\n",
            "Epoch: 40, Loss: 0.02401\n",
            "Epoch: 50, Loss: 0.01818\n"
          ]
        }
      ],
      "source": [
        "##########################\n",
        "#       LSTM Filter      #\n",
        "##########################\n",
        "print(\"Performing LSTM Filtering ....\")\n",
        "lstm_preds, mse_lstm = train(DataSet())\n",
        "print(mse_lstm[-1])\n",
        "print(\"End of LSTM Filtering\")"
      ]
    },
    {
      "cell_type": "markdown",
      "metadata": {
        "id": "NBadxdUDlCd5"
      },
      "source": [
        "# LSTM + Kalman Filter"
      ]
    },
    {
      "cell_type": "code",
      "execution_count": null,
      "metadata": {
        "colab": {
          "background_save": true
        },
        "id": "gU7jQIxrlGM2",
        "outputId": "84d5558b-a445-422a-b5e1-1e35e7c796d8"
      },
      "outputs": [
        {
          "name": "stdout",
          "output_type": "stream",
          "text": [
            "Performing LSTM + Kalman Filtering ....\n",
            "Epoch: 10, Loss: 0.11196\n",
            "Epoch: 20, Loss: 0.01281\n",
            "Epoch: 30, Loss: 0.00281\n",
            "Epoch: 40, Loss: 0.00228\n",
            "Epoch: 50, Loss: 0.00072\n",
            "Epoch: 60, Loss: 0.00063\n",
            "Epoch: 70, Loss: 0.00057\n",
            "Epoch: 80, Loss: 0.00053\n",
            "Epoch: 90, Loss: 0.00050\n",
            "Epoch: 100, Loss: 0.00049\n",
            "Epoch: 110, Loss: 0.00048\n",
            "Epoch: 120, Loss: 0.00048\n",
            "Epoch: 130, Loss: 0.00047\n",
            "Epoch: 140, Loss: 0.00046\n",
            "Epoch: 150, Loss: 0.00045\n",
            "0.0004546756681520492\n",
            "End of LSTM+KF\n"
          ]
        }
      ],
      "source": [
        "###################################\n",
        "#       LSTM + Kalman Filter      #\n",
        "###################################\n",
        "print(\"Performing LSTM + Kalman Filtering ....\")\n",
        "lstmkf_preds, mse_lstmkf = train(DataSet(fp='pred.csv'))\n",
        "print(mse_lstmkf[-1])\n",
        "print(\"End of LSTM+KF\")"
      ]
    },
    {
      "cell_type": "markdown",
      "metadata": {
        "id": "mMNX_Euyksq4"
      },
      "source": [
        "# Attention LSTM"
      ]
    },
    {
      "cell_type": "code",
      "execution_count": null,
      "metadata": {
        "colab": {
          "background_save": true,
          "base_uri": "https://localhost:8080/"
        },
        "id": "bUrYLWNFk1Q9",
        "outputId": "e43aeb7d-01e0-4f6b-f700-a85fbd993714"
      },
      "outputs": [
        {
          "name": "stdout",
          "output_type": "stream",
          "text": [
            "Performing Attention LSTM Filtering ....\n",
            "Epoch 1/10\n",
            "20621/20621 - 71s - loss: 0.0026 - 71s/epoch - 3ms/step\n",
            "Epoch 2/10\n",
            "20621/20621 - 65s - loss: 9.2223e-04 - 65s/epoch - 3ms/step\n",
            "Epoch 3/10\n",
            "20621/20621 - 65s - loss: 8.8914e-04 - 65s/epoch - 3ms/step\n",
            "Epoch 4/10\n",
            "20621/20621 - 65s - loss: 8.6112e-04 - 65s/epoch - 3ms/step\n",
            "Epoch 5/10\n",
            "20621/20621 - 66s - loss: 8.4211e-04 - 66s/epoch - 3ms/step\n",
            "Epoch 6/10\n",
            "20621/20621 - 64s - loss: 8.2797e-04 - 64s/epoch - 3ms/step\n",
            "Epoch 7/10\n",
            "20621/20621 - 64s - loss: 8.2453e-04 - 64s/epoch - 3ms/step\n",
            "Epoch 8/10\n",
            "20621/20621 - 64s - loss: 8.1616e-04 - 64s/epoch - 3ms/step\n",
            "Epoch 9/10\n",
            "20621/20621 - 65s - loss: 8.0751e-04 - 65s/epoch - 3ms/step\n",
            "Epoch 10/10\n",
            "20621/20621 - 64s - loss: 8.1077e-04 - 64s/epoch - 3ms/step\n",
            "645/645 [==============================] - 4s 3ms/step - loss: 8.0006e-04\n",
            "72/72 [==============================] - 0s 3ms/step - loss: 0.0026\n",
            "717/717 [==============================] - 3s 3ms/step\n",
            "Train set MSE with attention =  0.0008000610978342593\n",
            "Test set MSE with attention =  0.0025575277395546436\n",
            "End of Attention LSTM Filtering\n"
          ]
        }
      ],
      "source": [
        "######################################\n",
        "#       LSTM + Attention Filter      #\n",
        "# ####################################\n",
        "# move all the training and prediction to GPU\n",
        "gpus = tf.config.list_logical_devices('GPU')\n",
        "# for reproducibility\n",
        "seed = 42\n",
        "strategy = tf.distribute.MirroredStrategy(gpus)\n",
        "with strategy.scope():\n",
        "    print(\"Performing Attention LSTM Filtering ....\")\n",
        "    dataset = DataSet()\n",
        "    look_back = dataset.look_back\n",
        "    data_X, data_Y = dataset.X, dataset.y\n",
        "    # data_X = data_X.reshape(-1, 1, look_back)\n",
        "    x_train,x_test, y_train, y_test = dataset.perfom_splits()\n",
        "    x_train = np.array(x_train)\n",
        "    x_test = np.array(x_test)\n",
        "    y_train = np.array(y_train)\n",
        "    y_test = np.array(y_test)\n",
        "    x_train = np.reshape(x_train, (len(x_train), time_steps, 1))  \n",
        "    x_test = np.reshape(x_test, (len(x_test), time_steps, 1))\n",
        "\n",
        "    # Create the model with attention, train and evaluate\n",
        "    model_attention = create_LSTM_with_attention(hidden_units=hidden_units, dense_units=1, \n",
        "                                    input_shape=(time_steps,1), activation='tanh')\n",
        "\n",
        "    # Train the model\n",
        "    model_attention.fit(x_train, y_train, epochs=epochs, batch_size=1, verbose=2)\n",
        "    # Evalute model\n",
        "    train_mse_attn = model_attention.evaluate(x_train, y_train)\n",
        "    test_mse_attn = model_attention.evaluate(x_test, y_test)\n",
        "\n",
        "    # Predict the model\n",
        "    attn_preds = model_attention.predict(data_X)\n",
        "\n",
        "\n",
        "# Print error\n",
        "print(\"Train set MSE with attention = \", train_mse_attn)\n",
        "print(\"Test set MSE with attention = \", test_mse_attn)\n",
        "print(\"End of Attention LSTM Filtering\")"
      ]
    },
    {
      "cell_type": "code",
      "execution_count": null,
      "metadata": {
        "colab": {
          "background_save": true
        },
        "id": "lUM7G_vMofph",
        "outputId": "f33c0172-5884-423d-fa9f-6c1e511874cb"
      },
      "outputs": [
        {
          "data": {
            "text/plain": [
              "Text(0.5, 1.0, 'Attention LSTM')"
            ]
          },
          "execution_count": 15,
          "metadata": {},
          "output_type": "execute_result"
        },
        {
          "data": {
            "image/png": "[encoded data removed]",
            "text/plain": [
              "<Figure size 432x288 with 1 Axes>"
            ]
          },
          "metadata": {},
          "output_type": "display_data"
        }
      ],
      "source": [
        "# attn_preds.plot()\n",
        "plt.plot(range(len(attn_preds)), attn_preds, color='c', );\n",
        "plt.title(\"Attention LSTM\")"
      ]
    },
    {
      "cell_type": "markdown",
      "metadata": {
        "id": "avYbNMallRI0"
      },
      "source": [
        "# Attention LSTM + Kalman Filter"
      ]
    },
    {
      "cell_type": "code",
      "execution_count": null,
      "metadata": {
        "colab": {
          "background_save": true,
          "base_uri": "https://localhost:8080/"
        },
        "id": "G1ujFHTylUQm",
        "outputId": "1013dcd0-a510-4fd3-d78a-ee62b9cf6945"
      },
      "outputs": [
        {
          "name": "stdout",
          "output_type": "stream",
          "text": [
            "Performing Attention + LSTM + Kalman Filtering ....\n",
            "Epoch 1/10\n",
            "20621/20621 - 69s - loss: 0.0021 - 69s/epoch - 3ms/step\n",
            "Epoch 2/10\n",
            "20621/20621 - 65s - loss: 2.2704e-04 - 65s/epoch - 3ms/step\n",
            "Epoch 3/10\n",
            "20621/20621 - 66s - loss: 1.8358e-04 - 66s/epoch - 3ms/step\n",
            "Epoch 4/10\n",
            "20621/20621 - 65s - loss: 1.5288e-04 - 65s/epoch - 3ms/step\n",
            "Epoch 5/10\n",
            "20621/20621 - 65s - loss: 1.3248e-04 - 65s/epoch - 3ms/step\n",
            "Epoch 6/10\n",
            "20621/20621 - 65s - loss: 1.2202e-04 - 65s/epoch - 3ms/step\n",
            "Epoch 7/10\n",
            "20621/20621 - 65s - loss: 1.1619e-04 - 65s/epoch - 3ms/step\n",
            "Epoch 8/10\n",
            "20621/20621 - 65s - loss: 1.1237e-04 - 65s/epoch - 3ms/step\n",
            "Epoch 9/10\n",
            "20621/20621 - 65s - loss: 1.0899e-04 - 65s/epoch - 3ms/step\n",
            "Epoch 10/10\n",
            "20621/20621 - 65s - loss: 1.0628e-04 - 65s/epoch - 3ms/step\n",
            "645/645 [==============================] - 4s 3ms/step - loss: 9.6643e-05\n",
            "72/72 [==============================] - 0s 3ms/step - loss: 3.4004e-04\n",
            "717/717 [==============================] - 3s 3ms/step\n",
            "Train set MSE with attention =  9.664325625635684e-05\n",
            "Test set MSE with attention =  0.0003400403948035091\n",
            "End of Attention LSTM Filtering\n",
            "End of Attneion+LSTM+KF\n"
          ]
        }
      ],
      "source": [
        "#############################################\n",
        "#       Attention LSTM + Kalman Filter      #\n",
        "#############################################\n",
        "# move all the training and prediction to GPU\n",
        "gpus = tf.config.list_logical_devices('GPU')\n",
        "# for reproducibility\n",
        "seed = 42\n",
        "strategy = tf.distribute.MirroredStrategy(gpus)\n",
        "with strategy.scope():\n",
        "    print(\"Performing Attention + LSTM + Kalman Filtering ....\")\n",
        "    dataset = DataSet(fp=\"pred.csv\")\n",
        "    x_train,x_test, y_train, y_test = dataset.perfom_splits()\n",
        "    x_train = np.array(x_train)\n",
        "    x_test = np.array(x_test)\n",
        "    y_train = np.array(y_train)\n",
        "    y_test = np.array(y_test)\n",
        "    x_train = np.reshape(x_train, (len(x_train), time_steps, 1))  \n",
        "    x_test = np.reshape(x_test, (len(x_test), time_steps, 1))\n",
        "\n",
        "    model_attention_2 = create_LSTM_with_attention(hidden_units=hidden_units, dense_units=1, \n",
        "                                  input_shape=(time_steps,1), activation='tanh')\n",
        "\n",
        "    # Train the model\n",
        "    model_attention_2.fit(x_train, y_train, epochs=epochs, batch_size=1, verbose=2)\n",
        "    # Evalute model\n",
        "    train_mse_attn = model_attention_2.evaluate(x_train, y_train)\n",
        "    test_mse_attn = model_attention_2.evaluate(x_test, y_test)\n",
        "    # Predict the model\n",
        "    attnKf_preds = model_attention_2.predict(dataset.X)\n",
        "\n",
        "# Print error\n",
        "print(\"Train set MSE with attention = \", train_mse_attn)\n",
        "print(\"Test set MSE with attention = \", test_mse_attn)\n",
        "print(\"End of Attention LSTM Filtering\")\n",
        "print(\"End of Attneion+LSTM+KF\")"
      ]
    },
    {
      "cell_type": "markdown",
      "metadata": {
        "id": "FlKNHV5Ed226"
      },
      "source": [
        "\n",
        "# Results Table\n",
        "\n",
        "|Model | MSE|\n",
        "|:-:|:-:|\n",
        "|Kalman| 0.005214702099193888\n",
        "|LSTM | 0.009704818949103355\n",
        "|LSTM + Kalman|0.0027847469318658113\n",
        "|LSTM + Attention|0.00012966430222149938\n",
        "|LSTM + Attention + Kalman| 7.888898835517466e-05\n",
        "\n",
        "\n"
      ]
    },
    {
      "cell_type": "markdown",
      "metadata": {
        "id": "TywIdNhslky1"
      },
      "source": [
        "# Plotting Results"
      ]
    },
    {
      "cell_type": "code",
      "execution_count": null,
      "metadata": {
        "colab": {
          "background_save": true,
          "base_uri": "https://localhost:8080/",
          "height": 295
        },
        "id": "im2VJveslmYZ",
        "outputId": "e0cc2e14-115d-4e32-ed4e-3e639cff4d0b"
      },
      "outputs": [
        {
          "data": {
            "image/png": "[encoded data removed]",
            "text/plain": [
              "<Figure size 432x288 with 1 Axes>"
            ]
          },
          "metadata": {},
          "output_type": "display_data"
        }
      ],
      "source": [
        "\n",
        "# # Compare the MSE Losses\n",
        "# plot_loss(mse_kf, mse_lstm)\n",
        "\n",
        "# Compare the Predictions\n",
        "plot_predictions(kf_preds, lstm_preds, lstmkf_preds, attn_preds, attnKf_preds,data)"
      ]
    },
    {
      "cell_type": "code",
      "execution_count": null,
      "metadata": {
        "colab": {
          "background_save": true,
          "base_uri": "https://localhost:8080/",
          "height": 295
        },
        "id": "jG9s2G3MiZJ-",
        "outputId": "d2fcf556-169a-4b81-9fc1-377c43a57c83"
      },
      "outputs": [
        {
          "data": {
            "image/png": "[encoded data removed]",
            "text/plain": [
              "<Figure size 432x288 with 1 Axes>"
            ]
          },
          "metadata": {},
          "output_type": "display_data"
        }
      ],
      "source": [
        "def plot_predictions(preds1, preds2, preds3, preds4, preds5,  data):\n",
        "    time = range(len(data))\n",
        "    plt.figure()\n",
        "    plt.plot(time, data, color='c', label='Actual')\n",
        "    # plt.plot(time, preds1, color='r', label='KF')\n",
        "    # plt.plot(time, preds2, color='b', label='LSTM')\n",
        "    # plt.plot(time, preds3, color='g', label='LSTM+KF')\n",
        "    # plt.plot(range(len(preds4)), preds4, color='yellow', label='Attention+LSTM')\n",
        "    plt.plot(range(len(preds5)), preds5, color='black', label='Attnetion+LSTM+KF')\n",
        "    plt.title(\"Comparing the Predictions from the models and the Actual Data\")\n",
        "    plt.xlim(0, len(data))\n",
        "    plt.xlabel(\"Time/ns\")\n",
        "    plt.ylabel(\"Amonium\")\n",
        "    plt.legend()\n",
        "    plt.grid()\n",
        "    return plt.show()\n",
        "\n",
        "# Compare the Predictions\n",
        "plot_predictions(kf_preds[:5000], lstm_preds[:5000], lstmkf_preds[:5000], attn_preds[:5000], attnKf_preds[:5000],data[:5000])"
      ]
    },
    {
      "cell_type": "code",
      "execution_count": null,
      "metadata": {
        "colab": {
          "background_save": true,
          "base_uri": "https://localhost:8080/",
          "height": 295
        },
        "id": "KgB2T1chjVfV",
        "outputId": "f0473493-0b04-43c7-feb4-4e4eab461c08"
      },
      "outputs": [
        {
          "data": {
            "image/png": "[encoded data removed]",
            "text/plain": [
              "<Figure size 432x288 with 1 Axes>"
            ]
          },
          "metadata": {},
          "output_type": "display_data"
        }
      ],
      "source": [
        "plot_predictions(kf_preds[5120:len(data)], lstm_preds[5120:len(data)], lstmkf_preds[5120:len(data)], attn_preds[5120:len(data)], attnKf_preds[5120:len(data)],data[5120:len(data)])"
      ]
    },
    {
      "cell_type": "code",
      "execution_count": null,
      "metadata": {
        "colab": {
          "background_save": true
        },
        "id": "pSFjHdXbkxEv"
      },
      "outputs": [],
      "source": []
    }
  ],
  "metadata": {
    "accelerator": "GPU",
    "colab": {
      "collapsed_sections": [],
      "provenance": []
    },
    "kernelspec": {
      "display_name": "Python 3",
      "name": "python3"
    },
    "language_info": {
      "codemirror_mode": {
        "name": "ipython",
        "version": 3
      },
      "file_extension": ".py",
      "mimetype": "text/x-python",
      "name": "python",
      "nbconvert_exporter": "python",
      "pygments_lexer": "ipython3",
      "version": "3.8.18"
    }
  },
  "nbformat": 4,
  "nbformat_minor": 0
}
